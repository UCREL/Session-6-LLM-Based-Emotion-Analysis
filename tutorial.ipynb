{
  "cells": [
    {
      "cell_type": "markdown",
      "metadata": {
        "colab_type": "text",
        "id": "view-in-github"
      },
      "source": [
        "<a href=\"https://colab.research.google.com/github/UCREL/Session-6-LLM-Based-Emotion-Analysis/blob/main/tutorial.ipynb\" target=\"_parent\"><img src=\"https://colab.research.google.com/assets/colab-badge.svg\" alt=\"Open In Colab\"/></a>"
      ]
    },
    {
      "cell_type": "markdown",
      "metadata": {
        "id": "bhrm-cinvBPZ"
      },
      "source": [
        "![](https://github.com/UCREL/Session-6-LLM-Based-Emotion-Analysis/blob/main/banner_llm4emotions_summer_school.png?raw=1)"
      ]
    },
    {
      "cell_type": "markdown",
      "metadata": {
        "id": "HfrP_vfnfBe6"
      },
      "source": [
        "# **Introduction**\n",
        "With the advent the transformer based of large language models (LLMs) such as BERT, LLAMA, Gemini etc., the NLP community has tapped into these models for developing new techniques and methodologies for a wide range of NLP tasks. One key NLP task that can benefit from such resources is the Emotion Analysis, which is a highly challenging NLP task.  \n",
        "\n",
        "In this tutorial, we will learn how to:\n",
        "1. **Apply LLMs to emotion classification tasks**\n",
        "2. **Evaluate the performance of different models**\n",
        "3. **Fine-tune a model to perform better on specific classification tasks**\n",
        "\n",
        "To achieve the objectives above, we will follow the steps in the following sections:\n",
        "\n",
        "- [**Section 1: Preamble**](#preamble) - download tutorial materials and set path to working folder.\n",
        "\n",
        "- [**Section 2: Emotion Dataset Analysis**](#dataset-analysis) - load and analyse example emotion dataset.\n",
        "\n",
        "- [**Section 3: Emotion Classification**](#classification) - perform emotion classification with existing models.\n",
        "\n",
        "- [**Section 4: Model Evaluation**](#evaluation) - evaluate model performances on the dataset.\n",
        "\n",
        "- [**Section 5: Guide to Model Fine-tuning**](#fine-tuning) - a quick guide to fine-tuning an emotion LLM.\n",
        "\n",
        "\n",
        "<!--\n",
        "These content will be pushed to the relevant sections:\n",
        "\n",
        "tune three LLMs including BERT, RoBERTa, T5 and use them to classify emotion of some social media messages.\n",
        "\n",
        "Sample training and testing data will be provided which derive from publicly available GoEmotion corpus, and we will test classifying text using two emotion classification schemes: GoEmotion Scheme (27 emotion categories) and Ekman’s scheme (6 categories). The GoEmotion emotion categories can be mapped into Ekman’s categories.\n",
        "\n",
        "This tutorial will guide you on how to tune LLMs for emotion classification based on the two emotion schemes. To tune LLMs, we need to consider the charecteristics of each LLMs. For BERT and RoBERTa, they are similar which we need to connect them to the classification layer. On the other, T5 can generate text meaning we can ask the model directly by giving it an questions. Therefore, we do not need to create a classification layer for T5.  \n",
        "\n",
        "There are three mains step for tuning LLMs. The first step involves preparing data and setingup datamodule for tuning process. The second step is about creating tuning process. The final step is to review the tuning process by visualising tuning stats, then save the model. We break down these three step as follows:  \n",
        "\n",
        "\n",
        "\n",
        "1. Preparing data  \n",
        "1.1 Load data from files  \n",
        "1.2 Setup datamodule  \n",
        "2. Tuning process   \n",
        "2.1 Setup tuning process    \n",
        "2.2 Setup parameters and load model/tokeniser  \n",
        "2.3 Tune and test the model  \n",
        "3. Review tuning stat    \n",
        "3.1 Visualise tuning stat  \n",
        "3.2 Save the model\n",
        "-->\n"
      ]
    },
    {
      "cell_type": "markdown",
      "metadata": {
        "id": "6KC2atDJaYoj"
      },
      "source": [
        "<a name=\"preamble\"></a>\n",
        "# **Section 1: Preamble**"
      ]
    },
    {
      "cell_type": "markdown",
      "metadata": {
        "id": "oPx92G2yULRZ"
      },
      "source": [
        "## Downloading materials\n",
        "To start, you need to download the materials required for this tutorial into our Colab space. These include the datasets and the python scripts required to perform other tasks.\n",
        "\n",
        "Let's walk you through the process with the following exercise...\n",
        "\n",
        "---"
      ]
    },
    {
      "cell_type": "markdown",
      "metadata": {
        "id": "uUEmFWGk2k2Z"
      },
      "source": [
        "### **Exercise: 🏋️**\n",
        "Copy and paste these two lines of code to download materials from this session's [GitHub repo](https://github.com/UCREL/Session-6-LLM-Based-Emotion-Analysis/blob/main/tutorial.ipynb) and then change into our working directory `Session-6-LLM-Based-Emotion-Analysis`"
      ]
    },
    {
      "cell_type": "markdown",
      "metadata": {
        "id": "3dEplEtm3thQ"
      },
      "source": [
        "#### **1. Clone the repository:**\n",
        "```python\n",
        "!git clone https://github.com/UCREL/Session-6-LLM-Based-Emotion-Analysis.git\n",
        "```"
      ]
    },
    {
      "cell_type": "code",
      "execution_count": null,
      "metadata": {
        "id": "PoVECo_9iRbm"
      },
      "outputs": [],
      "source": [
        "# @title ##### 🚴‍♂️ Clone the repository [Copy the code above and paste below 👇]:\n"
      ]
    },
    {
      "cell_type": "markdown",
      "metadata": {
        "id": "EuPqybZ53Ogn"
      },
      "source": [
        "#### **2. Change into the working directory:**\n",
        "```python\n",
        "%cd Session-6-LLM-Based-Emotion-Analysis\n",
        "```"
      ]
    },
    {
      "cell_type": "code",
      "execution_count": 6,
      "metadata": {
        "id": "M7gOTu3c5M-7"
      },
      "outputs": [],
      "source": [
        "# @title ##### 🚴‍♂️ Change into the working directory [Copy the code above and paste below 👇]:\n"
      ]
    },
    {
      "cell_type": "markdown",
      "metadata": {
        "id": "x1_I3pSK5IdH"
      },
      "source": [
        "---"
      ]
    },
    {
      "cell_type": "markdown",
      "metadata": {
        "id": "ycUiR2cnA-Ob"
      },
      "source": [
        "<a name=\"dataset-analysis\"></a>\n",
        "# **Section 2: Analyse Emotion Dataset**"
      ]
    },
    {
      "cell_type": "markdown",
      "metadata": {
        "id": "35pbVj7N7NTt"
      },
      "source": [
        "Now, that we have everythin we need where we want them, let's begin by defining the function we need to read our data stored in the csv files and analyse them.\n",
        "\n",
        "We will use Python's `pandas` and `matplotlib`  for reading and"
      ]
    },
    {
      "cell_type": "code",
      "execution_count": 1,
      "metadata": {
        "cellView": "form",
        "id": "acew71KyM5fE"
      },
      "outputs": [],
      "source": [
        "# @title ###### **Define functions**\n",
        "import pandas as pd\n",
        "import matplotlib.pyplot as plt\n",
        "import seaborn as sns\n",
        "\n",
        "def load_dataset():\n",
        "  train = pd.read_csv(\"./sample_data/train.csv\")\n",
        "  val = pd.read_csv(\"./sample_data/val.csv\")\n",
        "  test = pd.read_csv(\"./sample_data/test.csv\")\n",
        "  return {'train': train, 'val': val, 'test': test}\n",
        "\n",
        "def plot_data_distribution(df, ax, xlabel=None, ylabel=None, category='ekman_label', kind='bar'):\n",
        "  df.groupby(category).size().plot(\n",
        "      kind=kind, color=sns.palettes.mpl_palette('Dark2'), ax=ax,\n",
        "      xlabel=xlabel, ylabel=ylabel, figsize=(15, 5))\n",
        "  ax.spines[['top', 'right',]].set_visible(False)"
      ]
    },
    {
      "cell_type": "code",
      "execution_count": 2,
      "metadata": {
        "cellView": "form",
        "colab": {
          "base_uri": "https://localhost:8080/"
        },
        "id": "N_pYYeMRp7ya",
        "outputId": "682b6f69-fc4d-4681-eba3-371fc4bd1a97"
      },
      "outputs": [
        {
          "name": "stdout",
          "output_type": "stream",
          "text": [
            "   Training data: 2663\n",
            " Validation data: 511       \n",
            "    Testing data: 508\n",
            "Combined dataset: 3682\n"
          ]
        }
      ],
      "source": [
        "# @title ##### **Loading and Analysing Emotion Data**\n",
        "dataset = load_dataset()\n",
        "combined_dataset = pd.concat([dataset['train'], dataset['val'], dataset['test']])\n",
        "\n",
        "print(f\"{'Training data':>16}: {len(dataset['train'])}\\n{'Validation data':>16}: {len(dataset['val'])} \\\n",
        "      \\n{'Testing data':>16}: {len(dataset['test'])}\\n{'Combined dataset':>16}: {len(combined_dataset)}\")"
      ]
    },
    {
      "cell_type": "markdown",
      "metadata": {
        "id": "-Xhaya6Ukure"
      },
      "source": [
        "There are 7 Ekman and 28 Go-Emotion Categories respectively. The labels and the indexes are shown below:\n",
        "\n",
        "Type | Categories\n",
        "--- | ---\n",
        "**Ekman (7 labels)** | 0: 'anger', 1: 'disgust', 2: 'fear', 3: 'joy', 4: 'neutral', 5: 'sadness', 6: 'surprise'\n",
        "**GoEmotion Labels (28 labels)** | 0: 'admiration', 1: 'amusement', 2: 'anger', 3: 'annoyance', 4: 'approval', 5: 'caring', 6: 'confusion', 7: 'curiosity', 8: 'desire', 9: 'disappointment', <br>10: 'disapproval', 11: 'disgust', 12: 'embarrassment', 13: 'excitement', 14: 'fear', 15: 'gratitude', 16: 'grief', 17: 'joy', 18: 'love',<br> 19: 'nervousness', 20: 'optimism', 21: 'pride', 22: 'realization', 23: 'relief', 24: 'remorse', 25: 'sadness', 26: 'surprise', 27: 'neutral'\n"
      ]
    },
    {
      "cell_type": "code",
      "execution_count": 36,
      "metadata": {
        "colab": {
          "base_uri": "https://localhost:8080/",
          "height": 424
        },
        "id": "Oyv1J5AWuAn4",
        "outputId": "2e4849b8-913c-462d-ffa3-a6f8179d3554"
      },
      "outputs": [
        {
          "data": {
            "application/vnd.google.colaboratory.intrinsic+json": {
              "summary": "{\n  \"name\": \"combined_dataset[:100]\",\n  \"rows\": 100,\n  \"fields\": [\n    {\n      \"column\": \"text\",\n      \"properties\": {\n        \"dtype\": \"string\",\n        \"num_unique_values\": 100,\n        \"samples\": [\n          \"Last time I saw was loooong ago. Basically before LN announced they went for probabilistic routing.\",\n          \"Another sick burn! You're fun when you're wrong.\",\n          \"Lets go with sensitive, because what other reason is there to downvote an opinion \"\n        ],\n        \"semantic_type\": \"\",\n        \"description\": \"\"\n      }\n    },\n    {\n      \"column\": \"go_index\",\n      \"properties\": {\n        \"dtype\": \"number\",\n        \"std\": 0,\n        \"min\": 27,\n        \"max\": 27,\n        \"num_unique_values\": 1,\n        \"samples\": [\n          27\n        ],\n        \"semantic_type\": \"\",\n        \"description\": \"\"\n      }\n    },\n    {\n      \"column\": \"go_label\",\n      \"properties\": {\n        \"dtype\": \"category\",\n        \"num_unique_values\": 1,\n        \"samples\": [\n          \"neutral\"\n        ],\n        \"semantic_type\": \"\",\n        \"description\": \"\"\n      }\n    },\n    {\n      \"column\": \"ekman_label\",\n      \"properties\": {\n        \"dtype\": \"category\",\n        \"num_unique_values\": 1,\n        \"samples\": [\n          \"neutral\"\n        ],\n        \"semantic_type\": \"\",\n        \"description\": \"\"\n      }\n    },\n    {\n      \"column\": \"ekman_index\",\n      \"properties\": {\n        \"dtype\": \"number\",\n        \"std\": 0,\n        \"min\": 4,\n        \"max\": 4,\n        \"num_unique_values\": 1,\n        \"samples\": [\n          4\n        ],\n        \"semantic_type\": \"\",\n        \"description\": \"\"\n      }\n    }\n  ]\n}",
              "type": "dataframe"
            },
            "text/html": [
              "\n",
              "  <div id=\"df-e8cd91a2-b8cc-4da0-85ce-f92e54aba243\" class=\"colab-df-container\">\n",
              "    <div>\n",
              "<style scoped>\n",
              "    .dataframe tbody tr th:only-of-type {\n",
              "        vertical-align: middle;\n",
              "    }\n",
              "\n",
              "    .dataframe tbody tr th {\n",
              "        vertical-align: top;\n",
              "    }\n",
              "\n",
              "    .dataframe thead th {\n",
              "        text-align: right;\n",
              "    }\n",
              "</style>\n",
              "<table border=\"1\" class=\"dataframe\">\n",
              "  <thead>\n",
              "    <tr style=\"text-align: right;\">\n",
              "      <th></th>\n",
              "      <th>text</th>\n",
              "      <th>go_index</th>\n",
              "      <th>go_label</th>\n",
              "      <th>ekman_label</th>\n",
              "      <th>ekman_index</th>\n",
              "    </tr>\n",
              "  </thead>\n",
              "  <tbody>\n",
              "    <tr>\n",
              "      <th>0</th>\n",
              "      <td>[NAME] breaks to love early in the third.</td>\n",
              "      <td>27</td>\n",
              "      <td>neutral</td>\n",
              "      <td>neutral</td>\n",
              "      <td>4</td>\n",
              "    </tr>\n",
              "    <tr>\n",
              "      <th>1</th>\n",
              "      <td>Wait what planet was this on? I dont remember ...</td>\n",
              "      <td>27</td>\n",
              "      <td>neutral</td>\n",
              "      <td>neutral</td>\n",
              "      <td>4</td>\n",
              "    </tr>\n",
              "    <tr>\n",
              "      <th>2</th>\n",
              "      <td>And then everyone clapped</td>\n",
              "      <td>27</td>\n",
              "      <td>neutral</td>\n",
              "      <td>neutral</td>\n",
              "      <td>4</td>\n",
              "    </tr>\n",
              "    <tr>\n",
              "      <th>3</th>\n",
              "      <td>Yea. From my estimation I have about 5 years b...</td>\n",
              "      <td>27</td>\n",
              "      <td>neutral</td>\n",
              "      <td>neutral</td>\n",
              "      <td>4</td>\n",
              "    </tr>\n",
              "    <tr>\n",
              "      <th>4</th>\n",
              "      <td>we're getting our top men right on that.</td>\n",
              "      <td>27</td>\n",
              "      <td>neutral</td>\n",
              "      <td>neutral</td>\n",
              "      <td>4</td>\n",
              "    </tr>\n",
              "    <tr>\n",
              "      <th>...</th>\n",
              "      <td>...</td>\n",
              "      <td>...</td>\n",
              "      <td>...</td>\n",
              "      <td>...</td>\n",
              "      <td>...</td>\n",
              "    </tr>\n",
              "    <tr>\n",
              "      <th>95</th>\n",
              "      <td>Those who can make you believe absurdities can...</td>\n",
              "      <td>27</td>\n",
              "      <td>neutral</td>\n",
              "      <td>neutral</td>\n",
              "      <td>4</td>\n",
              "    </tr>\n",
              "    <tr>\n",
              "      <th>96</th>\n",
              "      <td>Lord, cast your light upon this man, your serv...</td>\n",
              "      <td>27</td>\n",
              "      <td>neutral</td>\n",
              "      <td>neutral</td>\n",
              "      <td>4</td>\n",
              "    </tr>\n",
              "    <tr>\n",
              "      <th>97</th>\n",
              "      <td>Either that, or his wife is *really* attractive.</td>\n",
              "      <td>27</td>\n",
              "      <td>neutral</td>\n",
              "      <td>neutral</td>\n",
              "      <td>4</td>\n",
              "    </tr>\n",
              "    <tr>\n",
              "      <th>98</th>\n",
              "      <td>I’m rooting so hard for [NAME]. You can do it,...</td>\n",
              "      <td>27</td>\n",
              "      <td>neutral</td>\n",
              "      <td>neutral</td>\n",
              "      <td>4</td>\n",
              "    </tr>\n",
              "    <tr>\n",
              "      <th>99</th>\n",
              "      <td>I can write in cursive, so that guy can go fuc...</td>\n",
              "      <td>27</td>\n",
              "      <td>neutral</td>\n",
              "      <td>neutral</td>\n",
              "      <td>4</td>\n",
              "    </tr>\n",
              "  </tbody>\n",
              "</table>\n",
              "<p>100 rows × 5 columns</p>\n",
              "</div>\n",
              "    <div class=\"colab-df-buttons\">\n",
              "\n",
              "  <div class=\"colab-df-container\">\n",
              "    <button class=\"colab-df-convert\" onclick=\"convertToInteractive('df-e8cd91a2-b8cc-4da0-85ce-f92e54aba243')\"\n",
              "            title=\"Convert this dataframe to an interactive table.\"\n",
              "            style=\"display:none;\">\n",
              "\n",
              "  <svg xmlns=\"http://www.w3.org/2000/svg\" height=\"24px\" viewBox=\"0 -960 960 960\">\n",
              "    <path d=\"M120-120v-720h720v720H120Zm60-500h600v-160H180v160Zm220 220h160v-160H400v160Zm0 220h160v-160H400v160ZM180-400h160v-160H180v160Zm440 0h160v-160H620v160ZM180-180h160v-160H180v160Zm440 0h160v-160H620v160Z\"/>\n",
              "  </svg>\n",
              "    </button>\n",
              "\n",
              "  <style>\n",
              "    .colab-df-container {\n",
              "      display:flex;\n",
              "      gap: 12px;\n",
              "    }\n",
              "\n",
              "    .colab-df-convert {\n",
              "      background-color: #E8F0FE;\n",
              "      border: none;\n",
              "      border-radius: 50%;\n",
              "      cursor: pointer;\n",
              "      display: none;\n",
              "      fill: #1967D2;\n",
              "      height: 32px;\n",
              "      padding: 0 0 0 0;\n",
              "      width: 32px;\n",
              "    }\n",
              "\n",
              "    .colab-df-convert:hover {\n",
              "      background-color: #E2EBFA;\n",
              "      box-shadow: 0px 1px 2px rgba(60, 64, 67, 0.3), 0px 1px 3px 1px rgba(60, 64, 67, 0.15);\n",
              "      fill: #174EA6;\n",
              "    }\n",
              "\n",
              "    .colab-df-buttons div {\n",
              "      margin-bottom: 4px;\n",
              "    }\n",
              "\n",
              "    [theme=dark] .colab-df-convert {\n",
              "      background-color: #3B4455;\n",
              "      fill: #D2E3FC;\n",
              "    }\n",
              "\n",
              "    [theme=dark] .colab-df-convert:hover {\n",
              "      background-color: #434B5C;\n",
              "      box-shadow: 0px 1px 3px 1px rgba(0, 0, 0, 0.15);\n",
              "      filter: drop-shadow(0px 1px 2px rgba(0, 0, 0, 0.3));\n",
              "      fill: #FFFFFF;\n",
              "    }\n",
              "  </style>\n",
              "\n",
              "    <script>\n",
              "      const buttonEl =\n",
              "        document.querySelector('#df-e8cd91a2-b8cc-4da0-85ce-f92e54aba243 button.colab-df-convert');\n",
              "      buttonEl.style.display =\n",
              "        google.colab.kernel.accessAllowed ? 'block' : 'none';\n",
              "\n",
              "      async function convertToInteractive(key) {\n",
              "        const element = document.querySelector('#df-e8cd91a2-b8cc-4da0-85ce-f92e54aba243');\n",
              "        const dataTable =\n",
              "          await google.colab.kernel.invokeFunction('convertToInteractive',\n",
              "                                                    [key], {});\n",
              "        if (!dataTable) return;\n",
              "\n",
              "        const docLinkHtml = 'Like what you see? Visit the ' +\n",
              "          '<a target=\"_blank\" href=https://colab.research.google.com/notebooks/data_table.ipynb>data table notebook</a>'\n",
              "          + ' to learn more about interactive tables.';\n",
              "        element.innerHTML = '';\n",
              "        dataTable['output_type'] = 'display_data';\n",
              "        await google.colab.output.renderOutput(dataTable, element);\n",
              "        const docLink = document.createElement('div');\n",
              "        docLink.innerHTML = docLinkHtml;\n",
              "        element.appendChild(docLink);\n",
              "      }\n",
              "    </script>\n",
              "  </div>\n",
              "\n",
              "\n",
              "<div id=\"df-71b3cc8e-36b3-48ac-b413-a4211cc105c6\">\n",
              "  <button class=\"colab-df-quickchart\" onclick=\"quickchart('df-71b3cc8e-36b3-48ac-b413-a4211cc105c6')\"\n",
              "            title=\"Suggest charts\"\n",
              "            style=\"display:none;\">\n",
              "\n",
              "<svg xmlns=\"http://www.w3.org/2000/svg\" height=\"24px\"viewBox=\"0 0 24 24\"\n",
              "     width=\"24px\">\n",
              "    <g>\n",
              "        <path d=\"M19 3H5c-1.1 0-2 .9-2 2v14c0 1.1.9 2 2 2h14c1.1 0 2-.9 2-2V5c0-1.1-.9-2-2-2zM9 17H7v-7h2v7zm4 0h-2V7h2v10zm4 0h-2v-4h2v4z\"/>\n",
              "    </g>\n",
              "</svg>\n",
              "  </button>\n",
              "\n",
              "<style>\n",
              "  .colab-df-quickchart {\n",
              "      --bg-color: #E8F0FE;\n",
              "      --fill-color: #1967D2;\n",
              "      --hover-bg-color: #E2EBFA;\n",
              "      --hover-fill-color: #174EA6;\n",
              "      --disabled-fill-color: #AAA;\n",
              "      --disabled-bg-color: #DDD;\n",
              "  }\n",
              "\n",
              "  [theme=dark] .colab-df-quickchart {\n",
              "      --bg-color: #3B4455;\n",
              "      --fill-color: #D2E3FC;\n",
              "      --hover-bg-color: #434B5C;\n",
              "      --hover-fill-color: #FFFFFF;\n",
              "      --disabled-bg-color: #3B4455;\n",
              "      --disabled-fill-color: #666;\n",
              "  }\n",
              "\n",
              "  .colab-df-quickchart {\n",
              "    background-color: var(--bg-color);\n",
              "    border: none;\n",
              "    border-radius: 50%;\n",
              "    cursor: pointer;\n",
              "    display: none;\n",
              "    fill: var(--fill-color);\n",
              "    height: 32px;\n",
              "    padding: 0;\n",
              "    width: 32px;\n",
              "  }\n",
              "\n",
              "  .colab-df-quickchart:hover {\n",
              "    background-color: var(--hover-bg-color);\n",
              "    box-shadow: 0 1px 2px rgba(60, 64, 67, 0.3), 0 1px 3px 1px rgba(60, 64, 67, 0.15);\n",
              "    fill: var(--button-hover-fill-color);\n",
              "  }\n",
              "\n",
              "  .colab-df-quickchart-complete:disabled,\n",
              "  .colab-df-quickchart-complete:disabled:hover {\n",
              "    background-color: var(--disabled-bg-color);\n",
              "    fill: var(--disabled-fill-color);\n",
              "    box-shadow: none;\n",
              "  }\n",
              "\n",
              "  .colab-df-spinner {\n",
              "    border: 2px solid var(--fill-color);\n",
              "    border-color: transparent;\n",
              "    border-bottom-color: var(--fill-color);\n",
              "    animation:\n",
              "      spin 1s steps(1) infinite;\n",
              "  }\n",
              "\n",
              "  @keyframes spin {\n",
              "    0% {\n",
              "      border-color: transparent;\n",
              "      border-bottom-color: var(--fill-color);\n",
              "      border-left-color: var(--fill-color);\n",
              "    }\n",
              "    20% {\n",
              "      border-color: transparent;\n",
              "      border-left-color: var(--fill-color);\n",
              "      border-top-color: var(--fill-color);\n",
              "    }\n",
              "    30% {\n",
              "      border-color: transparent;\n",
              "      border-left-color: var(--fill-color);\n",
              "      border-top-color: var(--fill-color);\n",
              "      border-right-color: var(--fill-color);\n",
              "    }\n",
              "    40% {\n",
              "      border-color: transparent;\n",
              "      border-right-color: var(--fill-color);\n",
              "      border-top-color: var(--fill-color);\n",
              "    }\n",
              "    60% {\n",
              "      border-color: transparent;\n",
              "      border-right-color: var(--fill-color);\n",
              "    }\n",
              "    80% {\n",
              "      border-color: transparent;\n",
              "      border-right-color: var(--fill-color);\n",
              "      border-bottom-color: var(--fill-color);\n",
              "    }\n",
              "    90% {\n",
              "      border-color: transparent;\n",
              "      border-bottom-color: var(--fill-color);\n",
              "    }\n",
              "  }\n",
              "</style>\n",
              "\n",
              "  <script>\n",
              "    async function quickchart(key) {\n",
              "      const quickchartButtonEl =\n",
              "        document.querySelector('#' + key + ' button');\n",
              "      quickchartButtonEl.disabled = true;  // To prevent multiple clicks.\n",
              "      quickchartButtonEl.classList.add('colab-df-spinner');\n",
              "      try {\n",
              "        const charts = await google.colab.kernel.invokeFunction(\n",
              "            'suggestCharts', [key], {});\n",
              "      } catch (error) {\n",
              "        console.error('Error during call to suggestCharts:', error);\n",
              "      }\n",
              "      quickchartButtonEl.classList.remove('colab-df-spinner');\n",
              "      quickchartButtonEl.classList.add('colab-df-quickchart-complete');\n",
              "    }\n",
              "    (() => {\n",
              "      let quickchartButtonEl =\n",
              "        document.querySelector('#df-71b3cc8e-36b3-48ac-b413-a4211cc105c6 button');\n",
              "      quickchartButtonEl.style.display =\n",
              "        google.colab.kernel.accessAllowed ? 'block' : 'none';\n",
              "    })();\n",
              "  </script>\n",
              "</div>\n",
              "\n",
              "    </div>\n",
              "  </div>\n"
            ],
            "text/plain": [
              "                                                 text  go_index go_label  \\\n",
              "0           [NAME] breaks to love early in the third.        27  neutral   \n",
              "1   Wait what planet was this on? I dont remember ...        27  neutral   \n",
              "2                           And then everyone clapped        27  neutral   \n",
              "3   Yea. From my estimation I have about 5 years b...        27  neutral   \n",
              "4            we're getting our top men right on that.        27  neutral   \n",
              "..                                                ...       ...      ...   \n",
              "95  Those who can make you believe absurdities can...        27  neutral   \n",
              "96  Lord, cast your light upon this man, your serv...        27  neutral   \n",
              "97  Either that, or his wife is *really* attractive.         27  neutral   \n",
              "98  I’m rooting so hard for [NAME]. You can do it,...        27  neutral   \n",
              "99  I can write in cursive, so that guy can go fuc...        27  neutral   \n",
              "\n",
              "   ekman_label  ekman_index  \n",
              "0      neutral            4  \n",
              "1      neutral            4  \n",
              "2      neutral            4  \n",
              "3      neutral            4  \n",
              "4      neutral            4  \n",
              "..         ...          ...  \n",
              "95     neutral            4  \n",
              "96     neutral            4  \n",
              "97     neutral            4  \n",
              "98     neutral            4  \n",
              "99     neutral            4  \n",
              "\n",
              "[100 rows x 5 columns]"
            ]
          },
          "execution_count": 36,
          "metadata": {},
          "output_type": "execute_result"
        }
      ],
      "source": [
        "# @title ##### **Let's see what our data looks like...** <br> The code below shows the top 100 rows. Adjust the value as you wish to see more (or less)...\n",
        "combined_dataset[:100]"
      ]
    },
    {
      "cell_type": "code",
      "execution_count": 91,
      "metadata": {
        "colab": {
          "base_uri": "https://localhost:8080/",
          "height": 561
        },
        "id": "gu22hXLhJ8iU",
        "outputId": "7aef97e4-d34b-4362-b27f-3f5f0625b149"
      },
      "outputs": [
        {
          "data": {
            "image/png": "[encoded data removed]",
            "text/plain": [
              "<Figure size 1500x500 with 1 Axes>"
            ]
          },
          "metadata": {},
          "output_type": "display_data"
        }
      ],
      "source": [
        "plot_data_distribution(df=combined_dataset, ax=plt.gca(), ylabel='No of instances', xlabel='Go-Emotion Categories', category='go_label', kind='bar')"
      ]
    },
    {
      "cell_type": "code",
      "execution_count": null,
      "metadata": {
        "id": "dyQ-kpVX8-Qr"
      },
      "outputs": [],
      "source": [
        "# plot_data_distribution(df=combined_dataset, ax=plt.gca(), xlabel='dataset', category='go_label')"
      ]
    },
    {
      "cell_type": "code",
      "execution_count": null,
      "metadata": {
        "colab": {
          "base_uri": "https://localhost:8080/",
          "height": 335
        },
        "id": "5OxVV0-atl1r",
        "outputId": "2b9c182a-92ef-476d-d962-3ed875afc1b1"
      },
      "outputs": [
        {
          "data": {
            "image/png": "[encoded data removed]",
            "text/plain": [
              "<Figure size 1500x500 with 3 Axes>"
            ]
          },
          "metadata": {},
          "output_type": "display_data"
        }
      ],
      "source": [
        "fig, axes = plt.subplots(1, 3, figsize=(15, 5))\n",
        "fig.suptitle('Ekman Labels Distribution')\n",
        "plot_data_distribution(datadf=traindf, ax=axes[0], xlabel='train data')\n",
        "plot_data_distribution(datadf=valdf,   ax=axes[1], xlabel='validation data')\n",
        "plot_data_distribution(datadf=testdf,  ax=axes[2], xlabel='test data')\n",
        "plt.tight_layout()"
      ]
    },
    {
      "cell_type": "code",
      "execution_count": null,
      "metadata": {
        "colab": {
          "base_uri": "https://localhost:8080/",
          "height": 430
        },
        "id": "BrGQFX0YuXcj",
        "outputId": "ba6bcc0e-399d-4f46-e26e-b1c7f7377d37"
      },
      "outputs": [
        {
          "data": {
            "image/png": "[encoded data removed]",
            "text/plain": [
              "<Figure size 640x480 with 1 Axes>"
            ]
          },
          "metadata": {},
          "output_type": "display_data"
        }
      ],
      "source": [
        "from matplotlib import pyplot as plt\n",
        "import seaborn as sns\n",
        "testdf.groupby('ekman_label').size().plot(kind='barh', color=sns.palettes.mpl_palette('Dark2'))\n",
        "plt.gca().spines[['top', 'right',]].set_visible(False)"
      ]
    },
    {
      "cell_type": "markdown",
      "metadata": {
        "id": "NpQNEWeTULRZ"
      },
      "source": [
        "<a name=\"classification\"></a>\n",
        "# **Section 3: Emotion Classification**"
      ]
    },
    {
      "cell_type": "markdown",
      "metadata": {
        "id": "8_LHnlULULRb"
      },
      "source": [
        "Let's try some emotion classification using the dataset in the previous section.  \n",
        "\n",
        "This section will show you how to classify emotion using BERT and T5 available at <a herf=\"https://huggingface.co/\">Hugging Face</a>. Before performing emotion classification, we need to pre-process our data and create emotion classifier. We will show you how to pre-process data and create emotion classifier based on BERT and T5.   \n",
        "\n",
        "## BERT Emotion Classifier\n",
        "\n",
        "1. Data pre-processing - define a function to store texts and their emotion labels and pre-process the texts, which is text tokenization. We use torch Dataset for the implementation."
      ]
    },
    {
      "cell_type": "code",
      "execution_count": 54,
      "metadata": {
        "colab": {
          "base_uri": "https://localhost:8080/",
          "height": 424
        },
        "id": "mlF1hoIXULRb",
        "outputId": "dee5afaf-8238-4d58-b9f8-2c1987c09849"
      },
      "outputs": [],
      "source": [
        "from torch.utils.data import DataLoader, Dataset\n",
        "import torch\n",
        "\n",
        "class BERTDataset(Dataset):\n",
        "    def __init__(self, df, tokenizer, max_length, datacolumn, labelcolumn):\n",
        "        self.data = df\n",
        "        self.tokenizer = tokenizer\n",
        "        self.max_length = max_length\n",
        "        self.texts = self.data[datacolumn].tolist()\n",
        "        self.labels = self.data[labelcolumn].tolist()\n",
        "\n",
        "    def __len__(self):\n",
        "        return(len(self.texts))\n",
        "\n",
        "    def __getitem__(self,idx):\n",
        "        # data pre-processing\n",
        "        text = self.texts[idx]\n",
        "        label = self.labels[idx]\n",
        "        # tokenization\n",
        "        encoding = self.tokenizer.encode_plus(\n",
        "                                                text,\n",
        "                                                max_length = self.max_length,\n",
        "                                                add_special_tokens = True,\n",
        "                                                padding = 'max_length',\n",
        "                                                truncation = True,\n",
        "                                                return_attention_mask = True,\n",
        "                                                return_tensors = 'pt',)\n",
        "\n",
        "        return {'input_ids': encoding['input_ids'].flatten(),\n",
        "                'attention_mask': encoding['attention_mask'].flatten(),\n",
        "                'label': torch.tensor(label),\n",
        "                }"
      ]
    },
    {
      "cell_type": "markdown",
      "metadata": {},
      "source": [
        "2. BERT Emotion Classifier"
      ]
    },
    {
      "cell_type": "code",
      "execution_count": 102,
      "metadata": {},
      "outputs": [],
      "source": [
        "from torch import nn\n",
        "import pytorch_lightning as pl\n",
        "\n",
        "class BERTClassifier(pl.LightningModule):\n",
        "    def __init__(self, model, num_class, emotion_index):\n",
        "        super(BERTClassifier, self).__init__()\n",
        "        self.model = model\n",
        "        self.num_class = num_class\n",
        "        self.emotion_index = emotion_index\n",
        "        self.pre_classifier = nn.Linear(768, 768)\n",
        "        self.dropout = nn.Dropout(0.1)\n",
        "        self.classifier = nn.Linear(768, self.num_class)\n",
        "\n",
        "\n",
        "    def forward(self, input_ids, attention_mask):\n",
        "        outputs = self.model(input_ids = input_ids, attention_mask = attention_mask)\n",
        "        pooler = outputs[0][:, 0]\n",
        "        pooler = self.pre_classifier(pooler)\n",
        "        pooler = nn.ReLU()(pooler)\n",
        "        pooler = self.dropout(pooler)\n",
        "        logits = self.classifier(pooler)\n",
        "\n",
        "        return logits\n",
        "\n",
        "    def emo_classification(self, dataset):\n",
        "        predictions = []\n",
        "        for _d in dataset:\n",
        "            logits = self(_d['input_ids'].unsqueeze(0), _d['attention_mask'].unsqueeze(0))\n",
        "            _, pred = torch.max(logits, dim = 1)\n",
        "            index= pred.numpy()[0]\n",
        "            predictions.append(self.emotion_index[index])\n",
        "        return predictions\n"
      ]
    },
    {
      "cell_type": "markdown",
      "metadata": {
        "id": "Gq-ATLFsULRc"
      },
      "source": [
        "3. try classifying emotion"
      ]
    },
    {
      "cell_type": "code",
      "execution_count": 121,
      "metadata": {},
      "outputs": [],
      "source": [
        "from transformers import BertModel\n",
        "from transformers import BertTokenizer\n",
        "\n",
        "CLASSES = 7\n",
        "DATACOLUMN = 'text'\n",
        "LABLECOLUMN = 'ekman_index'\n",
        "EMOTION_INDEX = {0: 'anger', 1: 'disgust', 2: 'fear', 3: 'joy', 4: 'neutral', 5: 'sadness', 6: 'surprise'}\n",
        "\n",
        "BERT_MODEL = BertModel.from_pretrained(\"bert-base-uncased\")\n",
        "BERT_TOKENIZER = BertTokenizer.from_pretrained(\"bert-base-uncased\", do_lower_case=True)\n",
        "\n",
        "data = dataset['test'].sample(n=10, random_state=1)\n",
        "\n",
        "BERTcls = BERTClassifier(\n",
        "    model=BERT_MODEL,\n",
        "    num_class=CLASSES,\n",
        "    emotion_index = EMOTION_INDEX)\n",
        "\n",
        "Bertdata = BERTDataset(df = data, \n",
        "                       tokenizer = BERT_TOKENIZER, \n",
        "                       max_length = BERT_TOKENIZER.model_max_length,\n",
        "                       datacolumn = DATACOLUMN, \n",
        "                       labelcolumn = LABLECOLUMN)"
      ]
    },
    {
      "cell_type": "code",
      "execution_count": 122,
      "metadata": {},
      "outputs": [
        {
          "data": {
            "text/plain": [
              "['neutral',\n",
              " 'neutral',\n",
              " 'fear',\n",
              " 'neutral',\n",
              " 'fear',\n",
              " 'disgust',\n",
              " 'neutral',\n",
              " 'fear',\n",
              " 'neutral',\n",
              " 'fear']"
            ]
          },
          "execution_count": 122,
          "metadata": {},
          "output_type": "execute_result"
        }
      ],
      "source": [
        "# first five sentence\n",
        "bert_pred = BERTcls.emo_classification(Bertdata)\n",
        "bert_pred"
      ]
    },
    {
      "cell_type": "markdown",
      "metadata": {},
      "source": [
        "## T5 Emotion Classifier"
      ]
    },
    {
      "cell_type": "code",
      "execution_count": 123,
      "metadata": {},
      "outputs": [
        {
          "name": "stderr",
          "output_type": "stream",
          "text": [
            "Special tokens have been added in the vocabulary, make sure the associated word embeddings are fine-tuned or trained.\n"
          ]
        }
      ],
      "source": [
        "from transformers import T5Tokenizer, T5ForConditionalGeneration\n",
        "\n",
        "T5_MODEL = T5ForConditionalGeneration.from_pretrained(\"t5-small\", return_dict=True)\n",
        "T5_TOKENIZER = T5Tokenizer.from_pretrained(\"t5-small\")"
      ]
    },
    {
      "cell_type": "code",
      "execution_count": 124,
      "metadata": {},
      "outputs": [],
      "source": [
        "class T5Dataset(Dataset):\n",
        "    def __init__(self, df, tokenizer, text_maxlength, label_maxlength, datacolumn, labelcolumn):\n",
        "        self.data = df\n",
        "        self.tokenizer = tokenizer\n",
        "        self.text_maxlength = text_maxlength\n",
        "        self.label_maxlength = label_maxlength\n",
        "        self.texts = self.data[datacolumn].tolist()\n",
        "        self.labels = self.data[labelcolumn].tolist()\n",
        "\n",
        "    def __len__(self):\n",
        "        return(len(self.texts))\n",
        "\n",
        "    def __getitem__(self,idx):\n",
        "        # T5 transformers performs different tasks by prepending the particular prefix to the input text.\n",
        "        # In order to avoid dtype mismatch, as T5 is text-to-text transformer, the datatype must be string\n",
        "        text = \"emotion classification:\" + str(self.texts[idx])\n",
        "        label = str(self.labels[idx]).lower()\n",
        "        text_tokenizer = self.tokenizer(text, max_length=self.text_maxlength, padding=\"max_length\")\n",
        "        label_tokenizer = self.tokenizer(label, max_length=self.label_maxlength, padding=\"max_length\")\n",
        "\n",
        "        return {\n",
        "            \"input_ids\": torch.tensor(text_tokenizer[\"input_ids\"], dtype=torch.long),\n",
        "            \"attention_mask\": torch.tensor(text_tokenizer[\"attention_mask\"], dtype=torch.long),\n",
        "            \"label_ids\": torch.tensor(label_tokenizer[\"input_ids\"], dtype=torch.long),\n",
        "            \"label_mask\": torch.tensor(label_tokenizer[\"attention_mask\"], dtype=torch.long)\n",
        "        }"
      ]
    },
    {
      "cell_type": "code",
      "execution_count": 125,
      "metadata": {},
      "outputs": [],
      "source": [
        "class T5Classifier(pl.LightningModule):\n",
        "    def __init__(self, model, tokenizer, generated_max_length):\n",
        "        super(T5Classifier, self).__init__()\n",
        "        self.model = model\n",
        "        self.tokenizer = tokenizer\n",
        "        self.generated_max_length = generated_max_length\n",
        "    \n",
        "    def emo_classification(self,dataset):\n",
        "        predictions = []\n",
        "        for _d in dataset:\n",
        "            pred = self.model.generate(input_ids=_d['input_ids'].unsqueeze(0),\n",
        "                                         attention_mask=_d['attention_mask'].unsqueeze(0),\n",
        "                                         max_length=self.generated_max_length)\n",
        "            _pred = self.tokenizer.decode(pred[0],skip_special_tokens=True)\n",
        "            predictions.append(_pred)\n",
        "        return predictions\n",
        "        "
      ]
    },
    {
      "cell_type": "code",
      "execution_count": 126,
      "metadata": {},
      "outputs": [
        {
          "data": {
            "text/html": [
              "<div>\n",
              "<style scoped>\n",
              "    .dataframe tbody tr th:only-of-type {\n",
              "        vertical-align: middle;\n",
              "    }\n",
              "\n",
              "    .dataframe tbody tr th {\n",
              "        vertical-align: top;\n",
              "    }\n",
              "\n",
              "    .dataframe thead th {\n",
              "        text-align: right;\n",
              "    }\n",
              "</style>\n",
              "<table border=\"1\" class=\"dataframe\">\n",
              "  <thead>\n",
              "    <tr style=\"text-align: right;\">\n",
              "      <th></th>\n",
              "      <th>Emotion</th>\n",
              "      <th>No. tokens</th>\n",
              "      <th>Token ids</th>\n",
              "    </tr>\n",
              "  </thead>\n",
              "  <tbody>\n",
              "    <tr>\n",
              "      <th>0</th>\n",
              "      <td>neutral</td>\n",
              "      <td>2</td>\n",
              "      <td>[7163, 1]</td>\n",
              "    </tr>\n",
              "    <tr>\n",
              "      <th>1</th>\n",
              "      <td>anger</td>\n",
              "      <td>2</td>\n",
              "      <td>[11213, 1]</td>\n",
              "    </tr>\n",
              "    <tr>\n",
              "      <th>2</th>\n",
              "      <td>fear</td>\n",
              "      <td>2</td>\n",
              "      <td>[2971, 1]</td>\n",
              "    </tr>\n",
              "    <tr>\n",
              "      <th>3</th>\n",
              "      <td>surprise</td>\n",
              "      <td>2</td>\n",
              "      <td>[4158, 1]</td>\n",
              "    </tr>\n",
              "    <tr>\n",
              "      <th>4</th>\n",
              "      <td>joy</td>\n",
              "      <td>2</td>\n",
              "      <td>[3922, 1]</td>\n",
              "    </tr>\n",
              "    <tr>\n",
              "      <th>5</th>\n",
              "      <td>sadness</td>\n",
              "      <td>2</td>\n",
              "      <td>[24784, 1]</td>\n",
              "    </tr>\n",
              "    <tr>\n",
              "      <th>6</th>\n",
              "      <td>disgust</td>\n",
              "      <td>2</td>\n",
              "      <td>[27635, 1]</td>\n",
              "    </tr>\n",
              "  </tbody>\n",
              "</table>\n",
              "</div>"
            ],
            "text/plain": [
              "    Emotion  No. tokens   Token ids\n",
              "0   neutral           2   [7163, 1]\n",
              "1     anger           2  [11213, 1]\n",
              "2      fear           2   [2971, 1]\n",
              "3  surprise           2   [4158, 1]\n",
              "4       joy           2   [3922, 1]\n",
              "5   sadness           2  [24784, 1]\n",
              "6   disgust           2  [27635, 1]"
            ]
          },
          "execution_count": 126,
          "metadata": {},
          "output_type": "execute_result"
        }
      ],
      "source": [
        "DATACOLUMN = 'text'\n",
        "LABLECOLUMN = 'ekman_label'\n",
        "\n",
        "generated_output_length = [(e, len(T5_TOKENIZER.encode(e)), T5_TOKENIZER.encode(e)) for e in dataset['train'][LABLECOLUMN].unique()]\n",
        "output_length_df = pd.DataFrame(generated_output_length, columns=['Emotion', 'No. tokens', 'Token ids'])\n",
        "output_length_df"
      ]
    },
    {
      "cell_type": "code",
      "execution_count": 128,
      "metadata": {},
      "outputs": [],
      "source": [
        "OUTPUTLENGTH = output_length_df['No. tokens'].max()\n",
        "\n",
        "T5cls = T5Classifier(\n",
        "    model=T5_MODEL,\n",
        "    tokenizer=T5_TOKENIZER,\n",
        "    generated_max_length=2)\n",
        "\n",
        "t5data = T5Dataset(df = data, \n",
        "                       tokenizer = T5_TOKENIZER, \n",
        "                       text_maxlength = T5_TOKENIZER.model_max_length,\n",
        "                       label_maxlength = 2,\n",
        "                       datacolumn = DATACOLUMN, \n",
        "                       labelcolumn = LABLECOLUMN)"
      ]
    },
    {
      "cell_type": "code",
      "execution_count": 129,
      "metadata": {},
      "outputs": [
        {
          "data": {
            "text/plain": [
              "['', '', '', '', '', '', 'Kla', '', '', '']"
            ]
          },
          "execution_count": 129,
          "metadata": {},
          "output_type": "execute_result"
        }
      ],
      "source": [
        "t5_pred = T5cls.emo_classification(t5data)\n",
        "t5_pred"
      ]
    },
    {
      "cell_type": "markdown",
      "metadata": {},
      "source": [
        "<a name=\"evaluation\"></a>\n",
        "# **Section 4: Model Evaluation**"
      ]
    },
    {
      "cell_type": "markdown",
      "metadata": {},
      "source": [
        "evaluation"
      ]
    },
    {
      "cell_type": "code",
      "execution_count": 130,
      "metadata": {},
      "outputs": [],
      "source": [
        "def accuracy(actual_label,pred):\n",
        "    return sum([1 if a == p else 0 for a,p in zip(actual_label,pred)])/len(pred)"
      ]
    },
    {
      "cell_type": "code",
      "execution_count": 131,
      "metadata": {},
      "outputs": [
        {
          "name": "stderr",
          "output_type": "stream",
          "text": [
            "C:\\Users\\font-\\AppData\\Local\\Temp\\ipykernel_22564\\388913471.py:2: SettingWithCopyWarning: \n",
            "A value is trying to be set on a copy of a slice from a DataFrame.\n",
            "Try using .loc[row_indexer,col_indexer] = value instead\n",
            "\n",
            "See the caveats in the documentation: https://pandas.pydata.org/pandas-docs/stable/user_guide/indexing.html#returning-a-view-versus-a-copy\n",
            "  data['bert'] = bert_pred\n",
            "C:\\Users\\font-\\AppData\\Local\\Temp\\ipykernel_22564\\388913471.py:3: SettingWithCopyWarning: \n",
            "A value is trying to be set on a copy of a slice from a DataFrame.\n",
            "Try using .loc[row_indexer,col_indexer] = value instead\n",
            "\n",
            "See the caveats in the documentation: https://pandas.pydata.org/pandas-docs/stable/user_guide/indexing.html#returning-a-view-versus-a-copy\n",
            "  data['t5'] = t5_pred\n"
          ]
        },
        {
          "data": {
            "text/html": [
              "<div>\n",
              "<style scoped>\n",
              "    .dataframe tbody tr th:only-of-type {\n",
              "        vertical-align: middle;\n",
              "    }\n",
              "\n",
              "    .dataframe tbody tr th {\n",
              "        vertical-align: top;\n",
              "    }\n",
              "\n",
              "    .dataframe thead th {\n",
              "        text-align: right;\n",
              "    }\n",
              "</style>\n",
              "<table border=\"1\" class=\"dataframe\">\n",
              "  <thead>\n",
              "    <tr style=\"text-align: right;\">\n",
              "      <th></th>\n",
              "      <th>text</th>\n",
              "      <th>ekman_label</th>\n",
              "      <th>bert</th>\n",
              "      <th>t5</th>\n",
              "    </tr>\n",
              "  </thead>\n",
              "  <tbody>\n",
              "    <tr>\n",
              "      <th>444</th>\n",
              "      <td>Oh my [NAME] that's so awkward</td>\n",
              "      <td>sadness</td>\n",
              "      <td>neutral</td>\n",
              "      <td></td>\n",
              "    </tr>\n",
              "    <tr>\n",
              "      <th>344</th>\n",
              "      <td>Are you saying the ones who suffer most are bi...</td>\n",
              "      <td>surprise</td>\n",
              "      <td>neutral</td>\n",
              "      <td></td>\n",
              "    </tr>\n",
              "    <tr>\n",
              "      <th>47</th>\n",
              "      <td>Excited for this project to be finished when I...</td>\n",
              "      <td>joy</td>\n",
              "      <td>fear</td>\n",
              "      <td></td>\n",
              "    </tr>\n",
              "    <tr>\n",
              "      <th>67</th>\n",
              "      <td>Thanks for remembering. I have since added to ...</td>\n",
              "      <td>joy</td>\n",
              "      <td>neutral</td>\n",
              "      <td></td>\n",
              "    </tr>\n",
              "    <tr>\n",
              "      <th>363</th>\n",
              "      <td>\"I have been abusive.\" This was before I even ...</td>\n",
              "      <td>surprise</td>\n",
              "      <td>fear</td>\n",
              "      <td></td>\n",
              "    </tr>\n",
              "    <tr>\n",
              "      <th>132</th>\n",
              "      <td>I forsee success in your future endeavors.</td>\n",
              "      <td>joy</td>\n",
              "      <td>disgust</td>\n",
              "      <td></td>\n",
              "    </tr>\n",
              "    <tr>\n",
              "      <th>293</th>\n",
              "      <td>Yes, and I looooooove it 😂😂</td>\n",
              "      <td>joy</td>\n",
              "      <td>neutral</td>\n",
              "      <td>Kla</td>\n",
              "    </tr>\n",
              "    <tr>\n",
              "      <th>31</th>\n",
              "      <td>Great quote.</td>\n",
              "      <td>joy</td>\n",
              "      <td>fear</td>\n",
              "      <td></td>\n",
              "    </tr>\n",
              "    <tr>\n",
              "      <th>218</th>\n",
              "      <td>Did you even read the post? Literally the firs...</td>\n",
              "      <td>surprise</td>\n",
              "      <td>neutral</td>\n",
              "      <td></td>\n",
              "    </tr>\n",
              "    <tr>\n",
              "      <th>90</th>\n",
              "      <td>Idaho lot rather we stop with these amas.</td>\n",
              "      <td>neutral</td>\n",
              "      <td>fear</td>\n",
              "      <td></td>\n",
              "    </tr>\n",
              "  </tbody>\n",
              "</table>\n",
              "</div>"
            ],
            "text/plain": [
              "                                                  text ekman_label     bert  \\\n",
              "444                     Oh my [NAME] that's so awkward     sadness  neutral   \n",
              "344  Are you saying the ones who suffer most are bi...    surprise  neutral   \n",
              "47   Excited for this project to be finished when I...         joy     fear   \n",
              "67   Thanks for remembering. I have since added to ...         joy  neutral   \n",
              "363  \"I have been abusive.\" This was before I even ...    surprise     fear   \n",
              "132         I forsee success in your future endeavors.         joy  disgust   \n",
              "293                        Yes, and I looooooove it 😂😂         joy  neutral   \n",
              "31                                        Great quote.         joy     fear   \n",
              "218  Did you even read the post? Literally the firs...    surprise  neutral   \n",
              "90           Idaho lot rather we stop with these amas.     neutral     fear   \n",
              "\n",
              "      t5  \n",
              "444       \n",
              "344       \n",
              "47        \n",
              "67        \n",
              "363       \n",
              "132       \n",
              "293  Kla  \n",
              "31        \n",
              "218       \n",
              "90        "
            ]
          },
          "execution_count": 131,
          "metadata": {},
          "output_type": "execute_result"
        }
      ],
      "source": [
        "data = data[['text','ekman_label']]\n",
        "data['bert'] = bert_pred\n",
        "data['t5'] = t5_pred\n",
        "data"
      ]
    },
    {
      "cell_type": "code",
      "execution_count": 132,
      "metadata": {},
      "outputs": [
        {
          "data": {
            "text/plain": [
              "0.0"
            ]
          },
          "execution_count": 132,
          "metadata": {},
          "output_type": "execute_result"
        }
      ],
      "source": [
        "acc_bert = accuracy(data.ekman_label.tolist(), data.bert.to_list())\n",
        "acc_bert"
      ]
    },
    {
      "cell_type": "code",
      "execution_count": 133,
      "metadata": {},
      "outputs": [
        {
          "data": {
            "text/plain": [
              "0.0"
            ]
          },
          "execution_count": 133,
          "metadata": {},
          "output_type": "execute_result"
        }
      ],
      "source": [
        "acc_t5 = accuracy(data.ekman_label.tolist(), data.t5.to_list())\n",
        "acc_t5"
      ]
    },
    {
      "cell_type": "markdown",
      "metadata": {},
      "source": [
        "<a name=\"fine-tuning\"></a>\n",
        "# **Section 5: Guide to Model Fine-tuning**"
      ]
    },
    {
      "cell_type": "code",
      "execution_count": null,
      "metadata": {
        "colab": {
          "base_uri": "https://localhost:8080/"
        },
        "id": "OlDWMe7IoWsd",
        "outputId": "3eb9a274-c514-4324-9337-8be5b2800f1f"
      },
      "outputs": [],
      "source": [
        "pip install pytorch-lightning"
      ]
    },
    {
      "cell_type": "code",
      "execution_count": null,
      "metadata": {
        "id": "yJJGum9AULRd"
      },
      "outputs": [],
      "source": [
        "import pytorch_lightning as pl\n",
        "\n",
        "class EmoDataModule(pl.LightningDataModule):\n",
        "    def __init__(self, traindf, valdf, testdf, batch_size, tokenizer, max_length, datalabel, classlabel):\n",
        "        super().__init__()\n",
        "        self.traindf = traindf\n",
        "        self.valdf = valdf\n",
        "        self.testdf = testdf\n",
        "        self.datalabel = datalabel\n",
        "        self.classlabel = classlabel\n",
        "        # parameters\n",
        "        self.batch_size = batch_size\n",
        "        self.max_length = max_length\n",
        "        # tokenizer\n",
        "        self.tokenizer = tokenizer\n",
        "\n",
        "    def setup(self, stage=None):\n",
        "        self.train_dataset = EmoDataset( self.traindf, self.tokenizer, self.max_length, self.datalabel, self.classlabel)\n",
        "        self.val_dataset = EmoDataset( self.valdf, self.tokenizer, self.max_length, self.datalabel, self.classlabel)\n",
        "        self.test_dataset = EmoDataset( self.testdf, self.tokenizer, self.max_length, self.datalabel, self.classlabel)\n",
        "\n",
        "    def train_dataloader(self):\n",
        "        return DataLoader( self.train_dataset, batch_size=self.batch_size, shuffle=True)\n",
        "\n",
        "    def val_dataloader(self):\n",
        "        return DataLoader( self.val_dataset, batch_size=self.batch_size)\n",
        "\n",
        "    def test_dataloader(self):\n",
        "        return DataLoader( self.test_dataset, batch_size=self.batch_size)"
      ]
    },
    {
      "cell_type": "markdown",
      "metadata": {
        "id": "KfGgMlf9ULRe"
      },
      "source": [
        "Now the data is ready.\n",
        "***"
      ]
    },
    {
      "cell_type": "markdown",
      "metadata": {
        "id": "k2eIXx5kULRe"
      },
      "source": [
        "Tuning process  \n",
        "\n",
        "Now, the datamodule is ready. The next step is to create a tuning process. As we use BERT, we need to create a classification layer and connect it the BERT. This example will show you how to create and connect it to BERT. We will implement this using pytorch lightning by creating a simple model with structure as follows:  \n",
        "\n",
        "BERT  \n",
        "Linear layer  \n",
        "ReLU  \n",
        "Drop out layer  \n",
        "Classifier layer  \n",
        "CrossEntropyLoss  \n",
        "\n",
        "The code below show the implementation.\n",
        "  \n"
      ]
    },
    {
      "cell_type": "code",
      "execution_count": null,
      "metadata": {
        "id": "vHVTBdszULRe"
      },
      "outputs": [],
      "source": [
        "from torch import nn\n",
        "from transformers import AdamW, get_linear_schedule_with_warmup\n",
        "\n",
        "class EmoClassifier(pl.LightningModule):\n",
        "    def __init__(self, model, num_class, learning_rate, epoch, train_size):\n",
        "        super(EmoClassifier, self).__init__()\n",
        "        self.model = model\n",
        "        self.num_class = num_class\n",
        "        self.learning_rate = learning_rate\n",
        "        self.epoch = epoch\n",
        "        self.train_size = train_size\n",
        "        self.pre_classifier = nn.Linear(768, 768)\n",
        "        self.dropout = nn.Dropout(0.1)\n",
        "        self.classifier = nn.Linear(768, self.num_class)\n",
        "\n",
        "\n",
        "    def forward(self, input_ids, attention_mask):\n",
        "        outputs = self.model(input_ids = input_ids, attention_mask = attention_mask)\n",
        "        pooler = outputs[0][:, 0]\n",
        "        pooler = self.pre_classifier(pooler)\n",
        "        pooler = nn.ReLU()(pooler)\n",
        "        pooler = self.dropout(pooler)\n",
        "        logits = self.classifier(pooler)\n",
        "\n",
        "        return logits\n",
        "\n",
        "    def training_step(self, batch, batch_idx):\n",
        "        input_ids = batch[\"input_ids\"]\n",
        "        attention_mask = batch[\"attention_mask\"]\n",
        "        labels = batch[\"label\"]\n",
        "\n",
        "        logits = self(input_ids, attention_mask)\n",
        "        _, preds = torch.max(logits, dim = 1)\n",
        "        loss = nn.CrossEntropyLoss()(logits, labels)\n",
        "\n",
        "        self.log('train_loss', loss, on_epoch=True)\n",
        "        self.log('train_acc',(preds == labels).sum() / len(labels), on_epoch=True)\n",
        "        return loss\n",
        "\n",
        "    def validation_step(self, batch, batch_idx):\n",
        "        input_ids = batch[\"input_ids\"]\n",
        "        attention_mask = batch[\"attention_mask\"]\n",
        "        labels = batch[\"label\"]\n",
        "\n",
        "        logits = self(input_ids, attention_mask)\n",
        "        _, preds = torch.max(logits, dim = 1)\n",
        "        loss = nn.CrossEntropyLoss()(logits, labels)\n",
        "\n",
        "        self.log('val_loss', loss)\n",
        "        self.log('val_acc', (preds == labels).sum() / len(labels))\n",
        "        return loss\n",
        "\n",
        "    def test_step(self, batch, batch_idx):\n",
        "        input_ids = batch[\"input_ids\"]\n",
        "        attention_mask = batch[\"attention_mask\"]\n",
        "        labels = batch[\"label\"]\n",
        "        logits = self(input_ids=input_ids,\n",
        "                      attention_mask=attention_mask)\n",
        "        loss = nn.CrossEntropyLoss()(logits, labels)\n",
        "        _, preds = torch.max(logits, dim = 1)\n",
        "\n",
        "        self.log('test_loss', loss)\n",
        "        self.log('test_acc', (preds == labels).sum() / len(labels))\n",
        "\n",
        "    def configure_optimizers(self):\n",
        "        optimizer = AdamW(self.model.parameters(), lr=self.learning_rate)\n",
        "        scheduler = get_linear_schedule_with_warmup(\n",
        "                optimizer, num_warmup_steps=0,\n",
        "                num_training_steps=self.epoch*self.train_size)\n",
        "        return {'optimizer': optimizer, 'lr_scheduler': scheduler}"
      ]
    },
    {
      "cell_type": "markdown",
      "metadata": {
        "id": "ezY36nXiULRe"
      },
      "source": [
        "The tuning loop is ready. We will load the model and setup parameters for tuning. In our example, we use BERT model named \"bert-base-uncased\" available on huggingface website. We load it using transformers package."
      ]
    },
    {
      "cell_type": "code",
      "execution_count": null,
      "metadata": {
        "colab": {
          "base_uri": "https://localhost:8080/",
          "height": 301,
          "referenced_widgets": [
            "1ed4fbc9be8442ca9c494a29f44628f9",
            "ab581f3b41a94744844299f83c80f296",
            "3cd0383bfaa04e75a28968455e4fdc8c",
            "ac9f86d77fe340568102011d7aa1b651",
            "13f371d7946e44d7a1e3985b5cebb1b4",
            "fa033a2a14424dbe90111203184fafb8",
            "c4d65fac80234ae68fcc7cb181367c7a",
            "27e13ca4e87b43058c359753f8ba0387",
            "2a728ed2b1c44422a8e45f25558ab6cb",
            "ca9f3e1fe62a4c5d97dc4f2dbc24e744",
            "bb9b8ed3e48d40cf959792bf002bbe44",
            "e0351f90107c4e2cbe4d5697a4c0706e",
            "20cd5f5a94834c2691550d1f2f2c4009",
            "92b65742e05b4b22adb2a0dd427cf3df",
            "806e568556c044deadef68445df1767b",
            "3c4a0346c8544aadb10f7d727506ccde",
            "70110f0b6bcb45b594e5f11c48f13db8",
            "3b7fdab9655f445ca9df09dc498fd05e",
            "b70062b3737846d98edef4a5069490b7",
            "d920ebda24c54d2ea4bc78415e88a46e",
            "81c7f87499104479aa7e362a1a6643ef",
            "ad7c8ed877214e468478407d74f351fd",
            "c157c4df08c0443e89499bf18e6f2159",
            "d4c565fa649147db9e172cd5740c0675",
            "5d828c77f77a4bdeb88ae4f579562bdd",
            "808c4723d90343798a13e4bb43504e0a",
            "2eae35b776504ad69bf8600a51c87ff1",
            "0b9a0f86573e4c5eaa1ef2a80f36a2ca",
            "7762ad851c2e4f85a8b02d5925d52175",
            "c1d1ac64ca834a4697667a534a546c47",
            "ce7a9ec7d56349bb8a8d2d5ae1685177",
            "d63027f597db43ef921fecb192e86341",
            "2addf98dbfe6440ea3bd64882dd57426",
            "5389991b4163470eb76c8c710706c190",
            "95bc6c97d29e4e558f7efccacf8ba8c3",
            "dcabd2bf5f2d45f19e7f49d976f41202",
            "68421dd8ab5c4c66af1fc1e4cd5516f4",
            "134f3aed1cb9418d930792b58c2261e2",
            "fad6b07320994c1ca5f2d0db0e8ba436",
            "02ca9c20647b471796d82c92252a19c7",
            "101660bc543e4e4591dd936989261557",
            "7fcc6e8fc93349a4ab80c035330df122",
            "20f0695909eb4aa790db46465260d33b",
            "0a474ebed5384fb2a037857765d237ea",
            "8fc390e10e29440a8008f8e2e6922e3c",
            "a299f208792e4c4684d5d5546ee18815",
            "4ab2ec8d20e44143a449c303c49ba6ef",
            "a99c28f30d944b6995b3feaa9ff501bd",
            "7d7deae95c8b4c7fa0c47d71b0ffa8f8",
            "f0167d1b79d44dceb00190179597dd18",
            "c107112f6b8e4c19af1ab89fcc9f98d1",
            "1b3f86719ee34f6fbb28ad523e17738d",
            "16f80f5eeee941bda1b76d369b62be18",
            "fe10d084efef4006b4bc349c7c00b9a4",
            "ef701423aa1c46e7bd1c32b8b33ba493"
          ]
        },
        "id": "wmEaFLvTULRf",
        "outputId": "0b326ae5-b054-4404-d33b-95d229fd8690"
      },
      "outputs": [
        {
          "name": "stderr",
          "output_type": "stream",
          "text": [
            "/usr/local/lib/python3.10/dist-packages/huggingface_hub/utils/_token.py:89: UserWarning: \n",
            "The secret `HF_TOKEN` does not exist in your Colab secrets.\n",
            "To authenticate with the Hugging Face Hub, create a token in your settings tab (https://huggingface.co/settings/tokens), set it as secret in your Google Colab and restart your session.\n",
            "You will be able to reuse this secret in all of your notebooks.\n",
            "Please note that authentication is recommended but still optional to access public models or datasets.\n",
            "  warnings.warn(\n"
          ]
        },
        {
          "data": {
            "application/vnd.jupyter.widget-view+json": {
              "model_id": "1ed4fbc9be8442ca9c494a29f44628f9",
              "version_major": 2,
              "version_minor": 0
            },
            "text/plain": [
              "config.json:   0%|          | 0.00/570 [00:00<?, ?B/s]"
            ]
          },
          "metadata": {},
          "output_type": "display_data"
        },
        {
          "data": {
            "application/vnd.jupyter.widget-view+json": {
              "model_id": "e0351f90107c4e2cbe4d5697a4c0706e",
              "version_major": 2,
              "version_minor": 0
            },
            "text/plain": [
              "model.safetensors:   0%|          | 0.00/440M [00:00<?, ?B/s]"
            ]
          },
          "metadata": {},
          "output_type": "display_data"
        },
        {
          "data": {
            "application/vnd.jupyter.widget-view+json": {
              "model_id": "c157c4df08c0443e89499bf18e6f2159",
              "version_major": 2,
              "version_minor": 0
            },
            "text/plain": [
              "tokenizer_config.json:   0%|          | 0.00/48.0 [00:00<?, ?B/s]"
            ]
          },
          "metadata": {},
          "output_type": "display_data"
        },
        {
          "data": {
            "application/vnd.jupyter.widget-view+json": {
              "model_id": "5389991b4163470eb76c8c710706c190",
              "version_major": 2,
              "version_minor": 0
            },
            "text/plain": [
              "vocab.txt:   0%|          | 0.00/232k [00:00<?, ?B/s]"
            ]
          },
          "metadata": {},
          "output_type": "display_data"
        },
        {
          "data": {
            "application/vnd.jupyter.widget-view+json": {
              "model_id": "8fc390e10e29440a8008f8e2e6922e3c",
              "version_major": 2,
              "version_minor": 0
            },
            "text/plain": [
              "tokenizer.json:   0%|          | 0.00/466k [00:00<?, ?B/s]"
            ]
          },
          "metadata": {},
          "output_type": "display_data"
        }
      ],
      "source": [
        "from transformers import BertModel\n",
        "from transformers import BertTokenizer\n",
        "\n",
        "MODEL = BertModel.from_pretrained(\"bert-base-uncased\")\n",
        "TOKENIZER = BertTokenizer.from_pretrained(\"bert-base-uncased\", do_lower_case=True)"
      ]
    },
    {
      "cell_type": "markdown",
      "metadata": {
        "id": "o-Bdw_5TULRf"
      },
      "source": [
        "The parameters of tunging process are shown in the below code. These parameters can be adjusted."
      ]
    },
    {
      "cell_type": "code",
      "execution_count": null,
      "metadata": {
        "id": "KJnbY2nvULRf"
      },
      "outputs": [],
      "source": [
        "EPOCH = 2\n",
        "CLASSES = 7 # emotion in ekman is 6 + 1 neutral\n",
        "BATCH_SIZE = 8\n",
        "LEARNING_RATE = 2e-5\n",
        "TRAIN_SIZE = len(traindf)\n",
        "MAX_LENGTH = TOKENIZER.model_max_length #512"
      ]
    },
    {
      "cell_type": "markdown",
      "metadata": {
        "id": "2yRG1i7kULRf"
      },
      "source": [
        "Before tuning the model, we need to record the tuning stat. In out case, we use CSVLogger for the job. We save the log file to \"./logs/BERT_exp\" directory."
      ]
    },
    {
      "cell_type": "code",
      "execution_count": null,
      "metadata": {
        "colab": {
          "base_uri": "https://localhost:8080/"
        },
        "id": "FWKHU3KjvlgT",
        "outputId": "e0efd48b-54f4-456c-ff66-eed553688e7e"
      },
      "outputs": [
        {
          "name": "stdout",
          "output_type": "stream",
          "text": [
            "Collecting lightning\n",
            "  Downloading lightning-2.3.3-py3-none-any.whl (808 kB)\n",
            "\u001b[?25l     \u001b[90m━━━━━━━━━━━━━━━━━━━━━━━━━━━━━━━━━━━━━━━━\u001b[0m \u001b[32m0.0/808.5 kB\u001b[0m \u001b[31m?\u001b[0m eta \u001b[36m-:--:--\u001b[0m\r\u001b[2K     \u001b[91m━━━━━━━\u001b[0m\u001b[91m╸\u001b[0m\u001b[90m━━━━━━━━━━━━━━━━━━━━━━━━━━━━━━━━\u001b[0m \u001b[32m153.6/808.5 kB\u001b[0m \u001b[31m4.3 MB/s\u001b[0m eta \u001b[36m0:00:01\u001b[0m\r\u001b[2K     \u001b[91m━━━━━━━━━━━━━━━━━━━━━━━━━━━━━━━\u001b[0m\u001b[91m╸\u001b[0m\u001b[90m━━━━━━━━\u001b[0m \u001b[32m645.1/808.5 kB\u001b[0m \u001b[31m9.1 MB/s\u001b[0m eta \u001b[36m0:00:01\u001b[0m\r\u001b[2K     \u001b[90m━━━━━━━━━━━━━━━━━━━━━━━━━━━━━━━━━━━━━━━━\u001b[0m \u001b[32m808.5/808.5 kB\u001b[0m \u001b[31m8.3 MB/s\u001b[0m eta \u001b[36m0:00:00\u001b[0m\n",
            "\u001b[?25hRequirement already satisfied: PyYAML<8.0,>=5.4 in /usr/local/lib/python3.10/dist-packages (from lightning) (6.0.1)\n",
            "Requirement already satisfied: fsspec[http]<2026.0,>=2022.5.0 in /usr/local/lib/python3.10/dist-packages (from lightning) (2023.6.0)\n",
            "Requirement already satisfied: lightning-utilities<2.0,>=0.10.0 in /usr/local/lib/python3.10/dist-packages (from lightning) (0.11.3.post0)\n",
            "Requirement already satisfied: numpy<3.0,>=1.17.2 in /usr/local/lib/python3.10/dist-packages (from lightning) (1.25.2)\n",
            "Requirement already satisfied: packaging<25.0,>=20.0 in /usr/local/lib/python3.10/dist-packages (from lightning) (24.1)\n",
            "Requirement already satisfied: torch<4.0,>=2.0.0 in /usr/local/lib/python3.10/dist-packages (from lightning) (2.3.0+cu121)\n",
            "Requirement already satisfied: torchmetrics<3.0,>=0.7.0 in /usr/local/lib/python3.10/dist-packages (from lightning) (1.4.0.post0)\n",
            "Requirement already satisfied: tqdm<6.0,>=4.57.0 in /usr/local/lib/python3.10/dist-packages (from lightning) (4.66.4)\n",
            "Requirement already satisfied: typing-extensions<6.0,>=4.4.0 in /usr/local/lib/python3.10/dist-packages (from lightning) (4.12.2)\n",
            "Requirement already satisfied: pytorch-lightning in /usr/local/lib/python3.10/dist-packages (from lightning) (2.3.3)\n",
            "Requirement already satisfied: requests in /usr/local/lib/python3.10/dist-packages (from fsspec[http]<2026.0,>=2022.5.0->lightning) (2.31.0)\n",
            "Requirement already satisfied: aiohttp!=4.0.0a0,!=4.0.0a1 in /usr/local/lib/python3.10/dist-packages (from fsspec[http]<2026.0,>=2022.5.0->lightning) (3.9.5)\n",
            "Requirement already satisfied: setuptools in /usr/local/lib/python3.10/dist-packages (from lightning-utilities<2.0,>=0.10.0->lightning) (67.7.2)\n",
            "Requirement already satisfied: filelock in /usr/local/lib/python3.10/dist-packages (from torch<4.0,>=2.0.0->lightning) (3.15.4)\n",
            "Requirement already satisfied: sympy in /usr/local/lib/python3.10/dist-packages (from torch<4.0,>=2.0.0->lightning) (1.13.0)\n",
            "Requirement already satisfied: networkx in /usr/local/lib/python3.10/dist-packages (from torch<4.0,>=2.0.0->lightning) (3.3)\n",
            "Requirement already satisfied: jinja2 in /usr/local/lib/python3.10/dist-packages (from torch<4.0,>=2.0.0->lightning) (3.1.4)\n",
            "Requirement already satisfied: nvidia-cuda-nvrtc-cu12==12.1.105 in /usr/local/lib/python3.10/dist-packages (from torch<4.0,>=2.0.0->lightning) (12.1.105)\n",
            "Requirement already satisfied: nvidia-cuda-runtime-cu12==12.1.105 in /usr/local/lib/python3.10/dist-packages (from torch<4.0,>=2.0.0->lightning) (12.1.105)\n",
            "Requirement already satisfied: nvidia-cuda-cupti-cu12==12.1.105 in /usr/local/lib/python3.10/dist-packages (from torch<4.0,>=2.0.0->lightning) (12.1.105)\n",
            "Requirement already satisfied: nvidia-cudnn-cu12==8.9.2.26 in /usr/local/lib/python3.10/dist-packages (from torch<4.0,>=2.0.0->lightning) (8.9.2.26)\n",
            "Requirement already satisfied: nvidia-cublas-cu12==12.1.3.1 in /usr/local/lib/python3.10/dist-packages (from torch<4.0,>=2.0.0->lightning) (12.1.3.1)\n",
            "Requirement already satisfied: nvidia-cufft-cu12==11.0.2.54 in /usr/local/lib/python3.10/dist-packages (from torch<4.0,>=2.0.0->lightning) (11.0.2.54)\n",
            "Requirement already satisfied: nvidia-curand-cu12==10.3.2.106 in /usr/local/lib/python3.10/dist-packages (from torch<4.0,>=2.0.0->lightning) (10.3.2.106)\n",
            "Requirement already satisfied: nvidia-cusolver-cu12==11.4.5.107 in /usr/local/lib/python3.10/dist-packages (from torch<4.0,>=2.0.0->lightning) (11.4.5.107)\n",
            "Requirement already satisfied: nvidia-cusparse-cu12==12.1.0.106 in /usr/local/lib/python3.10/dist-packages (from torch<4.0,>=2.0.0->lightning) (12.1.0.106)\n",
            "Requirement already satisfied: nvidia-nccl-cu12==2.20.5 in /usr/local/lib/python3.10/dist-packages (from torch<4.0,>=2.0.0->lightning) (2.20.5)\n",
            "Requirement already satisfied: nvidia-nvtx-cu12==12.1.105 in /usr/local/lib/python3.10/dist-packages (from torch<4.0,>=2.0.0->lightning) (12.1.105)\n",
            "Requirement already satisfied: triton==2.3.0 in /usr/local/lib/python3.10/dist-packages (from torch<4.0,>=2.0.0->lightning) (2.3.0)\n",
            "Requirement already satisfied: nvidia-nvjitlink-cu12 in /usr/local/lib/python3.10/dist-packages (from nvidia-cusolver-cu12==11.4.5.107->torch<4.0,>=2.0.0->lightning) (12.5.82)\n",
            "Requirement already satisfied: aiosignal>=1.1.2 in /usr/local/lib/python3.10/dist-packages (from aiohttp!=4.0.0a0,!=4.0.0a1->fsspec[http]<2026.0,>=2022.5.0->lightning) (1.3.1)\n",
            "Requirement already satisfied: attrs>=17.3.0 in /usr/local/lib/python3.10/dist-packages (from aiohttp!=4.0.0a0,!=4.0.0a1->fsspec[http]<2026.0,>=2022.5.0->lightning) (23.2.0)\n",
            "Requirement already satisfied: frozenlist>=1.1.1 in /usr/local/lib/python3.10/dist-packages (from aiohttp!=4.0.0a0,!=4.0.0a1->fsspec[http]<2026.0,>=2022.5.0->lightning) (1.4.1)\n",
            "Requirement already satisfied: multidict<7.0,>=4.5 in /usr/local/lib/python3.10/dist-packages (from aiohttp!=4.0.0a0,!=4.0.0a1->fsspec[http]<2026.0,>=2022.5.0->lightning) (6.0.5)\n",
            "Requirement already satisfied: yarl<2.0,>=1.0 in /usr/local/lib/python3.10/dist-packages (from aiohttp!=4.0.0a0,!=4.0.0a1->fsspec[http]<2026.0,>=2022.5.0->lightning) (1.9.4)\n",
            "Requirement already satisfied: async-timeout<5.0,>=4.0 in /usr/local/lib/python3.10/dist-packages (from aiohttp!=4.0.0a0,!=4.0.0a1->fsspec[http]<2026.0,>=2022.5.0->lightning) (4.0.3)\n",
            "Requirement already satisfied: MarkupSafe>=2.0 in /usr/local/lib/python3.10/dist-packages (from jinja2->torch<4.0,>=2.0.0->lightning) (2.1.5)\n",
            "Requirement already satisfied: charset-normalizer<4,>=2 in /usr/local/lib/python3.10/dist-packages (from requests->fsspec[http]<2026.0,>=2022.5.0->lightning) (3.3.2)\n",
            "Requirement already satisfied: idna<4,>=2.5 in /usr/local/lib/python3.10/dist-packages (from requests->fsspec[http]<2026.0,>=2022.5.0->lightning) (3.7)\n",
            "Requirement already satisfied: urllib3<3,>=1.21.1 in /usr/local/lib/python3.10/dist-packages (from requests->fsspec[http]<2026.0,>=2022.5.0->lightning) (2.0.7)\n",
            "Requirement already satisfied: certifi>=2017.4.17 in /usr/local/lib/python3.10/dist-packages (from requests->fsspec[http]<2026.0,>=2022.5.0->lightning) (2024.7.4)\n",
            "Requirement already satisfied: mpmath<1.4,>=1.1.0 in /usr/local/lib/python3.10/dist-packages (from sympy->torch<4.0,>=2.0.0->lightning) (1.3.0)\n",
            "Installing collected packages: lightning\n",
            "Successfully installed lightning-2.3.3\n"
          ]
        }
      ],
      "source": [
        "pip install lightning"
      ]
    },
    {
      "cell_type": "code",
      "execution_count": null,
      "metadata": {
        "colab": {
          "base_uri": "https://localhost:8080/",
          "height": 349
        },
        "id": "8XF6cy0rULRf",
        "outputId": "5cb3f197-714a-47ea-ba5f-aa5231c334fe"
      },
      "outputs": [
        {
          "ename": "ModuleNotFoundError",
          "evalue": "No module named 'lightning'",
          "output_type": "error",
          "traceback": [
            "\u001b[0;31m---------------------------------------------------------------------------\u001b[0m",
            "\u001b[0;31mModuleNotFoundError\u001b[0m                       Traceback (most recent call last)",
            "\u001b[0;32m<ipython-input-34-b6ad7ae97a7b>\u001b[0m in \u001b[0;36m<cell line: 1>\u001b[0;34m()\u001b[0m\n\u001b[0;32m----> 1\u001b[0;31m \u001b[0;32mfrom\u001b[0m \u001b[0mlightning\u001b[0m\u001b[0;34m.\u001b[0m\u001b[0mpytorch\u001b[0m\u001b[0;34m.\u001b[0m\u001b[0mloggers\u001b[0m \u001b[0;32mimport\u001b[0m \u001b[0mCSVLogger\u001b[0m\u001b[0;34m\u001b[0m\u001b[0;34m\u001b[0m\u001b[0m\n\u001b[0m\u001b[1;32m      2\u001b[0m \u001b[0;34m\u001b[0m\u001b[0m\n\u001b[1;32m      3\u001b[0m \u001b[0mlogger\u001b[0m \u001b[0;34m=\u001b[0m \u001b[0mCSVLogger\u001b[0m\u001b[0;34m(\u001b[0m\u001b[0;34m\"./logs\"\u001b[0m\u001b[0;34m,\u001b[0m \u001b[0mname\u001b[0m\u001b[0;34m=\u001b[0m\u001b[0;34m'BERT_exp'\u001b[0m\u001b[0;34m,\u001b[0m \u001b[0mversion\u001b[0m\u001b[0;34m=\u001b[0m\u001b[0;36m1\u001b[0m\u001b[0;34m)\u001b[0m\u001b[0;34m\u001b[0m\u001b[0;34m\u001b[0m\u001b[0m\n",
            "\u001b[0;31mModuleNotFoundError\u001b[0m: No module named 'lightning'",
            "",
            "\u001b[0;31m---------------------------------------------------------------------------\u001b[0;32m\nNOTE: If your import is failing due to a missing package, you can\nmanually install dependencies using either !pip or !apt.\n\nTo view examples of installing some common dependencies, click the\n\"Open Examples\" button below.\n\u001b[0;31m---------------------------------------------------------------------------\u001b[0m\n"
          ]
        }
      ],
      "source": [
        "from lightning.pytorch.loggers import CSVLogger\n",
        "\n",
        "logger = CSVLogger(\"./logs\", name='BERT_exp', version=1)"
      ]
    },
    {
      "cell_type": "markdown",
      "metadata": {
        "id": "abHfFH3OULRf"
      },
      "source": [
        "Now everything is ready. We will start tuning!!!"
      ]
    },
    {
      "cell_type": "code",
      "execution_count": null,
      "metadata": {
        "id": "Lqc3P-EDULRf",
        "outputId": "13fbd253-4b30-436f-f5ce-247a18308d76"
      },
      "outputs": [
        {
          "data": {
            "text/plain": [
              "EmoClassifier(\n",
              "  (model): BertModel(\n",
              "    (embeddings): BertEmbeddings(\n",
              "      (word_embeddings): Embedding(30522, 768, padding_idx=0)\n",
              "      (position_embeddings): Embedding(512, 768)\n",
              "      (token_type_embeddings): Embedding(2, 768)\n",
              "      (LayerNorm): LayerNorm((768,), eps=1e-12, elementwise_affine=True)\n",
              "      (dropout): Dropout(p=0.1, inplace=False)\n",
              "    )\n",
              "    (encoder): BertEncoder(\n",
              "      (layer): ModuleList(\n",
              "        (0-11): 12 x BertLayer(\n",
              "          (attention): BertAttention(\n",
              "            (self): BertSdpaSelfAttention(\n",
              "              (query): Linear(in_features=768, out_features=768, bias=True)\n",
              "              (key): Linear(in_features=768, out_features=768, bias=True)\n",
              "              (value): Linear(in_features=768, out_features=768, bias=True)\n",
              "              (dropout): Dropout(p=0.1, inplace=False)\n",
              "            )\n",
              "            (output): BertSelfOutput(\n",
              "              (dense): Linear(in_features=768, out_features=768, bias=True)\n",
              "              (LayerNorm): LayerNorm((768,), eps=1e-12, elementwise_affine=True)\n",
              "              (dropout): Dropout(p=0.1, inplace=False)\n",
              "            )\n",
              "          )\n",
              "          (intermediate): BertIntermediate(\n",
              "            (dense): Linear(in_features=768, out_features=3072, bias=True)\n",
              "            (intermediate_act_fn): GELUActivation()\n",
              "          )\n",
              "          (output): BertOutput(\n",
              "            (dense): Linear(in_features=3072, out_features=768, bias=True)\n",
              "            (LayerNorm): LayerNorm((768,), eps=1e-12, elementwise_affine=True)\n",
              "            (dropout): Dropout(p=0.1, inplace=False)\n",
              "          )\n",
              "        )\n",
              "      )\n",
              "    )\n",
              "    (pooler): BertPooler(\n",
              "      (dense): Linear(in_features=768, out_features=768, bias=True)\n",
              "      (activation): Tanh()\n",
              "    )\n",
              "  )\n",
              "  (pre_classifier): Linear(in_features=768, out_features=768, bias=True)\n",
              "  (dropout): Dropout(p=0.1, inplace=False)\n",
              "  (classifier): Linear(in_features=768, out_features=7, bias=True)\n",
              ")"
            ]
          },
          "execution_count": 12,
          "metadata": {},
          "output_type": "execute_result"
        }
      ],
      "source": [
        "# call for datamudule\n",
        "EkmanDatamodule = EmoDataModule(traindf=traindf,\n",
        "                               valdf=valdf,\n",
        "                               testdf=testdf,\n",
        "                               tokenizer=TOKENIZER,\n",
        "                               batch_size=BATCH_SIZE,\n",
        "                               max_length=MAX_LENGTH,\n",
        "                               datalabel=DATALABEL,\n",
        "                               classlabel=CLASSLABEL)\n",
        "# call setup function\n",
        "EkmanDatamodule.setup()\n",
        "\n",
        "# get the classifier\n",
        "BERTcls = EmoClassifier(\n",
        "    model=MODEL,\n",
        "    num_class=CLASSES,\n",
        "    learning_rate=LEARNING_RATE,\n",
        "    epoch=EPOCH,\n",
        "    train_size=TRAIN_SIZE\n",
        ")\n",
        "\n",
        "# print the model structure\n",
        "BERTcls"
      ]
    },
    {
      "cell_type": "markdown",
      "metadata": {
        "id": "MfaVO22ZULRf"
      },
      "source": [
        "The tuning is finish. We can test the model and procedd to the visualisation step."
      ]
    },
    {
      "cell_type": "code",
      "execution_count": null,
      "metadata": {
        "colab": {
          "referenced_widgets": [
            "61f4531724254d2db3c3fc91e63de73b",
            "8bd95d49608443bf80f42cd418dd0724",
            "ddceac0494b04d9899a0ef98e70b8561",
            "669ffc3738984497b457cd99b2a1a378"
          ]
        },
        "id": "f447wcVfULRg",
        "outputId": "a0d71be7-84a2-4084-a729-719b818e3885"
      },
      "outputs": [
        {
          "name": "stderr",
          "output_type": "stream",
          "text": [
            "Using 16bit Automatic Mixed Precision (AMP)\n",
            "GPU available: True (cuda), used: True\n",
            "TPU available: False, using: 0 TPU cores\n",
            "IPU available: False, using: 0 IPUs\n",
            "HPU available: False, using: 0 HPUs\n",
            "You are using a CUDA device ('NVIDIA GeForce RTX 3070 Laptop GPU') that has Tensor Cores. To properly utilize them, you should set `torch.set_float32_matmul_precision('medium' | 'high')` which will trade-off precision for performance. For more details, read https://pytorch.org/docs/stable/generated/torch.set_float32_matmul_precision.html#torch.set_float32_matmul_precision\n",
            "e:\\miniconda3\\envs\\phdenv\\Lib\\site-packages\\lightning\\fabric\\loggers\\csv_logs.py:268: Experiment logs directory ./logs\\BERT_exp\\version_1 exists and is not empty. Previous log files in this directory will be deleted when the new ones are saved!\n",
            "e:\\miniconda3\\envs\\phdenv\\Lib\\site-packages\\pytorch_lightning\\callbacks\\model_checkpoint.py:653: Checkpoint directory ./logs\\BERT_exp\\version_1\\checkpoints exists and is not empty.\n",
            "LOCAL_RANK: 0 - CUDA_VISIBLE_DEVICES: [0]\n",
            "e:\\miniconda3\\envs\\phdenv\\Lib\\site-packages\\transformers\\optimization.py:588: FutureWarning: This implementation of AdamW is deprecated and will be removed in a future version. Use the PyTorch implementation torch.optim.AdamW instead, or set `no_deprecation_warning=True` to disable this warning\n",
            "  warnings.warn(\n",
            "\n",
            "  | Name           | Type      | Params\n",
            "---------------------------------------------\n",
            "0 | model          | BertModel | 109 M \n",
            "1 | pre_classifier | Linear    | 590 K \n",
            "2 | dropout        | Dropout   | 0     \n",
            "3 | classifier     | Linear    | 5.4 K \n",
            "---------------------------------------------\n",
            "110 M     Trainable params\n",
            "0         Non-trainable params\n",
            "110 M     Total params\n",
            "440.313   Total estimated model params size (MB)\n"
          ]
        },
        {
          "data": {
            "application/vnd.jupyter.widget-view+json": {
              "model_id": "61f4531724254d2db3c3fc91e63de73b",
              "version_major": 2,
              "version_minor": 0
            },
            "text/plain": [
              "Sanity Checking: |          | 0/? [00:00<?, ?it/s]"
            ]
          },
          "metadata": {},
          "output_type": "display_data"
        },
        {
          "name": "stderr",
          "output_type": "stream",
          "text": [
            "e:\\miniconda3\\envs\\phdenv\\Lib\\site-packages\\pytorch_lightning\\trainer\\connectors\\data_connector.py:441: The 'val_dataloader' does not have many workers which may be a bottleneck. Consider increasing the value of the `num_workers` argument` to `num_workers=15` in the `DataLoader` to improve performance.\n",
            "e:\\miniconda3\\envs\\phdenv\\Lib\\site-packages\\transformers\\models\\bert\\modeling_bert.py:435: UserWarning: 1Torch was not compiled with flash attention. (Triggered internally at ..\\aten\\src\\ATen\\native\\transformers\\cuda\\sdp_utils.cpp:455.)\n",
            "  attn_output = torch.nn.functional.scaled_dot_product_attention(\n",
            "e:\\miniconda3\\envs\\phdenv\\Lib\\site-packages\\pytorch_lightning\\trainer\\connectors\\data_connector.py:441: The 'train_dataloader' does not have many workers which may be a bottleneck. Consider increasing the value of the `num_workers` argument` to `num_workers=15` in the `DataLoader` to improve performance.\n"
          ]
        },
        {
          "data": {
            "application/vnd.jupyter.widget-view+json": {
              "model_id": "8bd95d49608443bf80f42cd418dd0724",
              "version_major": 2,
              "version_minor": 0
            },
            "text/plain": [
              "Training: |          | 0/? [00:00<?, ?it/s]"
            ]
          },
          "metadata": {},
          "output_type": "display_data"
        },
        {
          "data": {
            "application/vnd.jupyter.widget-view+json": {
              "model_id": "ddceac0494b04d9899a0ef98e70b8561",
              "version_major": 2,
              "version_minor": 0
            },
            "text/plain": [
              "Validation: |          | 0/? [00:00<?, ?it/s]"
            ]
          },
          "metadata": {},
          "output_type": "display_data"
        },
        {
          "data": {
            "application/vnd.jupyter.widget-view+json": {
              "model_id": "669ffc3738984497b457cd99b2a1a378",
              "version_major": 2,
              "version_minor": 0
            },
            "text/plain": [
              "Validation: |          | 0/? [00:00<?, ?it/s]"
            ]
          },
          "metadata": {},
          "output_type": "display_data"
        },
        {
          "name": "stderr",
          "output_type": "stream",
          "text": [
            "`Trainer.fit` stopped: `max_epochs=2` reached.\n"
          ]
        }
      ],
      "source": [
        "# using pytorch trainer for tuning\n",
        "trainer = pl.Trainer(\n",
        "    accelerator=\"auto\",\n",
        "    devices=\"auto\",\n",
        "    max_epochs=EPOCH,\n",
        "    precision=\"16-mixed\",\n",
        "    logger=logger)\n",
        "\n",
        "# start tuning\n",
        "trainer.fit(BERTcls, EkmanDatamodule)"
      ]
    },
    {
      "cell_type": "code",
      "execution_count": null,
      "metadata": {
        "colab": {
          "referenced_widgets": [
            "10a0fc64a4bf47e18c975e7c28e1135d"
          ]
        },
        "id": "VZJc_b6bULRg",
        "outputId": "690579c0-e98e-400a-843b-1e7861415c31"
      },
      "outputs": [
        {
          "name": "stderr",
          "output_type": "stream",
          "text": [
            "LOCAL_RANK: 0 - CUDA_VISIBLE_DEVICES: [0]\n",
            "e:\\miniconda3\\envs\\phdenv\\Lib\\site-packages\\pytorch_lightning\\trainer\\connectors\\data_connector.py:441: The 'test_dataloader' does not have many workers which may be a bottleneck. Consider increasing the value of the `num_workers` argument` to `num_workers=15` in the `DataLoader` to improve performance.\n"
          ]
        },
        {
          "data": {
            "application/vnd.jupyter.widget-view+json": {
              "model_id": "10a0fc64a4bf47e18c975e7c28e1135d",
              "version_major": 2,
              "version_minor": 0
            },
            "text/plain": [
              "Testing: |          | 0/? [00:00<?, ?it/s]"
            ]
          },
          "metadata": {},
          "output_type": "display_data"
        },
        {
          "name": "stdout",
          "output_type": "stream",
          "text": [
            "────────────────────────────────────────────────────────────────────────────────────────────────────────────────────────\n",
            "       Test metric             DataLoader 0\n",
            "────────────────────────────────────────────────────────────────────────────────────────────────────────────────────────\n",
            "        test_acc            0.7224409580230713\n",
            "        test_loss           0.8925064206123352\n",
            "────────────────────────────────────────────────────────────────────────────────────────────────────────────────────────\n"
          ]
        },
        {
          "data": {
            "text/plain": [
              "[{'test_loss': 0.8925064206123352, 'test_acc': 0.7224409580230713}]"
            ]
          },
          "execution_count": 14,
          "metadata": {},
          "output_type": "execute_result"
        }
      ],
      "source": [
        "trainer.test(BERTcls, EkmanDatamodule)"
      ]
    },
    {
      "cell_type": "markdown",
      "metadata": {
        "id": "07_LaiC9ULRg"
      },
      "source": [
        "We can see the performance of emotion classification above."
      ]
    },
    {
      "cell_type": "markdown",
      "metadata": {
        "id": "BstvVuSlULRg"
      },
      "source": [
        "***\n",
        "Review tuning stat  \n",
        "As mentioned, the log will be saved in './logs/BERT_exp' directory. The log file is 'metrics.csv'. We can open the file and have a look."
      ]
    },
    {
      "cell_type": "code",
      "execution_count": null,
      "metadata": {
        "id": "8yVLz_qIULRh",
        "outputId": "e33eaa7e-aa0b-4cb7-eaa0-a4a67fc15c11"
      },
      "outputs": [
        {
          "data": {
            "text/html": [
              "<div>\n",
              "<style scoped>\n",
              "    .dataframe tbody tr th:only-of-type {\n",
              "        vertical-align: middle;\n",
              "    }\n",
              "\n",
              "    .dataframe tbody tr th {\n",
              "        vertical-align: top;\n",
              "    }\n",
              "\n",
              "    .dataframe thead th {\n",
              "        text-align: right;\n",
              "    }\n",
              "</style>\n",
              "<table border=\"1\" class=\"dataframe\">\n",
              "  <thead>\n",
              "    <tr style=\"text-align: right;\">\n",
              "      <th></th>\n",
              "      <th>epoch</th>\n",
              "      <th>step</th>\n",
              "      <th>test_acc</th>\n",
              "      <th>test_loss</th>\n",
              "      <th>train_acc_epoch</th>\n",
              "      <th>train_acc_step</th>\n",
              "      <th>train_loss_epoch</th>\n",
              "      <th>train_loss_step</th>\n",
              "      <th>val_acc</th>\n",
              "      <th>val_loss</th>\n",
              "    </tr>\n",
              "  </thead>\n",
              "  <tbody>\n",
              "    <tr>\n",
              "      <th>0</th>\n",
              "      <td>0</td>\n",
              "      <td>49</td>\n",
              "      <td>NaN</td>\n",
              "      <td>NaN</td>\n",
              "      <td>NaN</td>\n",
              "      <td>0.625</td>\n",
              "      <td>NaN</td>\n",
              "      <td>1.189270</td>\n",
              "      <td>NaN</td>\n",
              "      <td>NaN</td>\n",
              "    </tr>\n",
              "    <tr>\n",
              "      <th>1</th>\n",
              "      <td>0</td>\n",
              "      <td>99</td>\n",
              "      <td>NaN</td>\n",
              "      <td>NaN</td>\n",
              "      <td>NaN</td>\n",
              "      <td>0.375</td>\n",
              "      <td>NaN</td>\n",
              "      <td>1.436707</td>\n",
              "      <td>NaN</td>\n",
              "      <td>NaN</td>\n",
              "    </tr>\n",
              "    <tr>\n",
              "      <th>2</th>\n",
              "      <td>0</td>\n",
              "      <td>149</td>\n",
              "      <td>NaN</td>\n",
              "      <td>NaN</td>\n",
              "      <td>NaN</td>\n",
              "      <td>0.625</td>\n",
              "      <td>NaN</td>\n",
              "      <td>0.900208</td>\n",
              "      <td>NaN</td>\n",
              "      <td>NaN</td>\n",
              "    </tr>\n",
              "    <tr>\n",
              "      <th>3</th>\n",
              "      <td>0</td>\n",
              "      <td>199</td>\n",
              "      <td>NaN</td>\n",
              "      <td>NaN</td>\n",
              "      <td>NaN</td>\n",
              "      <td>0.500</td>\n",
              "      <td>NaN</td>\n",
              "      <td>1.359833</td>\n",
              "      <td>NaN</td>\n",
              "      <td>NaN</td>\n",
              "    </tr>\n",
              "    <tr>\n",
              "      <th>4</th>\n",
              "      <td>0</td>\n",
              "      <td>249</td>\n",
              "      <td>NaN</td>\n",
              "      <td>NaN</td>\n",
              "      <td>NaN</td>\n",
              "      <td>0.625</td>\n",
              "      <td>NaN</td>\n",
              "      <td>1.174881</td>\n",
              "      <td>NaN</td>\n",
              "      <td>NaN</td>\n",
              "    </tr>\n",
              "    <tr>\n",
              "      <th>5</th>\n",
              "      <td>0</td>\n",
              "      <td>299</td>\n",
              "      <td>NaN</td>\n",
              "      <td>NaN</td>\n",
              "      <td>NaN</td>\n",
              "      <td>0.750</td>\n",
              "      <td>NaN</td>\n",
              "      <td>1.272186</td>\n",
              "      <td>NaN</td>\n",
              "      <td>NaN</td>\n",
              "    </tr>\n",
              "    <tr>\n",
              "      <th>6</th>\n",
              "      <td>0</td>\n",
              "      <td>332</td>\n",
              "      <td>NaN</td>\n",
              "      <td>NaN</td>\n",
              "      <td>NaN</td>\n",
              "      <td>NaN</td>\n",
              "      <td>NaN</td>\n",
              "      <td>NaN</td>\n",
              "      <td>0.727984</td>\n",
              "      <td>0.919041</td>\n",
              "    </tr>\n",
              "    <tr>\n",
              "      <th>7</th>\n",
              "      <td>0</td>\n",
              "      <td>332</td>\n",
              "      <td>NaN</td>\n",
              "      <td>NaN</td>\n",
              "      <td>0.583177</td>\n",
              "      <td>NaN</td>\n",
              "      <td>1.252738</td>\n",
              "      <td>NaN</td>\n",
              "      <td>NaN</td>\n",
              "      <td>NaN</td>\n",
              "    </tr>\n",
              "    <tr>\n",
              "      <th>8</th>\n",
              "      <td>1</td>\n",
              "      <td>349</td>\n",
              "      <td>NaN</td>\n",
              "      <td>NaN</td>\n",
              "      <td>NaN</td>\n",
              "      <td>0.750</td>\n",
              "      <td>NaN</td>\n",
              "      <td>0.942421</td>\n",
              "      <td>NaN</td>\n",
              "      <td>NaN</td>\n",
              "    </tr>\n",
              "    <tr>\n",
              "      <th>9</th>\n",
              "      <td>1</td>\n",
              "      <td>399</td>\n",
              "      <td>NaN</td>\n",
              "      <td>NaN</td>\n",
              "      <td>NaN</td>\n",
              "      <td>0.875</td>\n",
              "      <td>NaN</td>\n",
              "      <td>0.504105</td>\n",
              "      <td>NaN</td>\n",
              "      <td>NaN</td>\n",
              "    </tr>\n",
              "  </tbody>\n",
              "</table>\n",
              "</div>"
            ],
            "text/plain": [
              "   epoch  step  test_acc  test_loss  train_acc_epoch  train_acc_step  \\\n",
              "0      0    49       NaN        NaN              NaN           0.625   \n",
              "1      0    99       NaN        NaN              NaN           0.375   \n",
              "2      0   149       NaN        NaN              NaN           0.625   \n",
              "3      0   199       NaN        NaN              NaN           0.500   \n",
              "4      0   249       NaN        NaN              NaN           0.625   \n",
              "5      0   299       NaN        NaN              NaN           0.750   \n",
              "6      0   332       NaN        NaN              NaN             NaN   \n",
              "7      0   332       NaN        NaN         0.583177             NaN   \n",
              "8      1   349       NaN        NaN              NaN           0.750   \n",
              "9      1   399       NaN        NaN              NaN           0.875   \n",
              "\n",
              "   train_loss_epoch  train_loss_step   val_acc  val_loss  \n",
              "0               NaN         1.189270       NaN       NaN  \n",
              "1               NaN         1.436707       NaN       NaN  \n",
              "2               NaN         0.900208       NaN       NaN  \n",
              "3               NaN         1.359833       NaN       NaN  \n",
              "4               NaN         1.174881       NaN       NaN  \n",
              "5               NaN         1.272186       NaN       NaN  \n",
              "6               NaN              NaN  0.727984  0.919041  \n",
              "7          1.252738              NaN       NaN       NaN  \n",
              "8               NaN         0.942421       NaN       NaN  \n",
              "9               NaN         0.504105       NaN       NaN  "
            ]
          },
          "execution_count": 15,
          "metadata": {},
          "output_type": "execute_result"
        }
      ],
      "source": [
        "metrices = pd.read_csv('./logs/BERT_exp/version_1/metrics.csv')\n",
        "metrices.head(10)"
      ]
    },
    {
      "cell_type": "markdown",
      "metadata": {
        "id": "DHLIGIWiULRh"
      },
      "source": [
        "The data is hard to read. We want to see training loss and performance, as well as valitaion loss and performance. So, let's get the stats."
      ]
    },
    {
      "cell_type": "code",
      "execution_count": null,
      "metadata": {
        "id": "6rHLNqAJULRh"
      },
      "outputs": [],
      "source": [
        "def GetTuningStats(metrices):\n",
        "    training_metric = metrices[['train_acc_epoch','train_loss_epoch']].dropna().reset_index(drop=True)\n",
        "    validate_metric = metrices[['val_acc','val_loss']].dropna().reset_index(drop=True)\n",
        "    testing_metric = metrices[['test_acc']].dropna().reset_index(drop=True)\n",
        "    merge_matrices = pd.merge(training_metric,validate_metric, left_index=True, right_index=True)\n",
        "    return testing_metric, merge_matrices\n"
      ]
    },
    {
      "cell_type": "code",
      "execution_count": null,
      "metadata": {
        "id": "6nm_HVHAULRi"
      },
      "outputs": [],
      "source": [
        "test_performance, tuning_stats = GetTuningStats(metrices)"
      ]
    },
    {
      "cell_type": "code",
      "execution_count": null,
      "metadata": {
        "id": "fXNAqxKEULRj",
        "outputId": "652cc50d-cb1f-4a90-d7d9-b7d918216f92"
      },
      "outputs": [
        {
          "data": {
            "text/plain": [
              "{'bert_ekman': 0.7224409580230713}"
            ]
          },
          "execution_count": 18,
          "metadata": {},
          "output_type": "execute_result"
        }
      ],
      "source": [
        "# save the test result for later comparison\n",
        "results = {}\n",
        "results['bert_ekman'] = test_performance.test_acc.to_list()[0]\n",
        "results"
      ]
    },
    {
      "cell_type": "code",
      "execution_count": null,
      "metadata": {
        "id": "hqcg3Ve6ULRj",
        "outputId": "6b9efa74-66eb-4629-9f85-6c156c3898f3"
      },
      "outputs": [
        {
          "data": {
            "text/html": [
              "<div>\n",
              "<style scoped>\n",
              "    .dataframe tbody tr th:only-of-type {\n",
              "        vertical-align: middle;\n",
              "    }\n",
              "\n",
              "    .dataframe tbody tr th {\n",
              "        vertical-align: top;\n",
              "    }\n",
              "\n",
              "    .dataframe thead th {\n",
              "        text-align: right;\n",
              "    }\n",
              "</style>\n",
              "<table border=\"1\" class=\"dataframe\">\n",
              "  <thead>\n",
              "    <tr style=\"text-align: right;\">\n",
              "      <th></th>\n",
              "      <th>train_acc_epoch</th>\n",
              "      <th>train_loss_epoch</th>\n",
              "      <th>val_acc</th>\n",
              "      <th>val_loss</th>\n",
              "    </tr>\n",
              "  </thead>\n",
              "  <tbody>\n",
              "    <tr>\n",
              "      <th>0</th>\n",
              "      <td>0.583177</td>\n",
              "      <td>1.252738</td>\n",
              "      <td>0.727984</td>\n",
              "      <td>0.919041</td>\n",
              "    </tr>\n",
              "    <tr>\n",
              "      <th>1</th>\n",
              "      <td>0.796846</td>\n",
              "      <td>0.684264</td>\n",
              "      <td>0.747554</td>\n",
              "      <td>0.866035</td>\n",
              "    </tr>\n",
              "  </tbody>\n",
              "</table>\n",
              "</div>"
            ],
            "text/plain": [
              "   train_acc_epoch  train_loss_epoch   val_acc  val_loss\n",
              "0         0.583177          1.252738  0.727984  0.919041\n",
              "1         0.796846          0.684264  0.747554  0.866035"
            ]
          },
          "execution_count": 19,
          "metadata": {},
          "output_type": "execute_result"
        }
      ],
      "source": [
        "tuning_stats"
      ]
    },
    {
      "cell_type": "markdown",
      "metadata": {
        "id": "v4gtL9hBULRk"
      },
      "source": [
        "The tables are still not easy to read. Let's merge them and plot."
      ]
    },
    {
      "cell_type": "code",
      "execution_count": null,
      "metadata": {
        "id": "rbelegAbULRl",
        "outputId": "581f4ee5-b852-4fca-b244-5b3d574e3fca"
      },
      "outputs": [
        {
          "data": {
            "text/plain": [
              "<Axes: >"
            ]
          },
          "execution_count": 20,
          "metadata": {},
          "output_type": "execute_result"
        },
        {
          "data": {
            "image/png": "[encoded data removed]",
            "text/plain": [
              "<Figure size 640x480 with 1 Axes>"
            ]
          },
          "metadata": {},
          "output_type": "display_data"
        },
        {
          "data": {
            "image/png": "[encoded data removed]",
            "text/plain": [
              "<Figure size 640x480 with 1 Axes>"
            ]
          },
          "metadata": {},
          "output_type": "display_data"
        }
      ],
      "source": [
        "# losses of each epoch\n",
        "tuning_stats[['train_loss_epoch','val_loss']].plot()\n",
        "# accuracy of each epoch\n",
        "tuning_stats[['train_acc_epoch','val_acc']].plot()"
      ]
    },
    {
      "cell_type": "markdown",
      "metadata": {
        "id": "hRLYti87ULRm"
      },
      "source": [
        "According to the visulisation, the model is doing fine. If you want to save the model for later use, below are the code for saving and loading model.  "
      ]
    },
    {
      "cell_type": "code",
      "execution_count": null,
      "metadata": {
        "id": "DyLOy9PtULRm"
      },
      "outputs": [],
      "source": [
        "# saving\n",
        "torch.save(BERTcls.state_dict(), './tuned_models/bert.pt')"
      ]
    },
    {
      "cell_type": "code",
      "execution_count": null,
      "metadata": {
        "id": "bnhosi9dULRn",
        "outputId": "89d5adf6-4789-4424-cd37-089c6c1a3131"
      },
      "outputs": [
        {
          "data": {
            "text/plain": [
              "EmoClassifier(\n",
              "  (model): BertModel(\n",
              "    (embeddings): BertEmbeddings(\n",
              "      (word_embeddings): Embedding(30522, 768, padding_idx=0)\n",
              "      (position_embeddings): Embedding(512, 768)\n",
              "      (token_type_embeddings): Embedding(2, 768)\n",
              "      (LayerNorm): LayerNorm((768,), eps=1e-12, elementwise_affine=True)\n",
              "      (dropout): Dropout(p=0.1, inplace=False)\n",
              "    )\n",
              "    (encoder): BertEncoder(\n",
              "      (layer): ModuleList(\n",
              "        (0-11): 12 x BertLayer(\n",
              "          (attention): BertAttention(\n",
              "            (self): BertSdpaSelfAttention(\n",
              "              (query): Linear(in_features=768, out_features=768, bias=True)\n",
              "              (key): Linear(in_features=768, out_features=768, bias=True)\n",
              "              (value): Linear(in_features=768, out_features=768, bias=True)\n",
              "              (dropout): Dropout(p=0.1, inplace=False)\n",
              "            )\n",
              "            (output): BertSelfOutput(\n",
              "              (dense): Linear(in_features=768, out_features=768, bias=True)\n",
              "              (LayerNorm): LayerNorm((768,), eps=1e-12, elementwise_affine=True)\n",
              "              (dropout): Dropout(p=0.1, inplace=False)\n",
              "            )\n",
              "          )\n",
              "          (intermediate): BertIntermediate(\n",
              "            (dense): Linear(in_features=768, out_features=3072, bias=True)\n",
              "            (intermediate_act_fn): GELUActivation()\n",
              "          )\n",
              "          (output): BertOutput(\n",
              "            (dense): Linear(in_features=3072, out_features=768, bias=True)\n",
              "            (LayerNorm): LayerNorm((768,), eps=1e-12, elementwise_affine=True)\n",
              "            (dropout): Dropout(p=0.1, inplace=False)\n",
              "          )\n",
              "        )\n",
              "      )\n",
              "    )\n",
              "    (pooler): BertPooler(\n",
              "      (dense): Linear(in_features=768, out_features=768, bias=True)\n",
              "      (activation): Tanh()\n",
              "    )\n",
              "  )\n",
              "  (pre_classifier): Linear(in_features=768, out_features=768, bias=True)\n",
              "  (dropout): Dropout(p=0.1, inplace=False)\n",
              "  (classifier): Linear(in_features=768, out_features=7, bias=True)\n",
              ")"
            ]
          },
          "execution_count": 20,
          "metadata": {},
          "output_type": "execute_result"
        }
      ],
      "source": [
        "# loading\n",
        "saved_model = EmoClassifier(\n",
        "    model=MODEL,\n",
        "    num_class=CLASSES,\n",
        "    learning_rate=LEARNING_RATE,\n",
        "    epoch=EPOCH,\n",
        "    train_size=TRAIN_SIZE\n",
        ")\n",
        "saved_model.load_state_dict(torch.load('./tuned_models/bert.pt'))\n",
        "saved_model.eval()"
      ]
    },
    {
      "cell_type": "markdown",
      "metadata": {
        "id": "kFIb8l8wULRt"
      },
      "source": [
        "***"
      ]
    },
    {
      "cell_type": "markdown",
      "metadata": {
        "id": "9FDlTnRKULRt"
      },
      "source": [
        "We have done emotion classification based on Ekman' scheme (7 emotion categories). Next let's try emotion classification based on GoEmotion scheme.  \n",
        "\n",
        "First let's look at the data again."
      ]
    },
    {
      "cell_type": "code",
      "execution_count": null,
      "metadata": {
        "id": "_2nnY1BpULRu",
        "outputId": "3a11e39c-dad2-4437-fd4b-02c8e8e8937f"
      },
      "outputs": [
        {
          "data": {
            "text/html": [
              "<div>\n",
              "<style scoped>\n",
              "    .dataframe tbody tr th:only-of-type {\n",
              "        vertical-align: middle;\n",
              "    }\n",
              "\n",
              "    .dataframe tbody tr th {\n",
              "        vertical-align: top;\n",
              "    }\n",
              "\n",
              "    .dataframe thead th {\n",
              "        text-align: right;\n",
              "    }\n",
              "</style>\n",
              "<table border=\"1\" class=\"dataframe\">\n",
              "  <thead>\n",
              "    <tr style=\"text-align: right;\">\n",
              "      <th></th>\n",
              "      <th>text</th>\n",
              "      <th>go_index</th>\n",
              "      <th>go_label</th>\n",
              "      <th>ekman_label</th>\n",
              "      <th>ekman_index</th>\n",
              "    </tr>\n",
              "  </thead>\n",
              "  <tbody>\n",
              "    <tr>\n",
              "      <th>0</th>\n",
              "      <td>[NAME] breaks to love early in the third.</td>\n",
              "      <td>27</td>\n",
              "      <td>neutral</td>\n",
              "      <td>neutral</td>\n",
              "      <td>4</td>\n",
              "    </tr>\n",
              "    <tr>\n",
              "      <th>1</th>\n",
              "      <td>Wait what planet was this on? I dont remember ...</td>\n",
              "      <td>27</td>\n",
              "      <td>neutral</td>\n",
              "      <td>neutral</td>\n",
              "      <td>4</td>\n",
              "    </tr>\n",
              "    <tr>\n",
              "      <th>2</th>\n",
              "      <td>And then everyone clapped</td>\n",
              "      <td>27</td>\n",
              "      <td>neutral</td>\n",
              "      <td>neutral</td>\n",
              "      <td>4</td>\n",
              "    </tr>\n",
              "    <tr>\n",
              "      <th>3</th>\n",
              "      <td>Yea. From my estimation I have about 5 years b...</td>\n",
              "      <td>27</td>\n",
              "      <td>neutral</td>\n",
              "      <td>neutral</td>\n",
              "      <td>4</td>\n",
              "    </tr>\n",
              "    <tr>\n",
              "      <th>4</th>\n",
              "      <td>we're getting our top men right on that.</td>\n",
              "      <td>27</td>\n",
              "      <td>neutral</td>\n",
              "      <td>neutral</td>\n",
              "      <td>4</td>\n",
              "    </tr>\n",
              "  </tbody>\n",
              "</table>\n",
              "</div>"
            ],
            "text/plain": [
              "                                                text  go_index go_label  \\\n",
              "0          [NAME] breaks to love early in the third.        27  neutral   \n",
              "1  Wait what planet was this on? I dont remember ...        27  neutral   \n",
              "2                          And then everyone clapped        27  neutral   \n",
              "3  Yea. From my estimation I have about 5 years b...        27  neutral   \n",
              "4           we're getting our top men right on that.        27  neutral   \n",
              "\n",
              "  ekman_label  ekman_index  \n",
              "0     neutral            4  \n",
              "1     neutral            4  \n",
              "2     neutral            4  \n",
              "3     neutral            4  \n",
              "4     neutral            4  "
            ]
          },
          "execution_count": 22,
          "metadata": {},
          "output_type": "execute_result"
        }
      ],
      "source": [
        "traindf.head(5)"
      ]
    },
    {
      "cell_type": "markdown",
      "metadata": {
        "id": "2nwfwa9mULRu"
      },
      "source": [
        "In Ekman classification, we used ekman_index column as emotion label. This time we will use go_index column instead. Let's set the datalabel and classlable columns.  "
      ]
    },
    {
      "cell_type": "code",
      "execution_count": null,
      "metadata": {
        "id": "Dgo_g6tMULRu",
        "outputId": "e7a345ea-487c-41c0-82c7-7156025f56ad"
      },
      "outputs": [
        {
          "data": {
            "text/plain": [
              "'number of emotion categories: 28'"
            ]
          },
          "execution_count": 23,
          "metadata": {},
          "output_type": "execute_result"
        }
      ],
      "source": [
        "DATALABEL = 'text'\n",
        "CLASSLABEL = 'go_index'\n",
        "f\"number of emotion categories: {len(traindf[CLASSLABEL].value_counts())}\""
      ]
    },
    {
      "cell_type": "markdown",
      "metadata": {
        "id": "oYuVr8JFULRu"
      },
      "source": [
        "The data based on GoEmotion scheme contains 28 emotion categories. To classify and tune the model for GoEmotion scheme, first we need to create new datamodule. This datamodule will contain messages with GoEmotion labels. We can reuse defined functions above."
      ]
    },
    {
      "cell_type": "code",
      "execution_count": null,
      "metadata": {
        "id": "qWnrq8YtULRv"
      },
      "outputs": [],
      "source": [
        "# call for datamudule\n",
        "GoEmotionDatamodule = EmoDataModule(traindf=traindf,\n",
        "                               valdf=valdf,\n",
        "                               testdf=testdf,\n",
        "                               tokenizer=TOKENIZER,\n",
        "                               batch_size=BATCH_SIZE,\n",
        "                               max_length=MAX_LENGTH,\n",
        "                               datalabel=DATALABEL,\n",
        "                               classlabel=CLASSLABEL)\n",
        "# call setup function\n",
        "GoEmotionDatamodule.setup()"
      ]
    },
    {
      "cell_type": "markdown",
      "metadata": {
        "id": "K_mGilJIULRv"
      },
      "source": [
        "Before we do the tuning, some parameters will have to change, such as number of classes. During the ekman's scheme classification, the number of classes was 6. However, now the GoEmotion scheme contain 28 emotion categories. Therefore we change it accordingly and start tuning!!"
      ]
    },
    {
      "cell_type": "code",
      "execution_count": null,
      "metadata": {
        "colab": {
          "referenced_widgets": [
            "0ef6bb0a220548b6a075596c2202f240",
            "a6f165b36351455d9c67fbc2ef055859",
            "9390de8cc7c442279d14eed1af58b00b",
            "65f4ac4f3d4945b3b90126fe201247f6"
          ]
        },
        "id": "NRPY0laoULRv",
        "outputId": "460d4b68-ce9d-43ca-931d-cbb71659bc81"
      },
      "outputs": [
        {
          "name": "stderr",
          "output_type": "stream",
          "text": [
            "Using 16bit Automatic Mixed Precision (AMP)\n",
            "GPU available: True (cuda), used: True\n",
            "TPU available: False, using: 0 TPU cores\n",
            "IPU available: False, using: 0 IPUs\n",
            "HPU available: False, using: 0 HPUs\n",
            "e:\\miniconda3\\envs\\phdenv\\Lib\\site-packages\\lightning\\fabric\\loggers\\csv_logs.py:268: Experiment logs directory ./logs\\BERT_exp_goemotion\\version_1 exists and is not empty. Previous log files in this directory will be deleted when the new ones are saved!\n",
            "e:\\miniconda3\\envs\\phdenv\\Lib\\site-packages\\pytorch_lightning\\callbacks\\model_checkpoint.py:653: Checkpoint directory ./logs\\BERT_exp_goemotion\\version_1\\checkpoints exists and is not empty.\n",
            "LOCAL_RANK: 0 - CUDA_VISIBLE_DEVICES: [0]\n",
            "e:\\miniconda3\\envs\\phdenv\\Lib\\site-packages\\transformers\\optimization.py:588: FutureWarning: This implementation of AdamW is deprecated and will be removed in a future version. Use the PyTorch implementation torch.optim.AdamW instead, or set `no_deprecation_warning=True` to disable this warning\n",
            "  warnings.warn(\n",
            "\n",
            "  | Name           | Type      | Params\n",
            "---------------------------------------------\n",
            "0 | model          | BertModel | 109 M \n",
            "1 | pre_classifier | Linear    | 590 K \n",
            "2 | dropout        | Dropout   | 0     \n",
            "3 | classifier     | Linear    | 21.5 K\n",
            "---------------------------------------------\n",
            "110 M     Trainable params\n",
            "0         Non-trainable params\n",
            "110 M     Total params\n",
            "440.377   Total estimated model params size (MB)\n"
          ]
        },
        {
          "data": {
            "application/vnd.jupyter.widget-view+json": {
              "model_id": "0ef6bb0a220548b6a075596c2202f240",
              "version_major": 2,
              "version_minor": 0
            },
            "text/plain": [
              "Sanity Checking: |          | 0/? [00:00<?, ?it/s]"
            ]
          },
          "metadata": {},
          "output_type": "display_data"
        },
        {
          "name": "stderr",
          "output_type": "stream",
          "text": [
            "e:\\miniconda3\\envs\\phdenv\\Lib\\site-packages\\pytorch_lightning\\trainer\\connectors\\data_connector.py:441: The 'val_dataloader' does not have many workers which may be a bottleneck. Consider increasing the value of the `num_workers` argument` to `num_workers=15` in the `DataLoader` to improve performance.\n",
            "e:\\miniconda3\\envs\\phdenv\\Lib\\site-packages\\pytorch_lightning\\trainer\\connectors\\data_connector.py:441: The 'train_dataloader' does not have many workers which may be a bottleneck. Consider increasing the value of the `num_workers` argument` to `num_workers=15` in the `DataLoader` to improve performance.\n"
          ]
        },
        {
          "data": {
            "application/vnd.jupyter.widget-view+json": {
              "model_id": "a6f165b36351455d9c67fbc2ef055859",
              "version_major": 2,
              "version_minor": 0
            },
            "text/plain": [
              "Training: |          | 0/? [00:00<?, ?it/s]"
            ]
          },
          "metadata": {},
          "output_type": "display_data"
        },
        {
          "data": {
            "application/vnd.jupyter.widget-view+json": {
              "model_id": "9390de8cc7c442279d14eed1af58b00b",
              "version_major": 2,
              "version_minor": 0
            },
            "text/plain": [
              "Validation: |          | 0/? [00:00<?, ?it/s]"
            ]
          },
          "metadata": {},
          "output_type": "display_data"
        },
        {
          "data": {
            "application/vnd.jupyter.widget-view+json": {
              "model_id": "65f4ac4f3d4945b3b90126fe201247f6",
              "version_major": 2,
              "version_minor": 0
            },
            "text/plain": [
              "Validation: |          | 0/? [00:00<?, ?it/s]"
            ]
          },
          "metadata": {},
          "output_type": "display_data"
        },
        {
          "name": "stderr",
          "output_type": "stream",
          "text": [
            "`Trainer.fit` stopped: `max_epochs=2` reached.\n"
          ]
        }
      ],
      "source": [
        "# change number of classes\n",
        "CLASSES = 28\n",
        "\n",
        "# get the new classifier\n",
        "BERTcls = EmoClassifier(\n",
        "    model=MODEL,\n",
        "    num_class=CLASSES,\n",
        "    learning_rate=LEARNING_RATE,\n",
        "    epoch=EPOCH,\n",
        "    train_size=TRAIN_SIZE\n",
        ")\n",
        "\n",
        "# before tuning set log directory for this tuning process\n",
        "logger = CSVLogger(\"./logs\", name='BERT_exp_goemotion', version=1)\n",
        "\n",
        "# now tune the model\n",
        "trainer = pl.Trainer(\n",
        "    accelerator=\"auto\",\n",
        "    devices=\"auto\",\n",
        "    max_epochs=EPOCH,\n",
        "    precision=\"16-mixed\",\n",
        "    logger=logger)\n",
        "\n",
        "# start tuning\n",
        "trainer.fit(BERTcls, GoEmotionDatamodule)"
      ]
    },
    {
      "cell_type": "code",
      "execution_count": null,
      "metadata": {
        "colab": {
          "referenced_widgets": [
            "4af9e12313a54aa6a5a3b8a57d39897f"
          ]
        },
        "id": "wzdntV3kULRw",
        "outputId": "c222d52b-b208-43cd-dc76-4391c309f7d8"
      },
      "outputs": [
        {
          "name": "stderr",
          "output_type": "stream",
          "text": [
            "LOCAL_RANK: 0 - CUDA_VISIBLE_DEVICES: [0]\n",
            "e:\\miniconda3\\envs\\phdenv\\Lib\\site-packages\\pytorch_lightning\\trainer\\connectors\\data_connector.py:441: The 'test_dataloader' does not have many workers which may be a bottleneck. Consider increasing the value of the `num_workers` argument` to `num_workers=15` in the `DataLoader` to improve performance.\n"
          ]
        },
        {
          "data": {
            "application/vnd.jupyter.widget-view+json": {
              "model_id": "4af9e12313a54aa6a5a3b8a57d39897f",
              "version_major": 2,
              "version_minor": 0
            },
            "text/plain": [
              "Testing: |          | 0/? [00:00<?, ?it/s]"
            ]
          },
          "metadata": {},
          "output_type": "display_data"
        },
        {
          "name": "stdout",
          "output_type": "stream",
          "text": [
            "────────────────────────────────────────────────────────────────────────────────────────────────────────────────────────\n",
            "       Test metric             DataLoader 0\n",
            "────────────────────────────────────────────────────────────────────────────────────────────────────────────────────────\n",
            "        test_acc            0.5255905389785767\n",
            "        test_loss           1.9522426128387451\n",
            "────────────────────────────────────────────────────────────────────────────────────────────────────────────────────────\n"
          ]
        },
        {
          "data": {
            "text/plain": [
              "[{'test_loss': 1.9522426128387451, 'test_acc': 0.5255905389785767}]"
            ]
          },
          "execution_count": 26,
          "metadata": {},
          "output_type": "execute_result"
        }
      ],
      "source": [
        "trainer.test(BERTcls, GoEmotionDatamodule)"
      ]
    },
    {
      "cell_type": "markdown",
      "metadata": {
        "id": "ZzAhyPrIULRw"
      },
      "source": [
        "After finished tuning and testing, let's look at the tuning metrices."
      ]
    },
    {
      "cell_type": "code",
      "execution_count": null,
      "metadata": {
        "id": "stBCPXVHULRw",
        "outputId": "ea946f3d-9144-4a30-86d2-f17e6602aa59"
      },
      "outputs": [
        {
          "data": {
            "text/html": [
              "<div>\n",
              "<style scoped>\n",
              "    .dataframe tbody tr th:only-of-type {\n",
              "        vertical-align: middle;\n",
              "    }\n",
              "\n",
              "    .dataframe tbody tr th {\n",
              "        vertical-align: top;\n",
              "    }\n",
              "\n",
              "    .dataframe thead th {\n",
              "        text-align: right;\n",
              "    }\n",
              "</style>\n",
              "<table border=\"1\" class=\"dataframe\">\n",
              "  <thead>\n",
              "    <tr style=\"text-align: right;\">\n",
              "      <th></th>\n",
              "      <th>test_acc</th>\n",
              "    </tr>\n",
              "  </thead>\n",
              "  <tbody>\n",
              "    <tr>\n",
              "      <th>0</th>\n",
              "      <td>0.525591</td>\n",
              "    </tr>\n",
              "  </tbody>\n",
              "</table>\n",
              "</div>"
            ],
            "text/plain": [
              "   test_acc\n",
              "0  0.525591"
            ]
          },
          "execution_count": 27,
          "metadata": {},
          "output_type": "execute_result"
        }
      ],
      "source": [
        "metrices = pd.read_csv('./logs/BERT_exp_goemotion/version_1/metrics.csv')\n",
        "test_perm , tuning_stats = GetTuningStats(metrices)\n",
        "test_perm"
      ]
    },
    {
      "cell_type": "markdown",
      "metadata": {
        "id": "xMeVGZY7ULRw"
      },
      "source": [
        "Let's plot the tune stats"
      ]
    },
    {
      "cell_type": "code",
      "execution_count": null,
      "metadata": {
        "id": "SPDHomqGULRx",
        "outputId": "219005cb-0e02-46ac-9a69-d7af90be3853"
      },
      "outputs": [
        {
          "data": {
            "text/plain": [
              "<Axes: >"
            ]
          },
          "execution_count": 28,
          "metadata": {},
          "output_type": "execute_result"
        },
        {
          "data": {
            "image/png": "[encoded data removed]",
            "text/plain": [
              "<Figure size 640x480 with 1 Axes>"
            ]
          },
          "metadata": {},
          "output_type": "display_data"
        },
        {
          "data": {
            "image/png": "[encoded data removed]",
            "text/plain": [
              "<Figure size 640x480 with 1 Axes>"
            ]
          },
          "metadata": {},
          "output_type": "display_data"
        }
      ],
      "source": [
        "tuning_stats[['train_loss_epoch','val_loss']].plot()\n",
        "tuning_stats[['train_acc_epoch','val_acc']].plot()"
      ]
    },
    {
      "cell_type": "markdown",
      "metadata": {
        "id": "mrqqARI3ULRx"
      },
      "source": [
        "Let's compare the performance of the two classification based on the two schemes (Ekman's and GoEmotion)"
      ]
    },
    {
      "cell_type": "code",
      "execution_count": null,
      "metadata": {
        "id": "ZdJ-kb9YULRy",
        "outputId": "7daf602a-1c7b-4c76-a418-21ef77dd067c"
      },
      "outputs": [
        {
          "data": {
            "text/plain": [
              "{'bert_ekman': 0.7224409580230713, 'bert_goemo': 0.5255905389785767}"
            ]
          },
          "execution_count": 29,
          "metadata": {},
          "output_type": "execute_result"
        }
      ],
      "source": [
        "results['bert_goemo'] = test_perm.test_acc.to_list()[0]\n",
        "results"
      ]
    },
    {
      "cell_type": "markdown",
      "metadata": {
        "id": "rqPiDkdHULRy"
      },
      "source": [
        "We can see that the performance based on Ekman's scheme is better. This might due to the number of emotion categories, of which Ekman's is less than that of GoEmotion's.\n",
        "\n",
        "***"
      ]
    },
    {
      "cell_type": "markdown",
      "metadata": {
        "id": "9gthHFHwULR2"
      },
      "source": [
        "## Emotion classification based on T5  \n",
        "In the previous sections, we learned how to tune BERT and RoBERTa for emotion calssification based on the two different emotion schemes. This section will show an example of how to tune T5 model for emotion classification. Unlike BERT and RoBERTa, T5 is text-generated model, which mean we can give instruction to the model to follow. Therefore, our input will include intruction for the model as follows:  \n",
        "\n",
        "\"{instruction}: {text}\" -> \"emotion classification: Today is a good day.\"\n",
        "\n",
        "From the above input, we add instruction before the actual input text, i.e. emotion classification followed by text of which we want to classify.  \n",
        "\n",
        "With this concept, let's start implementing.\n",
        "\n",
        "\n"
      ]
    },
    {
      "cell_type": "code",
      "execution_count": null,
      "metadata": {
        "colab": {
          "referenced_widgets": [
            "d07d8e4e053e4ecab46dc001b392f8e5",
            "c9daa0ff14c143d799b660d11f00c52b",
            "618a280890564ca4b7372730d6da75ed",
            "03384b80f57e481092a1be336297f9e1",
            "a9068f558e66423f9bdc8d8c89743a05",
            "6545857b64414858902118fd422274ed"
          ]
        },
        "id": "D1PteHi2ULR3",
        "outputId": "ac8d2201-8676-4969-f2c1-d79dc7630ff1"
      },
      "outputs": [
        {
          "data": {
            "application/vnd.jupyter.widget-view+json": {
              "model_id": "d07d8e4e053e4ecab46dc001b392f8e5",
              "version_major": 2,
              "version_minor": 0
            },
            "text/plain": [
              "config.json:   0%|          | 0.00/1.21k [00:00<?, ?B/s]"
            ]
          },
          "metadata": {},
          "output_type": "display_data"
        },
        {
          "name": "stderr",
          "output_type": "stream",
          "text": [
            "e:\\miniconda3\\envs\\phdenv\\Lib\\site-packages\\huggingface_hub\\file_download.py:157: UserWarning: `huggingface_hub` cache-system uses symlinks by default to efficiently store duplicated files but your machine does not support them in C:\\Users\\font-\\.cache\\huggingface\\hub\\models--t5-small. Caching files will still work but in a degraded version that might require more space on your disk. This warning can be disabled by setting the `HF_HUB_DISABLE_SYMLINKS_WARNING` environment variable. For more details, see https://huggingface.co/docs/huggingface_hub/how-to-cache#limitations.\n",
            "To support symlinks on Windows, you either need to activate Developer Mode or to run Python as an administrator. In order to see activate developer mode, see this article: https://docs.microsoft.com/en-us/windows/apps/get-started/enable-your-device-for-development\n",
            "  warnings.warn(message)\n"
          ]
        },
        {
          "data": {
            "application/vnd.jupyter.widget-view+json": {
              "model_id": "c9daa0ff14c143d799b660d11f00c52b",
              "version_major": 2,
              "version_minor": 0
            },
            "text/plain": [
              "model.safetensors:   0%|          | 0.00/242M [00:00<?, ?B/s]"
            ]
          },
          "metadata": {},
          "output_type": "display_data"
        },
        {
          "data": {
            "application/vnd.jupyter.widget-view+json": {
              "model_id": "618a280890564ca4b7372730d6da75ed",
              "version_major": 2,
              "version_minor": 0
            },
            "text/plain": [
              "generation_config.json:   0%|          | 0.00/147 [00:00<?, ?B/s]"
            ]
          },
          "metadata": {},
          "output_type": "display_data"
        },
        {
          "data": {
            "application/vnd.jupyter.widget-view+json": {
              "model_id": "03384b80f57e481092a1be336297f9e1",
              "version_major": 2,
              "version_minor": 0
            },
            "text/plain": [
              "tokenizer_config.json:   0%|          | 0.00/2.32k [00:00<?, ?B/s]"
            ]
          },
          "metadata": {},
          "output_type": "display_data"
        },
        {
          "data": {
            "application/vnd.jupyter.widget-view+json": {
              "model_id": "a9068f558e66423f9bdc8d8c89743a05",
              "version_major": 2,
              "version_minor": 0
            },
            "text/plain": [
              "spiece.model:   0%|          | 0.00/792k [00:00<?, ?B/s]"
            ]
          },
          "metadata": {},
          "output_type": "display_data"
        },
        {
          "data": {
            "application/vnd.jupyter.widget-view+json": {
              "model_id": "6545857b64414858902118fd422274ed",
              "version_major": 2,
              "version_minor": 0
            },
            "text/plain": [
              "tokenizer.json:   0%|          | 0.00/1.39M [00:00<?, ?B/s]"
            ]
          },
          "metadata": {},
          "output_type": "display_data"
        },
        {
          "name": "stderr",
          "output_type": "stream",
          "text": [
            "You are using the default legacy behaviour of the <class 'transformers.models.t5.tokenization_t5.T5Tokenizer'>. This is expected, and simply means that the `legacy` (previous) behavior will be used so nothing changes for you. If you want to use the new behaviour, set `legacy=False`. This should only be set if you understand what it means, and thoroughly read the reason why this was added as explained in https://github.com/huggingface/transformers/pull/24565\n",
            "Special tokens have been added in the vocabulary, make sure the associated word embeddings are fine-tuned or trained.\n"
          ]
        }
      ],
      "source": [
        "from transformers import T5Tokenizer, T5ForConditionalGeneration\n",
        "\n",
        "MODEL = T5ForConditionalGeneration.from_pretrained(\"t5-small\", return_dict=True)\n",
        "TOKENIZER = T5Tokenizer.from_pretrained(\"t5-small\")"
      ]
    },
    {
      "cell_type": "markdown",
      "metadata": {
        "id": "jVQxkfs2ULR3"
      },
      "source": [
        "We have loaded T5 model named \"T5-small\". As T5 generated text, we want it to generate emotion categories as output rather than emotion index. So, let's look at the data again."
      ]
    },
    {
      "cell_type": "code",
      "execution_count": null,
      "metadata": {
        "id": "YZWIhKOeULR3",
        "outputId": "5bc1562f-9dd5-40f4-aa84-b96dfb1c5f62"
      },
      "outputs": [
        {
          "data": {
            "text/html": [
              "<div>\n",
              "<style scoped>\n",
              "    .dataframe tbody tr th:only-of-type {\n",
              "        vertical-align: middle;\n",
              "    }\n",
              "\n",
              "    .dataframe tbody tr th {\n",
              "        vertical-align: top;\n",
              "    }\n",
              "\n",
              "    .dataframe thead th {\n",
              "        text-align: right;\n",
              "    }\n",
              "</style>\n",
              "<table border=\"1\" class=\"dataframe\">\n",
              "  <thead>\n",
              "    <tr style=\"text-align: right;\">\n",
              "      <th></th>\n",
              "      <th>text</th>\n",
              "      <th>go_index</th>\n",
              "      <th>go_label</th>\n",
              "      <th>ekman_label</th>\n",
              "      <th>ekman_index</th>\n",
              "    </tr>\n",
              "  </thead>\n",
              "  <tbody>\n",
              "    <tr>\n",
              "      <th>0</th>\n",
              "      <td>[NAME] breaks to love early in the third.</td>\n",
              "      <td>27</td>\n",
              "      <td>neutral</td>\n",
              "      <td>neutral</td>\n",
              "      <td>4</td>\n",
              "    </tr>\n",
              "    <tr>\n",
              "      <th>1</th>\n",
              "      <td>Wait what planet was this on? I dont remember ...</td>\n",
              "      <td>27</td>\n",
              "      <td>neutral</td>\n",
              "      <td>neutral</td>\n",
              "      <td>4</td>\n",
              "    </tr>\n",
              "    <tr>\n",
              "      <th>2</th>\n",
              "      <td>And then everyone clapped</td>\n",
              "      <td>27</td>\n",
              "      <td>neutral</td>\n",
              "      <td>neutral</td>\n",
              "      <td>4</td>\n",
              "    </tr>\n",
              "    <tr>\n",
              "      <th>3</th>\n",
              "      <td>Yea. From my estimation I have about 5 years b...</td>\n",
              "      <td>27</td>\n",
              "      <td>neutral</td>\n",
              "      <td>neutral</td>\n",
              "      <td>4</td>\n",
              "    </tr>\n",
              "    <tr>\n",
              "      <th>4</th>\n",
              "      <td>we're getting our top men right on that.</td>\n",
              "      <td>27</td>\n",
              "      <td>neutral</td>\n",
              "      <td>neutral</td>\n",
              "      <td>4</td>\n",
              "    </tr>\n",
              "  </tbody>\n",
              "</table>\n",
              "</div>"
            ],
            "text/plain": [
              "                                                text  go_index go_label  \\\n",
              "0          [NAME] breaks to love early in the third.        27  neutral   \n",
              "1  Wait what planet was this on? I dont remember ...        27  neutral   \n",
              "2                          And then everyone clapped        27  neutral   \n",
              "3  Yea. From my estimation I have about 5 years b...        27  neutral   \n",
              "4           we're getting our top men right on that.        27  neutral   \n",
              "\n",
              "  ekman_label  ekman_index  \n",
              "0     neutral            4  \n",
              "1     neutral            4  \n",
              "2     neutral            4  \n",
              "3     neutral            4  \n",
              "4     neutral            4  "
            ]
          },
          "execution_count": 43,
          "metadata": {},
          "output_type": "execute_result"
        }
      ],
      "source": [
        "traindf.head(5)"
      ]
    },
    {
      "cell_type": "markdown",
      "metadata": {
        "id": "wJdD-e0uULR3"
      },
      "source": [
        "We will start with Ekman scheme. The datalabel is the same in text column. However, emotion categories are in ekman_label column."
      ]
    },
    {
      "cell_type": "code",
      "execution_count": null,
      "metadata": {
        "id": "6QnRsV8DULR3"
      },
      "outputs": [],
      "source": [
        "DATALABEL = 'text'\n",
        "CLASSLABEL = 'ekman_label'"
      ]
    },
    {
      "cell_type": "markdown",
      "metadata": {
        "id": "hSPZllkvULR4"
      },
      "source": [
        "Before creating datamodule for T5, we need to look at the possible output of the task, including possible emotoin categories and the tokenised length of each emotion category. This will help us setting up parameters and preventing over generated output text."
      ]
    },
    {
      "cell_type": "code",
      "execution_count": null,
      "metadata": {
        "id": "SwQyz6JXULR4",
        "outputId": "ec929bd1-70fe-4da7-bab8-90d552bc12d8"
      },
      "outputs": [
        {
          "data": {
            "text/plain": [
              "[('neutral', 2, [7163, 1]),\n",
              " ('anger', 2, [11213, 1]),\n",
              " ('fear', 2, [2971, 1]),\n",
              " ('surprise', 2, [4158, 1]),\n",
              " ('joy', 2, [3922, 1]),\n",
              " ('sadness', 2, [24784, 1]),\n",
              " ('disgust', 2, [27635, 1])]"
            ]
          },
          "execution_count": 48,
          "metadata": {},
          "output_type": "execute_result"
        }
      ],
      "source": [
        "output_length = [(e, len(TOKENIZER.encode(e)), TOKENIZER.encode(e)) for e in traindf[CLASSLABEL].unique()]\n",
        "output_length"
      ]
    },
    {
      "cell_type": "markdown",
      "metadata": {
        "id": "933-_bSHULR4"
      },
      "source": [
        "The above output shows the lengths of tokenised emotion categories which are all length of 2. Each tokenised emotion has one unique token id and token id of 1. The \"1\" id is /s token. From the output, we now know the expected output length for out task (2). Let's start creating datamodule."
      ]
    },
    {
      "cell_type": "code",
      "execution_count": null,
      "metadata": {
        "id": "4HbhEg1jULR4"
      },
      "outputs": [],
      "source": [
        "class T5Dataset(Dataset):\n",
        "    def __init__(self, df, tokenizer, text_maxlength, label_maxlength, datalabel, classlabel):\n",
        "        self.data = df\n",
        "        self.tokenizer = tokenizer\n",
        "        self.text_maxlength = text_maxlength\n",
        "        self.label_maxlength = label_maxlength\n",
        "        self.texts = self.data[datalabel].tolist()\n",
        "        self.labels = self.data[classlabel].tolist()\n",
        "\n",
        "    def __len__(self):\n",
        "        return(len(self.texts))\n",
        "\n",
        "    def __getitem__(self,idx):\n",
        "        # T5 transformers performs different tasks by prepending the particular prefix to the input text.\n",
        "        # In order to avoid dtype mismatch, as T5 is text-to-text transformer, the datatype must be string\n",
        "        text = \"emotion classification:\" + str(self.texts[idx])\n",
        "        label = str(self.labels[idx]).lower()\n",
        "        text_tokenizer = self.tokenizer(text, max_length=self.text_maxlength, padding=\"max_length\")\n",
        "        label_tokenizer = self.tokenizer(label, max_length=self.label_maxlength, padding=\"max_length\")\n",
        "\n",
        "        return {\n",
        "            \"input_ids\": torch.tensor(text_tokenizer[\"input_ids\"], dtype=torch.long),\n",
        "            \"attention_mask\": torch.tensor(text_tokenizer[\"attention_mask\"], dtype=torch.long),\n",
        "            \"label_ids\": torch.tensor(label_tokenizer[\"input_ids\"], dtype=torch.long),\n",
        "            \"label_mask\": torch.tensor(label_tokenizer[\"attention_mask\"], dtype=torch.long)\n",
        "        }"
      ]
    },
    {
      "cell_type": "code",
      "execution_count": null,
      "metadata": {
        "id": "LGCLepfzULR5"
      },
      "outputs": [],
      "source": [
        "class T5DataModule(pl.LightningDataModule):\n",
        "    def __init__(self, traindf, valdf, testdf, batch_size, tokenizer, text_maxlength, label_maxlength, datalabel, classlabel):\n",
        "        super().__init__()\n",
        "        self.datalabel = datalabel\n",
        "        self.classlabel = classlabel\n",
        "        self.traindf = traindf\n",
        "        self.valdf = valdf\n",
        "        self.testdf = testdf\n",
        "        # parameters\n",
        "        self.batch_size = batch_size\n",
        "        self.text_maxlength = text_maxlength\n",
        "        self.label_maxlength = label_maxlength\n",
        "        # tokenizer\n",
        "        self.tokenizer = tokenizer\n",
        "\n",
        "    def setup(self, stage=None):\n",
        "        self.train_dataset = T5Dataset( self.traindf, self.tokenizer, self.text_maxlength, self.label_maxlength, self.datalabel, self.classlabel)\n",
        "        self.val_dataset = T5Dataset( self.valdf, self.tokenizer, self.text_maxlength, self.label_maxlength, self.datalabel, self.classlabel)\n",
        "        self.test_dataset = T5Dataset( self.testdf, self.tokenizer, self.text_maxlength, self.label_maxlength, self.datalabel, self.classlabel)\n",
        "\n",
        "    def train_dataloader(self):\n",
        "        return DataLoader( self.train_dataset, batch_size=self.batch_size, shuffle=True)\n",
        "\n",
        "    def val_dataloader(self):\n",
        "        return DataLoader( self.val_dataset, batch_size=self.batch_size)\n",
        "\n",
        "    def test_dataloader(self):\n",
        "        return DataLoader( self.test_dataset, batch_size=self.batch_size)"
      ]
    },
    {
      "cell_type": "markdown",
      "metadata": {
        "id": "0c_vFVRRULR5"
      },
      "source": [
        "The overall proess of settingup datamodule is similar to that of BERT explain in previous section. The small different is in preparing function (getitem in T5Dataset), which we need to add istrution before the input texts. Next, let's create tuning process."
      ]
    },
    {
      "cell_type": "code",
      "execution_count": null,
      "metadata": {
        "id": "cflX6WtcULR5"
      },
      "outputs": [],
      "source": [
        "class T5Classifier(pl.LightningModule):\n",
        "    def __init__(self, model, tokenizer, epoch, train_size, generated_max_length):\n",
        "        super(T5Classifier, self).__init__()\n",
        "        self.model = model\n",
        "        self.tokenizer = tokenizer\n",
        "        self.epoch = epoch\n",
        "        self.train_size = train_size\n",
        "        self.generated_max_length = generated_max_length\n",
        "\n",
        "    def forward(self, input_ids, attention_mask, labels=None, decoder_attention_mask=None):\n",
        "        outputs = self.model(input_ids=input_ids,\n",
        "                        attention_mask=attention_mask,\n",
        "                        labels=labels,\n",
        "                        decoder_attention_mask=decoder_attention_mask)\n",
        "        return outputs.loss, outputs.logits\n",
        "\n",
        "    def accuracy_score(self,preds,labels):\n",
        "        _preds = [self.tokenizer.decode(p,skip_special_tokens=True) for p in preds]\n",
        "        _labels = [self.tokenizer.decode(l,skip_special_tokens=True) for l in labels]\n",
        "        return sum([1 if _p==_l else 0 for _p ,_l in zip(_preds,_labels)])/len(_labels)\n",
        "\n",
        "\n",
        "    def training_step(self, batch, batch_idx):\n",
        "        input_ids = batch[\"input_ids\"]\n",
        "        attention_mask = batch[\"attention_mask\"]\n",
        "        labels = batch[\"label_ids\"]\n",
        "        decoder_attention_mask = batch[\"label_mask\"]\n",
        "\n",
        "        loss, output = self(input_ids, attention_mask, labels, decoder_attention_mask)\n",
        "        pred = self.model.generate(input_ids=input_ids,\n",
        "                                     attention_mask=attention_mask,\n",
        "                                     max_length=self.generated_max_length)\n",
        "\n",
        "        self.log('train_acc', self.accuracy_score(pred, labels), on_epoch=True)\n",
        "        self.log('train_loss', loss,  on_epoch=True)\n",
        "\n",
        "        return loss\n",
        "\n",
        "    def validation_step(self, batch, batch_idx):\n",
        "        input_ids = batch[\"input_ids\"]\n",
        "        attention_mask = batch[\"attention_mask\"]\n",
        "        labels = batch[\"label_ids\"]\n",
        "        decoder_attention_mask = batch[\"label_mask\"]\n",
        "\n",
        "        loss, output = self(input_ids, attention_mask, labels, decoder_attention_mask)\n",
        "\n",
        "        pred = self.model.generate(input_ids=input_ids,\n",
        "                                     attention_mask=attention_mask,\n",
        "                                     max_length=self.generated_max_length)\n",
        "\n",
        "        self.log('val_acc', self.accuracy_score(pred, labels))\n",
        "        self.log('val_loss', loss)\n",
        "\n",
        "        return loss\n",
        "\n",
        "    def test_step(self, batch, batch_idx):\n",
        "        input_ids = batch[\"input_ids\"]\n",
        "        attention_mask = batch[\"attention_mask\"]\n",
        "        output = self.model.generate(input_ids=input_ids,\n",
        "                                     attention_mask=attention_mask,\n",
        "                                     max_length=self.generated_max_length)\n",
        "        self.log('test_acc', self.accuracy_score(output, batch[\"label_ids\"]))\n",
        "\n",
        "    def configure_optimizers(self):\n",
        "        optimizer = AdamW(self.model.parameters(), lr=0.0001)\n",
        "        scheduler = get_linear_schedule_with_warmup(\n",
        "                optimizer, num_warmup_steps=0,\n",
        "                num_training_steps=self.epoch*self.train_size)\n",
        "        return {'optimizer': optimizer, 'lr_scheduler': scheduler}"
      ]
    },
    {
      "cell_type": "code",
      "execution_count": null,
      "metadata": {
        "id": "xq7PaS4aULR6"
      },
      "outputs": [],
      "source": [
        "EPOCH = 2\n",
        "BATCH_SIZE = 8\n",
        "LABEL_LENGTH = 2\n",
        "LEARNING_RATE = 2e-5\n",
        "MODEL_MAX_LENGTH = TOKENIZER.model_max_length"
      ]
    },
    {
      "cell_type": "code",
      "execution_count": null,
      "metadata": {
        "id": "em5JMU5UULR6"
      },
      "outputs": [],
      "source": [
        "T5data = T5DataModule(traindf = traindf,\n",
        "                      valdf = valdf,\n",
        "                      testdf = testdf,\n",
        "                      batch_size = BATCH_SIZE,\n",
        "                      tokenizer = TOKENIZER,\n",
        "                      text_maxlength = MODEL_MAX_LENGTH,\n",
        "                      label_maxlength = LABEL_LENGTH,\n",
        "                      datalabel = DATALABEL,\n",
        "                      classlabel = CLASSLABEL)\n",
        "T5data.setup()"
      ]
    },
    {
      "cell_type": "code",
      "execution_count": null,
      "metadata": {
        "colab": {
          "referenced_widgets": [
            "a0c5baed0e4c4adba24ad774f6e4d652",
            "a21d2975935446479c91bcc3a6ef9168",
            "904682eac5c646629fca7b308481cf31",
            "3321dba1b08f4bb88232a32d7482fc0b"
          ]
        },
        "id": "6bFSlPpQULR6",
        "outputId": "2e864907-2765-4207-9563-f2098a28c363"
      },
      "outputs": [
        {
          "name": "stderr",
          "output_type": "stream",
          "text": [
            "Using 16bit Automatic Mixed Precision (AMP)\n",
            "GPU available: True (cuda), used: True\n",
            "TPU available: False, using: 0 TPU cores\n",
            "IPU available: False, using: 0 IPUs\n",
            "HPU available: False, using: 0 HPUs\n",
            "e:\\miniconda3\\envs\\phdenv\\Lib\\site-packages\\lightning\\fabric\\loggers\\csv_logs.py:268: Experiment logs directory ./logs\\T5_ekman\\version_1 exists and is not empty. Previous log files in this directory will be deleted when the new ones are saved!\n",
            "e:\\miniconda3\\envs\\phdenv\\Lib\\site-packages\\pytorch_lightning\\callbacks\\model_checkpoint.py:653: Checkpoint directory ./logs\\T5_ekman\\version_1\\checkpoints exists and is not empty.\n",
            "LOCAL_RANK: 0 - CUDA_VISIBLE_DEVICES: [0]\n",
            "e:\\miniconda3\\envs\\phdenv\\Lib\\site-packages\\transformers\\optimization.py:588: FutureWarning: This implementation of AdamW is deprecated and will be removed in a future version. Use the PyTorch implementation torch.optim.AdamW instead, or set `no_deprecation_warning=True` to disable this warning\n",
            "  warnings.warn(\n",
            "\n",
            "  | Name  | Type                       | Params\n",
            "-----------------------------------------------------\n",
            "0 | model | T5ForConditionalGeneration | 60.5 M\n",
            "-----------------------------------------------------\n",
            "60.5 M    Trainable params\n",
            "0         Non-trainable params\n",
            "60.5 M    Total params\n",
            "242.026   Total estimated model params size (MB)\n"
          ]
        },
        {
          "data": {
            "application/vnd.jupyter.widget-view+json": {
              "model_id": "a0c5baed0e4c4adba24ad774f6e4d652",
              "version_major": 2,
              "version_minor": 0
            },
            "text/plain": [
              "Sanity Checking: |          | 0/? [00:00<?, ?it/s]"
            ]
          },
          "metadata": {},
          "output_type": "display_data"
        },
        {
          "name": "stderr",
          "output_type": "stream",
          "text": [
            "e:\\miniconda3\\envs\\phdenv\\Lib\\site-packages\\pytorch_lightning\\trainer\\connectors\\data_connector.py:441: The 'val_dataloader' does not have many workers which may be a bottleneck. Consider increasing the value of the `num_workers` argument` to `num_workers=15` in the `DataLoader` to improve performance.\n",
            "e:\\miniconda3\\envs\\phdenv\\Lib\\site-packages\\pytorch_lightning\\trainer\\connectors\\data_connector.py:441: The 'train_dataloader' does not have many workers which may be a bottleneck. Consider increasing the value of the `num_workers` argument` to `num_workers=15` in the `DataLoader` to improve performance.\n"
          ]
        },
        {
          "data": {
            "application/vnd.jupyter.widget-view+json": {
              "model_id": "a21d2975935446479c91bcc3a6ef9168",
              "version_major": 2,
              "version_minor": 0
            },
            "text/plain": [
              "Training: |          | 0/? [00:00<?, ?it/s]"
            ]
          },
          "metadata": {},
          "output_type": "display_data"
        },
        {
          "data": {
            "application/vnd.jupyter.widget-view+json": {
              "model_id": "904682eac5c646629fca7b308481cf31",
              "version_major": 2,
              "version_minor": 0
            },
            "text/plain": [
              "Validation: |          | 0/? [00:00<?, ?it/s]"
            ]
          },
          "metadata": {},
          "output_type": "display_data"
        },
        {
          "data": {
            "application/vnd.jupyter.widget-view+json": {
              "model_id": "3321dba1b08f4bb88232a32d7482fc0b",
              "version_major": 2,
              "version_minor": 0
            },
            "text/plain": [
              "Validation: |          | 0/? [00:00<?, ?it/s]"
            ]
          },
          "metadata": {},
          "output_type": "display_data"
        },
        {
          "name": "stderr",
          "output_type": "stream",
          "text": [
            "`Trainer.fit` stopped: `max_epochs=2` reached.\n"
          ]
        }
      ],
      "source": [
        "logger = CSVLogger(\"./logs\", name='T5_ekman', version=1)\n",
        "\n",
        "T5cls = T5Classifier(model = MODEL,\n",
        "                     tokenizer = TOKENIZER,\n",
        "                     epoch = EPOCH,\n",
        "                     train_size = TRAIN_SIZE,\n",
        "                     generated_max_length = LABEL_LENGTH)\n",
        "trainer = pl.Trainer(\n",
        "    accelerator=\"auto\",\n",
        "    devices=\"auto\",\n",
        "    max_epochs=EPOCH,\n",
        "    precision=\"16-mixed\",\n",
        "    logger=logger)\n",
        "\n",
        "trainer.fit(T5cls, T5data)\n"
      ]
    },
    {
      "cell_type": "code",
      "execution_count": null,
      "metadata": {
        "colab": {
          "referenced_widgets": [
            "9ca5c4e2bb354056b6a326404dcb2371"
          ]
        },
        "id": "HDYLbP6tULR6",
        "outputId": "9d071671-64cd-4a7f-83dc-0b68de937a94"
      },
      "outputs": [
        {
          "name": "stderr",
          "output_type": "stream",
          "text": [
            "LOCAL_RANK: 0 - CUDA_VISIBLE_DEVICES: [0]\n",
            "e:\\miniconda3\\envs\\phdenv\\Lib\\site-packages\\pytorch_lightning\\trainer\\connectors\\data_connector.py:441: The 'test_dataloader' does not have many workers which may be a bottleneck. Consider increasing the value of the `num_workers` argument` to `num_workers=15` in the `DataLoader` to improve performance.\n"
          ]
        },
        {
          "data": {
            "application/vnd.jupyter.widget-view+json": {
              "model_id": "9ca5c4e2bb354056b6a326404dcb2371",
              "version_major": 2,
              "version_minor": 0
            },
            "text/plain": [
              "Testing: |          | 0/? [00:00<?, ?it/s]"
            ]
          },
          "metadata": {},
          "output_type": "display_data"
        },
        {
          "name": "stdout",
          "output_type": "stream",
          "text": [
            "────────────────────────────────────────────────────────────────────────────────────────────────────────────────────────\n",
            "       Test metric             DataLoader 0\n",
            "────────────────────────────────────────────────────────────────────────────────────────────────────────────────────────\n",
            "        test_acc            0.6397637724876404\n",
            "────────────────────────────────────────────────────────────────────────────────────────────────────────────────────────\n"
          ]
        },
        {
          "data": {
            "text/plain": [
              "[{'test_acc': 0.6397637724876404}]"
            ]
          },
          "execution_count": 78,
          "metadata": {},
          "output_type": "execute_result"
        }
      ],
      "source": [
        "trainer.test(T5cls, T5data)"
      ]
    },
    {
      "cell_type": "code",
      "execution_count": null,
      "metadata": {
        "id": "yXSBCpsEULR7",
        "outputId": "cc7defb2-cc85-480b-f9bc-c34da71418c4"
      },
      "outputs": [
        {
          "data": {
            "text/html": [
              "<div>\n",
              "<style scoped>\n",
              "    .dataframe tbody tr th:only-of-type {\n",
              "        vertical-align: middle;\n",
              "    }\n",
              "\n",
              "    .dataframe tbody tr th {\n",
              "        vertical-align: top;\n",
              "    }\n",
              "\n",
              "    .dataframe thead th {\n",
              "        text-align: right;\n",
              "    }\n",
              "</style>\n",
              "<table border=\"1\" class=\"dataframe\">\n",
              "  <thead>\n",
              "    <tr style=\"text-align: right;\">\n",
              "      <th></th>\n",
              "      <th>test_acc</th>\n",
              "    </tr>\n",
              "  </thead>\n",
              "  <tbody>\n",
              "    <tr>\n",
              "      <th>0</th>\n",
              "      <td>0.639764</td>\n",
              "    </tr>\n",
              "  </tbody>\n",
              "</table>\n",
              "</div>"
            ],
            "text/plain": [
              "   test_acc\n",
              "0  0.639764"
            ]
          },
          "execution_count": 79,
          "metadata": {},
          "output_type": "execute_result"
        }
      ],
      "source": [
        "metrices = pd.read_csv('./logs/T5_ekman/version_1/metrics.csv')\n",
        "test_perm , tuning_stats = GetTuningStats(metrices)\n",
        "test_perm"
      ]
    },
    {
      "cell_type": "code",
      "execution_count": null,
      "metadata": {
        "id": "WkJd1On8ULR7",
        "outputId": "2686b77b-2eee-4913-af07-9d2abb5c1a61"
      },
      "outputs": [
        {
          "data": {
            "text/plain": [
              "<Axes: >"
            ]
          },
          "execution_count": 80,
          "metadata": {},
          "output_type": "execute_result"
        },
        {
          "data": {
            "image/png": "[encoded data removed]",
            "text/plain": [
              "<Figure size 640x480 with 1 Axes>"
            ]
          },
          "metadata": {},
          "output_type": "display_data"
        },
        {
          "data": {
            "image/png": "[encoded data removed]",
            "text/plain": [
              "<Figure size 640x480 with 1 Axes>"
            ]
          },
          "metadata": {},
          "output_type": "display_data"
        }
      ],
      "source": [
        "tuning_stats[['train_loss_epoch','val_loss']].plot()\n",
        "tuning_stats[['train_acc_epoch','val_acc']].plot()"
      ]
    },
    {
      "cell_type": "code",
      "execution_count": null,
      "metadata": {
        "id": "4LFZce3tULR7",
        "outputId": "4569ee55-a077-49fc-eacb-1d2ba5d643b6"
      },
      "outputs": [
        {
          "data": {
            "text/plain": [
              "{'bert_ekman': 0.7224409580230713,\n",
              " 'bert_goemo': 0.5255905389785767,\n",
              " 'roberta_ekman': 0.4921259880065918,\n",
              " 't5_ekman': 0.6397637724876404}"
            ]
          },
          "execution_count": 81,
          "metadata": {},
          "output_type": "execute_result"
        }
      ],
      "source": [
        "results['t5_ekman'] = test_perm.test_acc.to_list()[0]\n",
        "results"
      ]
    },
    {
      "cell_type": "markdown",
      "metadata": {
        "id": "ViDgpTS9ULR7"
      },
      "source": [
        "Now we know how to tune T5 based on Ekman scheme. Similarly if we want to tune T5 based on GoEmotion scheme. We first need to fine the expeted output length."
      ]
    },
    {
      "cell_type": "code",
      "execution_count": null,
      "metadata": {
        "id": "8urgrZA5ULR8",
        "outputId": "fba0746c-78f2-4e15-d71e-fa3511779511"
      },
      "outputs": [
        {
          "data": {
            "text/plain": [
              "[('neutral', 2, [7163, 1]),\n",
              " ('anger', 2, [11213, 1]),\n",
              " ('fear', 2, [2971, 1]),\n",
              " ('annoyance', 5, [3, 24889, 63, 663, 1]),\n",
              " ('surprise', 2, [4158, 1]),\n",
              " ('gratitude', 2, [17142, 1]),\n",
              " ('admiration', 3, [10407, 257, 1]),\n",
              " ('confusion', 2, [12413, 1]),\n",
              " ('caring', 2, [10328, 1]),\n",
              " ('embarrassment', 6, [10960, 10116, 7, 7, 297, 1]),\n",
              " ('joy', 2, [3922, 1]),\n",
              " ('sadness', 2, [24784, 1]),\n",
              " ('disapproval', 4, [1028, 12497, 2165, 1]),\n",
              " ('optimism', 2, [24543, 1]),\n",
              " ('approval', 2, [5142, 1]),\n",
              " ('excitement', 2, [10147, 1]),\n",
              " ('amusement', 3, [183, 12431, 1]),\n",
              " ('disappointment', 2, [19142, 1]),\n",
              " ('remorse', 6, [3, 60, 2528, 7, 15, 1]),\n",
              " ('love', 2, [333, 1]),\n",
              " ('curiosity', 2, [18967, 1]),\n",
              " ('realization', 2, [23543, 1]),\n",
              " ('disgust', 2, [27635, 1]),\n",
              " ('relief', 2, [4956, 1]),\n",
              " ('pride', 2, [6064, 1]),\n",
              " ('grief', 2, [17523, 1]),\n",
              " ('desire', 2, [3667, 1]),\n",
              " ('nervousness', 3, [10045, 655, 1])]"
            ]
          },
          "execution_count": 82,
          "metadata": {},
          "output_type": "execute_result"
        }
      ],
      "source": [
        "DATALABEL = 'text'\n",
        "CLASSLABEL = 'go_label'\n",
        "output_length = [(e, len(TOKENIZER.encode(e)), TOKENIZER.encode(e)) for e in traindf[CLASSLABEL].unique()]\n",
        "output_length"
      ]
    },
    {
      "cell_type": "markdown",
      "metadata": {
        "id": "iyMr3JbpULR8"
      },
      "source": [
        "As can be observed, the max length is 6. Let's setup parameters and start tuning."
      ]
    },
    {
      "cell_type": "code",
      "execution_count": null,
      "metadata": {
        "id": "_AmBgE1uULR8"
      },
      "outputs": [],
      "source": [
        "EPOCH = 2\n",
        "BATCH_SIZE = 8\n",
        "LABEL_LENGTH = 6\n",
        "LEARNING_RATE = 2e-5\n",
        "MODEL_MAX_LENGTH = TOKENIZER.model_max_length\n",
        "\n",
        "T5data_goemo = T5DataModule(traindf = traindf,\n",
        "                      valdf = valdf,\n",
        "                      testdf = testdf,\n",
        "                      batch_size = BATCH_SIZE,\n",
        "                      tokenizer = TOKENIZER,\n",
        "                      text_maxlength = MODEL_MAX_LENGTH,\n",
        "                      label_maxlength = LABEL_LENGTH,\n",
        "                      datalabel = DATALABEL,\n",
        "                      classlabel = CLASSLABEL)\n",
        "T5data_goemo.setup()"
      ]
    },
    {
      "cell_type": "code",
      "execution_count": null,
      "metadata": {
        "colab": {
          "referenced_widgets": [
            "ec596f8cb48645919032401fd1549355",
            "85616a2c2c16461f99934855fe3313df",
            "eda6bb89e65f4f86a54a100ab93ee8dd",
            "12b693ae585e476981444c277edaef28"
          ]
        },
        "id": "qkpS5FYUULR8",
        "outputId": "0ff8aa27-5c16-4c51-8493-ef4a8d6a237d"
      },
      "outputs": [
        {
          "name": "stderr",
          "output_type": "stream",
          "text": [
            "Using 16bit Automatic Mixed Precision (AMP)\n",
            "GPU available: True (cuda), used: True\n",
            "TPU available: False, using: 0 TPU cores\n",
            "IPU available: False, using: 0 IPUs\n",
            "HPU available: False, using: 0 HPUs\n",
            "LOCAL_RANK: 0 - CUDA_VISIBLE_DEVICES: [0]\n",
            "e:\\miniconda3\\envs\\phdenv\\Lib\\site-packages\\transformers\\optimization.py:588: FutureWarning: This implementation of AdamW is deprecated and will be removed in a future version. Use the PyTorch implementation torch.optim.AdamW instead, or set `no_deprecation_warning=True` to disable this warning\n",
            "  warnings.warn(\n",
            "\n",
            "  | Name  | Type                       | Params\n",
            "-----------------------------------------------------\n",
            "0 | model | T5ForConditionalGeneration | 60.5 M\n",
            "-----------------------------------------------------\n",
            "60.5 M    Trainable params\n",
            "0         Non-trainable params\n",
            "60.5 M    Total params\n",
            "242.026   Total estimated model params size (MB)\n"
          ]
        },
        {
          "data": {
            "application/vnd.jupyter.widget-view+json": {
              "model_id": "ec596f8cb48645919032401fd1549355",
              "version_major": 2,
              "version_minor": 0
            },
            "text/plain": [
              "Sanity Checking: |          | 0/? [00:00<?, ?it/s]"
            ]
          },
          "metadata": {},
          "output_type": "display_data"
        },
        {
          "name": "stderr",
          "output_type": "stream",
          "text": [
            "e:\\miniconda3\\envs\\phdenv\\Lib\\site-packages\\pytorch_lightning\\trainer\\connectors\\data_connector.py:441: The 'val_dataloader' does not have many workers which may be a bottleneck. Consider increasing the value of the `num_workers` argument` to `num_workers=15` in the `DataLoader` to improve performance.\n",
            "e:\\miniconda3\\envs\\phdenv\\Lib\\site-packages\\pytorch_lightning\\trainer\\connectors\\data_connector.py:441: The 'train_dataloader' does not have many workers which may be a bottleneck. Consider increasing the value of the `num_workers` argument` to `num_workers=15` in the `DataLoader` to improve performance.\n"
          ]
        },
        {
          "data": {
            "application/vnd.jupyter.widget-view+json": {
              "model_id": "85616a2c2c16461f99934855fe3313df",
              "version_major": 2,
              "version_minor": 0
            },
            "text/plain": [
              "Training: |          | 0/? [00:00<?, ?it/s]"
            ]
          },
          "metadata": {},
          "output_type": "display_data"
        },
        {
          "data": {
            "application/vnd.jupyter.widget-view+json": {
              "model_id": "eda6bb89e65f4f86a54a100ab93ee8dd",
              "version_major": 2,
              "version_minor": 0
            },
            "text/plain": [
              "Validation: |          | 0/? [00:00<?, ?it/s]"
            ]
          },
          "metadata": {},
          "output_type": "display_data"
        },
        {
          "data": {
            "application/vnd.jupyter.widget-view+json": {
              "model_id": "12b693ae585e476981444c277edaef28",
              "version_major": 2,
              "version_minor": 0
            },
            "text/plain": [
              "Validation: |          | 0/? [00:00<?, ?it/s]"
            ]
          },
          "metadata": {},
          "output_type": "display_data"
        },
        {
          "name": "stderr",
          "output_type": "stream",
          "text": [
            "`Trainer.fit` stopped: `max_epochs=2` reached.\n"
          ]
        }
      ],
      "source": [
        "logger = CSVLogger(\"./logs\", name='T5_goemo', version=1)\n",
        "\n",
        "T5cls_goemo = T5Classifier(model = MODEL,\n",
        "                     tokenizer = TOKENIZER,\n",
        "                     epoch = EPOCH,\n",
        "                     train_size = TRAIN_SIZE,\n",
        "                     generated_max_length = LABEL_LENGTH)\n",
        "trainer = pl.Trainer(\n",
        "    accelerator=\"auto\",\n",
        "    devices=\"auto\",\n",
        "    max_epochs=EPOCH,\n",
        "    precision=\"16-mixed\",\n",
        "    logger=logger)\n",
        "\n",
        "trainer.fit(T5cls_goemo, T5data_goemo)"
      ]
    },
    {
      "cell_type": "code",
      "execution_count": null,
      "metadata": {
        "colab": {
          "referenced_widgets": [
            "1bfbb1b64ec647818a9c80c028bc3a42"
          ]
        },
        "id": "4g4dmZijULR8",
        "outputId": "33df8eeb-c928-43e8-907c-1e9528407158"
      },
      "outputs": [
        {
          "name": "stderr",
          "output_type": "stream",
          "text": [
            "LOCAL_RANK: 0 - CUDA_VISIBLE_DEVICES: [0]\n",
            "e:\\miniconda3\\envs\\phdenv\\Lib\\site-packages\\pytorch_lightning\\trainer\\connectors\\data_connector.py:441: The 'test_dataloader' does not have many workers which may be a bottleneck. Consider increasing the value of the `num_workers` argument` to `num_workers=15` in the `DataLoader` to improve performance.\n"
          ]
        },
        {
          "data": {
            "application/vnd.jupyter.widget-view+json": {
              "model_id": "1bfbb1b64ec647818a9c80c028bc3a42",
              "version_major": 2,
              "version_minor": 0
            },
            "text/plain": [
              "Testing: |          | 0/? [00:00<?, ?it/s]"
            ]
          },
          "metadata": {},
          "output_type": "display_data"
        },
        {
          "name": "stdout",
          "output_type": "stream",
          "text": [
            "────────────────────────────────────────────────────────────────────────────────────────────────────────────────────────\n",
            "       Test metric             DataLoader 0\n",
            "────────────────────────────────────────────────────────────────────────────────────────────────────────────────────────\n",
            "        test_acc            0.3937007784843445\n",
            "────────────────────────────────────────────────────────────────────────────────────────────────────────────────────────\n"
          ]
        },
        {
          "data": {
            "text/plain": [
              "[{'test_acc': 0.3937007784843445}]"
            ]
          },
          "execution_count": 85,
          "metadata": {},
          "output_type": "execute_result"
        }
      ],
      "source": [
        "trainer.test(T5cls_goemo, T5data_goemo)"
      ]
    },
    {
      "cell_type": "code",
      "execution_count": null,
      "metadata": {
        "id": "7C9dEknmULR8",
        "outputId": "4c109fdc-e796-4faa-95ca-b6566a75b961"
      },
      "outputs": [
        {
          "data": {
            "text/html": [
              "<div>\n",
              "<style scoped>\n",
              "    .dataframe tbody tr th:only-of-type {\n",
              "        vertical-align: middle;\n",
              "    }\n",
              "\n",
              "    .dataframe tbody tr th {\n",
              "        vertical-align: top;\n",
              "    }\n",
              "\n",
              "    .dataframe thead th {\n",
              "        text-align: right;\n",
              "    }\n",
              "</style>\n",
              "<table border=\"1\" class=\"dataframe\">\n",
              "  <thead>\n",
              "    <tr style=\"text-align: right;\">\n",
              "      <th></th>\n",
              "      <th>test_acc</th>\n",
              "    </tr>\n",
              "  </thead>\n",
              "  <tbody>\n",
              "    <tr>\n",
              "      <th>0</th>\n",
              "      <td>0.393701</td>\n",
              "    </tr>\n",
              "  </tbody>\n",
              "</table>\n",
              "</div>"
            ],
            "text/plain": [
              "   test_acc\n",
              "0  0.393701"
            ]
          },
          "execution_count": 88,
          "metadata": {},
          "output_type": "execute_result"
        }
      ],
      "source": [
        "metrices = pd.read_csv('./logs/T5_goemo/version_1/metrics.csv')\n",
        "test_perm , tuning_stats = GetTuningStats(metrices)\n",
        "test_perm\n"
      ]
    },
    {
      "cell_type": "code",
      "execution_count": null,
      "metadata": {
        "id": "DpWeXQTaULR8",
        "outputId": "4fb1ea48-8a5f-4a73-9d5b-1d248620d58d"
      },
      "outputs": [
        {
          "data": {
            "text/plain": [
              "<Axes: >"
            ]
          },
          "execution_count": 89,
          "metadata": {},
          "output_type": "execute_result"
        },
        {
          "data": {
            "image/png": "[encoded data removed]",
            "text/plain": [
              "<Figure size 640x480 with 1 Axes>"
            ]
          },
          "metadata": {},
          "output_type": "display_data"
        },
        {
          "data": {
            "image/png": "[encoded data removed]",
            "text/plain": [
              "<Figure size 640x480 with 1 Axes>"
            ]
          },
          "metadata": {},
          "output_type": "display_data"
        }
      ],
      "source": [
        "tuning_stats[['train_loss_epoch','val_loss']].plot()\n",
        "tuning_stats[['train_acc_epoch','val_acc']].plot()"
      ]
    },
    {
      "cell_type": "code",
      "execution_count": null,
      "metadata": {
        "id": "hVtN0fTkULR9",
        "outputId": "b6491d57-92e6-4346-95c3-6f82f899f36a"
      },
      "outputs": [
        {
          "data": {
            "text/plain": [
              "{'bert_ekman': 0.7224409580230713,\n",
              " 'bert_goemo': 0.5255905389785767,\n",
              " 'roberta_ekman': 0.4921259880065918,\n",
              " 't5_ekman': 0.6397637724876404,\n",
              " 't5_goemo': 0.3937007784843445}"
            ]
          },
          "execution_count": 90,
          "metadata": {},
          "output_type": "execute_result"
        }
      ],
      "source": [
        "results['t5_goemo'] = test_perm.test_acc.to_list()[0]\n",
        "results"
      ]
    },
    {
      "cell_type": "markdown",
      "metadata": {
        "id": "srVs70ovULR9"
      },
      "source": [
        "T5 model can also be saved the same way we save BERT and RoBERTa."
      ]
    },
    {
      "cell_type": "code",
      "execution_count": null,
      "metadata": {
        "id": "PeI0m5ubULR9"
      },
      "outputs": [],
      "source": [
        "# saving\n",
        "torch.save(T5cls_goemo.state_dict(), './tuned_models/t5go.pt')"
      ]
    },
    {
      "cell_type": "code",
      "execution_count": null,
      "metadata": {
        "id": "j8Yftq-2ULR9",
        "outputId": "0fc29c24-2549-4549-ef73-2f2790691939"
      },
      "outputs": [
        {
          "data": {
            "text/plain": [
              "T5Classifier(\n",
              "  (model): T5ForConditionalGeneration(\n",
              "    (shared): Embedding(32128, 512)\n",
              "    (encoder): T5Stack(\n",
              "      (embed_tokens): Embedding(32128, 512)\n",
              "      (block): ModuleList(\n",
              "        (0): T5Block(\n",
              "          (layer): ModuleList(\n",
              "            (0): T5LayerSelfAttention(\n",
              "              (SelfAttention): T5Attention(\n",
              "                (q): Linear(in_features=512, out_features=512, bias=False)\n",
              "                (k): Linear(in_features=512, out_features=512, bias=False)\n",
              "                (v): Linear(in_features=512, out_features=512, bias=False)\n",
              "                (o): Linear(in_features=512, out_features=512, bias=False)\n",
              "                (relative_attention_bias): Embedding(32, 8)\n",
              "              )\n",
              "              (layer_norm): T5LayerNorm()\n",
              "              (dropout): Dropout(p=0.1, inplace=False)\n",
              "            )\n",
              "            (1): T5LayerFF(\n",
              "              (DenseReluDense): T5DenseActDense(\n",
              "                (wi): Linear(in_features=512, out_features=2048, bias=False)\n",
              "                (wo): Linear(in_features=2048, out_features=512, bias=False)\n",
              "                (dropout): Dropout(p=0.1, inplace=False)\n",
              "                (act): ReLU()\n",
              "              )\n",
              "              (layer_norm): T5LayerNorm()\n",
              "              (dropout): Dropout(p=0.1, inplace=False)\n",
              "            )\n",
              "          )\n",
              "        )\n",
              "        (1-5): 5 x T5Block(\n",
              "          (layer): ModuleList(\n",
              "            (0): T5LayerSelfAttention(\n",
              "              (SelfAttention): T5Attention(\n",
              "                (q): Linear(in_features=512, out_features=512, bias=False)\n",
              "                (k): Linear(in_features=512, out_features=512, bias=False)\n",
              "                (v): Linear(in_features=512, out_features=512, bias=False)\n",
              "                (o): Linear(in_features=512, out_features=512, bias=False)\n",
              "              )\n",
              "              (layer_norm): T5LayerNorm()\n",
              "              (dropout): Dropout(p=0.1, inplace=False)\n",
              "            )\n",
              "            (1): T5LayerFF(\n",
              "              (DenseReluDense): T5DenseActDense(\n",
              "                (wi): Linear(in_features=512, out_features=2048, bias=False)\n",
              "                (wo): Linear(in_features=2048, out_features=512, bias=False)\n",
              "                (dropout): Dropout(p=0.1, inplace=False)\n",
              "                (act): ReLU()\n",
              "              )\n",
              "              (layer_norm): T5LayerNorm()\n",
              "              (dropout): Dropout(p=0.1, inplace=False)\n",
              "            )\n",
              "          )\n",
              "        )\n",
              "      )\n",
              "      (final_layer_norm): T5LayerNorm()\n",
              "      (dropout): Dropout(p=0.1, inplace=False)\n",
              "    )\n",
              "    (decoder): T5Stack(\n",
              "      (embed_tokens): Embedding(32128, 512)\n",
              "      (block): ModuleList(\n",
              "        (0): T5Block(\n",
              "          (layer): ModuleList(\n",
              "            (0): T5LayerSelfAttention(\n",
              "              (SelfAttention): T5Attention(\n",
              "                (q): Linear(in_features=512, out_features=512, bias=False)\n",
              "                (k): Linear(in_features=512, out_features=512, bias=False)\n",
              "                (v): Linear(in_features=512, out_features=512, bias=False)\n",
              "                (o): Linear(in_features=512, out_features=512, bias=False)\n",
              "                (relative_attention_bias): Embedding(32, 8)\n",
              "              )\n",
              "              (layer_norm): T5LayerNorm()\n",
              "              (dropout): Dropout(p=0.1, inplace=False)\n",
              "            )\n",
              "            (1): T5LayerCrossAttention(\n",
              "              (EncDecAttention): T5Attention(\n",
              "                (q): Linear(in_features=512, out_features=512, bias=False)\n",
              "                (k): Linear(in_features=512, out_features=512, bias=False)\n",
              "                (v): Linear(in_features=512, out_features=512, bias=False)\n",
              "                (o): Linear(in_features=512, out_features=512, bias=False)\n",
              "              )\n",
              "              (layer_norm): T5LayerNorm()\n",
              "              (dropout): Dropout(p=0.1, inplace=False)\n",
              "            )\n",
              "            (2): T5LayerFF(\n",
              "              (DenseReluDense): T5DenseActDense(\n",
              "                (wi): Linear(in_features=512, out_features=2048, bias=False)\n",
              "                (wo): Linear(in_features=2048, out_features=512, bias=False)\n",
              "                (dropout): Dropout(p=0.1, inplace=False)\n",
              "                (act): ReLU()\n",
              "              )\n",
              "              (layer_norm): T5LayerNorm()\n",
              "              (dropout): Dropout(p=0.1, inplace=False)\n",
              "            )\n",
              "          )\n",
              "        )\n",
              "        (1-5): 5 x T5Block(\n",
              "          (layer): ModuleList(\n",
              "            (0): T5LayerSelfAttention(\n",
              "              (SelfAttention): T5Attention(\n",
              "                (q): Linear(in_features=512, out_features=512, bias=False)\n",
              "                (k): Linear(in_features=512, out_features=512, bias=False)\n",
              "                (v): Linear(in_features=512, out_features=512, bias=False)\n",
              "                (o): Linear(in_features=512, out_features=512, bias=False)\n",
              "              )\n",
              "              (layer_norm): T5LayerNorm()\n",
              "              (dropout): Dropout(p=0.1, inplace=False)\n",
              "            )\n",
              "            (1): T5LayerCrossAttention(\n",
              "              (EncDecAttention): T5Attention(\n",
              "                (q): Linear(in_features=512, out_features=512, bias=False)\n",
              "                (k): Linear(in_features=512, out_features=512, bias=False)\n",
              "                (v): Linear(in_features=512, out_features=512, bias=False)\n",
              "                (o): Linear(in_features=512, out_features=512, bias=False)\n",
              "              )\n",
              "              (layer_norm): T5LayerNorm()\n",
              "              (dropout): Dropout(p=0.1, inplace=False)\n",
              "            )\n",
              "            (2): T5LayerFF(\n",
              "              (DenseReluDense): T5DenseActDense(\n",
              "                (wi): Linear(in_features=512, out_features=2048, bias=False)\n",
              "                (wo): Linear(in_features=2048, out_features=512, bias=False)\n",
              "                (dropout): Dropout(p=0.1, inplace=False)\n",
              "                (act): ReLU()\n",
              "              )\n",
              "              (layer_norm): T5LayerNorm()\n",
              "              (dropout): Dropout(p=0.1, inplace=False)\n",
              "            )\n",
              "          )\n",
              "        )\n",
              "      )\n",
              "      (final_layer_norm): T5LayerNorm()\n",
              "      (dropout): Dropout(p=0.1, inplace=False)\n",
              "    )\n",
              "    (lm_head): Linear(in_features=512, out_features=32128, bias=False)\n",
              "  )\n",
              ")"
            ]
          },
          "execution_count": 93,
          "metadata": {},
          "output_type": "execute_result"
        }
      ],
      "source": [
        "# loading\n",
        "saved_model = T5Classifier(model = MODEL,\n",
        "                     tokenizer = TOKENIZER,\n",
        "                     epoch = EPOCH,\n",
        "                     train_size = TRAIN_SIZE,\n",
        "                     generated_max_length = LABEL_LENGTH\n",
        ")\n",
        "saved_model.load_state_dict(torch.load('./tuned_models/t5go.pt'))\n",
        "saved_model.eval()"
      ]
    },
    {
      "cell_type": "code",
      "execution_count": null,
      "metadata": {
        "id": "ow6vsoaqULR9"
      },
      "outputs": [],
      "source": []
    }
  ],
  "metadata": {
    "colab": {
      "include_colab_link": true,
      "provenance": []
    },
    "kernelspec": {
      "display_name": "phdenv",
      "language": "python",
      "name": "python3"
    },
    "language_info": {
      "codemirror_mode": {
        "name": "ipython",
        "version": 3
      },
      "file_extension": ".py",
      "mimetype": "text/x-python",
      "name": "python",
      "nbconvert_exporter": "python",
      "pygments_lexer": "ipython3",
      "version": "3.12.3"
    },
    "widgets": {
      "application/vnd.jupyter.widget-state+json": {
        "02ca9c20647b471796d82c92252a19c7": {
          "model_module": "@jupyter-widgets/controls",
          "model_module_version": "1.5.0",
          "model_name": "DescriptionStyleModel",
          "state": {
            "_model_module": "@jupyter-widgets/controls",
            "_model_module_version": "1.5.0",
            "_model_name": "DescriptionStyleModel",
            "_view_count": null,
            "_view_module": "@jupyter-widgets/base",
            "_view_module_version": "1.2.0",
            "_view_name": "StyleView",
            "description_width": ""
          }
        },
        "0a474ebed5384fb2a037857765d237ea": {
          "model_module": "@jupyter-widgets/controls",
          "model_module_version": "1.5.0",
          "model_name": "DescriptionStyleModel",
          "state": {
            "_model_module": "@jupyter-widgets/controls",
            "_model_module_version": "1.5.0",
            "_model_name": "DescriptionStyleModel",
            "_view_count": null,
            "_view_module": "@jupyter-widgets/base",
            "_view_module_version": "1.2.0",
            "_view_name": "StyleView",
            "description_width": ""
          }
        },
        "0b9a0f86573e4c5eaa1ef2a80f36a2ca": {
          "model_module": "@jupyter-widgets/base",
          "model_module_version": "1.2.0",
          "model_name": "LayoutModel",
          "state": {
            "_model_module": "@jupyter-widgets/base",
            "_model_module_version": "1.2.0",
            "_model_name": "LayoutModel",
            "_view_count": null,
            "_view_module": "@jupyter-widgets/base",
            "_view_module_version": "1.2.0",
            "_view_name": "LayoutView",
            "align_content": null,
            "align_items": null,
            "align_self": null,
            "border": null,
            "bottom": null,
            "display": null,
            "flex": null,
            "flex_flow": null,
            "grid_area": null,
            "grid_auto_columns": null,
            "grid_auto_flow": null,
            "grid_auto_rows": null,
            "grid_column": null,
            "grid_gap": null,
            "grid_row": null,
            "grid_template_areas": null,
            "grid_template_columns": null,
            "grid_template_rows": null,
            "height": null,
            "justify_content": null,
            "justify_items": null,
            "left": null,
            "margin": null,
            "max_height": null,
            "max_width": null,
            "min_height": null,
            "min_width": null,
            "object_fit": null,
            "object_position": null,
            "order": null,
            "overflow": null,
            "overflow_x": null,
            "overflow_y": null,
            "padding": null,
            "right": null,
            "top": null,
            "visibility": null,
            "width": null
          }
        },
        "101660bc543e4e4591dd936989261557": {
          "model_module": "@jupyter-widgets/base",
          "model_module_version": "1.2.0",
          "model_name": "LayoutModel",
          "state": {
            "_model_module": "@jupyter-widgets/base",
            "_model_module_version": "1.2.0",
            "_model_name": "LayoutModel",
            "_view_count": null,
            "_view_module": "@jupyter-widgets/base",
            "_view_module_version": "1.2.0",
            "_view_name": "LayoutView",
            "align_content": null,
            "align_items": null,
            "align_self": null,
            "border": null,
            "bottom": null,
            "display": null,
            "flex": null,
            "flex_flow": null,
            "grid_area": null,
            "grid_auto_columns": null,
            "grid_auto_flow": null,
            "grid_auto_rows": null,
            "grid_column": null,
            "grid_gap": null,
            "grid_row": null,
            "grid_template_areas": null,
            "grid_template_columns": null,
            "grid_template_rows": null,
            "height": null,
            "justify_content": null,
            "justify_items": null,
            "left": null,
            "margin": null,
            "max_height": null,
            "max_width": null,
            "min_height": null,
            "min_width": null,
            "object_fit": null,
            "object_position": null,
            "order": null,
            "overflow": null,
            "overflow_x": null,
            "overflow_y": null,
            "padding": null,
            "right": null,
            "top": null,
            "visibility": null,
            "width": null
          }
        },
        "134f3aed1cb9418d930792b58c2261e2": {
          "model_module": "@jupyter-widgets/base",
          "model_module_version": "1.2.0",
          "model_name": "LayoutModel",
          "state": {
            "_model_module": "@jupyter-widgets/base",
            "_model_module_version": "1.2.0",
            "_model_name": "LayoutModel",
            "_view_count": null,
            "_view_module": "@jupyter-widgets/base",
            "_view_module_version": "1.2.0",
            "_view_name": "LayoutView",
            "align_content": null,
            "align_items": null,
            "align_self": null,
            "border": null,
            "bottom": null,
            "display": null,
            "flex": null,
            "flex_flow": null,
            "grid_area": null,
            "grid_auto_columns": null,
            "grid_auto_flow": null,
            "grid_auto_rows": null,
            "grid_column": null,
            "grid_gap": null,
            "grid_row": null,
            "grid_template_areas": null,
            "grid_template_columns": null,
            "grid_template_rows": null,
            "height": null,
            "justify_content": null,
            "justify_items": null,
            "left": null,
            "margin": null,
            "max_height": null,
            "max_width": null,
            "min_height": null,
            "min_width": null,
            "object_fit": null,
            "object_position": null,
            "order": null,
            "overflow": null,
            "overflow_x": null,
            "overflow_y": null,
            "padding": null,
            "right": null,
            "top": null,
            "visibility": null,
            "width": null
          }
        },
        "13f371d7946e44d7a1e3985b5cebb1b4": {
          "model_module": "@jupyter-widgets/base",
          "model_module_version": "1.2.0",
          "model_name": "LayoutModel",
          "state": {
            "_model_module": "@jupyter-widgets/base",
            "_model_module_version": "1.2.0",
            "_model_name": "LayoutModel",
            "_view_count": null,
            "_view_module": "@jupyter-widgets/base",
            "_view_module_version": "1.2.0",
            "_view_name": "LayoutView",
            "align_content": null,
            "align_items": null,
            "align_self": null,
            "border": null,
            "bottom": null,
            "display": null,
            "flex": null,
            "flex_flow": null,
            "grid_area": null,
            "grid_auto_columns": null,
            "grid_auto_flow": null,
            "grid_auto_rows": null,
            "grid_column": null,
            "grid_gap": null,
            "grid_row": null,
            "grid_template_areas": null,
            "grid_template_columns": null,
            "grid_template_rows": null,
            "height": null,
            "justify_content": null,
            "justify_items": null,
            "left": null,
            "margin": null,
            "max_height": null,
            "max_width": null,
            "min_height": null,
            "min_width": null,
            "object_fit": null,
            "object_position": null,
            "order": null,
            "overflow": null,
            "overflow_x": null,
            "overflow_y": null,
            "padding": null,
            "right": null,
            "top": null,
            "visibility": null,
            "width": null
          }
        },
        "16f80f5eeee941bda1b76d369b62be18": {
          "model_module": "@jupyter-widgets/controls",
          "model_module_version": "1.5.0",
          "model_name": "ProgressStyleModel",
          "state": {
            "_model_module": "@jupyter-widgets/controls",
            "_model_module_version": "1.5.0",
            "_model_name": "ProgressStyleModel",
            "_view_count": null,
            "_view_module": "@jupyter-widgets/base",
            "_view_module_version": "1.2.0",
            "_view_name": "StyleView",
            "bar_color": null,
            "description_width": ""
          }
        },
        "1b3f86719ee34f6fbb28ad523e17738d": {
          "model_module": "@jupyter-widgets/base",
          "model_module_version": "1.2.0",
          "model_name": "LayoutModel",
          "state": {
            "_model_module": "@jupyter-widgets/base",
            "_model_module_version": "1.2.0",
            "_model_name": "LayoutModel",
            "_view_count": null,
            "_view_module": "@jupyter-widgets/base",
            "_view_module_version": "1.2.0",
            "_view_name": "LayoutView",
            "align_content": null,
            "align_items": null,
            "align_self": null,
            "border": null,
            "bottom": null,
            "display": null,
            "flex": null,
            "flex_flow": null,
            "grid_area": null,
            "grid_auto_columns": null,
            "grid_auto_flow": null,
            "grid_auto_rows": null,
            "grid_column": null,
            "grid_gap": null,
            "grid_row": null,
            "grid_template_areas": null,
            "grid_template_columns": null,
            "grid_template_rows": null,
            "height": null,
            "justify_content": null,
            "justify_items": null,
            "left": null,
            "margin": null,
            "max_height": null,
            "max_width": null,
            "min_height": null,
            "min_width": null,
            "object_fit": null,
            "object_position": null,
            "order": null,
            "overflow": null,
            "overflow_x": null,
            "overflow_y": null,
            "padding": null,
            "right": null,
            "top": null,
            "visibility": null,
            "width": null
          }
        },
        "1ed4fbc9be8442ca9c494a29f44628f9": {
          "model_module": "@jupyter-widgets/controls",
          "model_module_version": "1.5.0",
          "model_name": "HBoxModel",
          "state": {
            "_dom_classes": [],
            "_model_module": "@jupyter-widgets/controls",
            "_model_module_version": "1.5.0",
            "_model_name": "HBoxModel",
            "_view_count": null,
            "_view_module": "@jupyter-widgets/controls",
            "_view_module_version": "1.5.0",
            "_view_name": "HBoxView",
            "box_style": "",
            "children": [
              "IPY_MODEL_ab581f3b41a94744844299f83c80f296",
              "IPY_MODEL_3cd0383bfaa04e75a28968455e4fdc8c",
              "IPY_MODEL_ac9f86d77fe340568102011d7aa1b651"
            ],
            "layout": "IPY_MODEL_13f371d7946e44d7a1e3985b5cebb1b4"
          }
        },
        "20cd5f5a94834c2691550d1f2f2c4009": {
          "model_module": "@jupyter-widgets/controls",
          "model_module_version": "1.5.0",
          "model_name": "HTMLModel",
          "state": {
            "_dom_classes": [],
            "_model_module": "@jupyter-widgets/controls",
            "_model_module_version": "1.5.0",
            "_model_name": "HTMLModel",
            "_view_count": null,
            "_view_module": "@jupyter-widgets/controls",
            "_view_module_version": "1.5.0",
            "_view_name": "HTMLView",
            "description": "",
            "description_tooltip": null,
            "layout": "IPY_MODEL_70110f0b6bcb45b594e5f11c48f13db8",
            "placeholder": "​",
            "style": "IPY_MODEL_3b7fdab9655f445ca9df09dc498fd05e",
            "value": "model.safetensors: 100%"
          }
        },
        "20f0695909eb4aa790db46465260d33b": {
          "model_module": "@jupyter-widgets/base",
          "model_module_version": "1.2.0",
          "model_name": "LayoutModel",
          "state": {
            "_model_module": "@jupyter-widgets/base",
            "_model_module_version": "1.2.0",
            "_model_name": "LayoutModel",
            "_view_count": null,
            "_view_module": "@jupyter-widgets/base",
            "_view_module_version": "1.2.0",
            "_view_name": "LayoutView",
            "align_content": null,
            "align_items": null,
            "align_self": null,
            "border": null,
            "bottom": null,
            "display": null,
            "flex": null,
            "flex_flow": null,
            "grid_area": null,
            "grid_auto_columns": null,
            "grid_auto_flow": null,
            "grid_auto_rows": null,
            "grid_column": null,
            "grid_gap": null,
            "grid_row": null,
            "grid_template_areas": null,
            "grid_template_columns": null,
            "grid_template_rows": null,
            "height": null,
            "justify_content": null,
            "justify_items": null,
            "left": null,
            "margin": null,
            "max_height": null,
            "max_width": null,
            "min_height": null,
            "min_width": null,
            "object_fit": null,
            "object_position": null,
            "order": null,
            "overflow": null,
            "overflow_x": null,
            "overflow_y": null,
            "padding": null,
            "right": null,
            "top": null,
            "visibility": null,
            "width": null
          }
        },
        "27e13ca4e87b43058c359753f8ba0387": {
          "model_module": "@jupyter-widgets/base",
          "model_module_version": "1.2.0",
          "model_name": "LayoutModel",
          "state": {
            "_model_module": "@jupyter-widgets/base",
            "_model_module_version": "1.2.0",
            "_model_name": "LayoutModel",
            "_view_count": null,
            "_view_module": "@jupyter-widgets/base",
            "_view_module_version": "1.2.0",
            "_view_name": "LayoutView",
            "align_content": null,
            "align_items": null,
            "align_self": null,
            "border": null,
            "bottom": null,
            "display": null,
            "flex": null,
            "flex_flow": null,
            "grid_area": null,
            "grid_auto_columns": null,
            "grid_auto_flow": null,
            "grid_auto_rows": null,
            "grid_column": null,
            "grid_gap": null,
            "grid_row": null,
            "grid_template_areas": null,
            "grid_template_columns": null,
            "grid_template_rows": null,
            "height": null,
            "justify_content": null,
            "justify_items": null,
            "left": null,
            "margin": null,
            "max_height": null,
            "max_width": null,
            "min_height": null,
            "min_width": null,
            "object_fit": null,
            "object_position": null,
            "order": null,
            "overflow": null,
            "overflow_x": null,
            "overflow_y": null,
            "padding": null,
            "right": null,
            "top": null,
            "visibility": null,
            "width": null
          }
        },
        "2a728ed2b1c44422a8e45f25558ab6cb": {
          "model_module": "@jupyter-widgets/controls",
          "model_module_version": "1.5.0",
          "model_name": "ProgressStyleModel",
          "state": {
            "_model_module": "@jupyter-widgets/controls",
            "_model_module_version": "1.5.0",
            "_model_name": "ProgressStyleModel",
            "_view_count": null,
            "_view_module": "@jupyter-widgets/base",
            "_view_module_version": "1.2.0",
            "_view_name": "StyleView",
            "bar_color": null,
            "description_width": ""
          }
        },
        "2addf98dbfe6440ea3bd64882dd57426": {
          "model_module": "@jupyter-widgets/controls",
          "model_module_version": "1.5.0",
          "model_name": "DescriptionStyleModel",
          "state": {
            "_model_module": "@jupyter-widgets/controls",
            "_model_module_version": "1.5.0",
            "_model_name": "DescriptionStyleModel",
            "_view_count": null,
            "_view_module": "@jupyter-widgets/base",
            "_view_module_version": "1.2.0",
            "_view_name": "StyleView",
            "description_width": ""
          }
        },
        "2eae35b776504ad69bf8600a51c87ff1": {
          "model_module": "@jupyter-widgets/base",
          "model_module_version": "1.2.0",
          "model_name": "LayoutModel",
          "state": {
            "_model_module": "@jupyter-widgets/base",
            "_model_module_version": "1.2.0",
            "_model_name": "LayoutModel",
            "_view_count": null,
            "_view_module": "@jupyter-widgets/base",
            "_view_module_version": "1.2.0",
            "_view_name": "LayoutView",
            "align_content": null,
            "align_items": null,
            "align_self": null,
            "border": null,
            "bottom": null,
            "display": null,
            "flex": null,
            "flex_flow": null,
            "grid_area": null,
            "grid_auto_columns": null,
            "grid_auto_flow": null,
            "grid_auto_rows": null,
            "grid_column": null,
            "grid_gap": null,
            "grid_row": null,
            "grid_template_areas": null,
            "grid_template_columns": null,
            "grid_template_rows": null,
            "height": null,
            "justify_content": null,
            "justify_items": null,
            "left": null,
            "margin": null,
            "max_height": null,
            "max_width": null,
            "min_height": null,
            "min_width": null,
            "object_fit": null,
            "object_position": null,
            "order": null,
            "overflow": null,
            "overflow_x": null,
            "overflow_y": null,
            "padding": null,
            "right": null,
            "top": null,
            "visibility": null,
            "width": null
          }
        },
        "3b7fdab9655f445ca9df09dc498fd05e": {
          "model_module": "@jupyter-widgets/controls",
          "model_module_version": "1.5.0",
          "model_name": "DescriptionStyleModel",
          "state": {
            "_model_module": "@jupyter-widgets/controls",
            "_model_module_version": "1.5.0",
            "_model_name": "DescriptionStyleModel",
            "_view_count": null,
            "_view_module": "@jupyter-widgets/base",
            "_view_module_version": "1.2.0",
            "_view_name": "StyleView",
            "description_width": ""
          }
        },
        "3c4a0346c8544aadb10f7d727506ccde": {
          "model_module": "@jupyter-widgets/base",
          "model_module_version": "1.2.0",
          "model_name": "LayoutModel",
          "state": {
            "_model_module": "@jupyter-widgets/base",
            "_model_module_version": "1.2.0",
            "_model_name": "LayoutModel",
            "_view_count": null,
            "_view_module": "@jupyter-widgets/base",
            "_view_module_version": "1.2.0",
            "_view_name": "LayoutView",
            "align_content": null,
            "align_items": null,
            "align_self": null,
            "border": null,
            "bottom": null,
            "display": null,
            "flex": null,
            "flex_flow": null,
            "grid_area": null,
            "grid_auto_columns": null,
            "grid_auto_flow": null,
            "grid_auto_rows": null,
            "grid_column": null,
            "grid_gap": null,
            "grid_row": null,
            "grid_template_areas": null,
            "grid_template_columns": null,
            "grid_template_rows": null,
            "height": null,
            "justify_content": null,
            "justify_items": null,
            "left": null,
            "margin": null,
            "max_height": null,
            "max_width": null,
            "min_height": null,
            "min_width": null,
            "object_fit": null,
            "object_position": null,
            "order": null,
            "overflow": null,
            "overflow_x": null,
            "overflow_y": null,
            "padding": null,
            "right": null,
            "top": null,
            "visibility": null,
            "width": null
          }
        },
        "3cd0383bfaa04e75a28968455e4fdc8c": {
          "model_module": "@jupyter-widgets/controls",
          "model_module_version": "1.5.0",
          "model_name": "FloatProgressModel",
          "state": {
            "_dom_classes": [],
            "_model_module": "@jupyter-widgets/controls",
            "_model_module_version": "1.5.0",
            "_model_name": "FloatProgressModel",
            "_view_count": null,
            "_view_module": "@jupyter-widgets/controls",
            "_view_module_version": "1.5.0",
            "_view_name": "ProgressView",
            "bar_style": "success",
            "description": "",
            "description_tooltip": null,
            "layout": "IPY_MODEL_27e13ca4e87b43058c359753f8ba0387",
            "max": 570,
            "min": 0,
            "orientation": "horizontal",
            "style": "IPY_MODEL_2a728ed2b1c44422a8e45f25558ab6cb",
            "value": 570
          }
        },
        "4ab2ec8d20e44143a449c303c49ba6ef": {
          "model_module": "@jupyter-widgets/controls",
          "model_module_version": "1.5.0",
          "model_name": "FloatProgressModel",
          "state": {
            "_dom_classes": [],
            "_model_module": "@jupyter-widgets/controls",
            "_model_module_version": "1.5.0",
            "_model_name": "FloatProgressModel",
            "_view_count": null,
            "_view_module": "@jupyter-widgets/controls",
            "_view_module_version": "1.5.0",
            "_view_name": "ProgressView",
            "bar_style": "success",
            "description": "",
            "description_tooltip": null,
            "layout": "IPY_MODEL_1b3f86719ee34f6fbb28ad523e17738d",
            "max": 466062,
            "min": 0,
            "orientation": "horizontal",
            "style": "IPY_MODEL_16f80f5eeee941bda1b76d369b62be18",
            "value": 466062
          }
        },
        "5389991b4163470eb76c8c710706c190": {
          "model_module": "@jupyter-widgets/controls",
          "model_module_version": "1.5.0",
          "model_name": "HBoxModel",
          "state": {
            "_dom_classes": [],
            "_model_module": "@jupyter-widgets/controls",
            "_model_module_version": "1.5.0",
            "_model_name": "HBoxModel",
            "_view_count": null,
            "_view_module": "@jupyter-widgets/controls",
            "_view_module_version": "1.5.0",
            "_view_name": "HBoxView",
            "box_style": "",
            "children": [
              "IPY_MODEL_95bc6c97d29e4e558f7efccacf8ba8c3",
              "IPY_MODEL_dcabd2bf5f2d45f19e7f49d976f41202",
              "IPY_MODEL_68421dd8ab5c4c66af1fc1e4cd5516f4"
            ],
            "layout": "IPY_MODEL_134f3aed1cb9418d930792b58c2261e2"
          }
        },
        "5d828c77f77a4bdeb88ae4f579562bdd": {
          "model_module": "@jupyter-widgets/controls",
          "model_module_version": "1.5.0",
          "model_name": "FloatProgressModel",
          "state": {
            "_dom_classes": [],
            "_model_module": "@jupyter-widgets/controls",
            "_model_module_version": "1.5.0",
            "_model_name": "FloatProgressModel",
            "_view_count": null,
            "_view_module": "@jupyter-widgets/controls",
            "_view_module_version": "1.5.0",
            "_view_name": "ProgressView",
            "bar_style": "success",
            "description": "",
            "description_tooltip": null,
            "layout": "IPY_MODEL_c1d1ac64ca834a4697667a534a546c47",
            "max": 48,
            "min": 0,
            "orientation": "horizontal",
            "style": "IPY_MODEL_ce7a9ec7d56349bb8a8d2d5ae1685177",
            "value": 48
          }
        },
        "68421dd8ab5c4c66af1fc1e4cd5516f4": {
          "model_module": "@jupyter-widgets/controls",
          "model_module_version": "1.5.0",
          "model_name": "HTMLModel",
          "state": {
            "_dom_classes": [],
            "_model_module": "@jupyter-widgets/controls",
            "_model_module_version": "1.5.0",
            "_model_name": "HTMLModel",
            "_view_count": null,
            "_view_module": "@jupyter-widgets/controls",
            "_view_module_version": "1.5.0",
            "_view_name": "HTMLView",
            "description": "",
            "description_tooltip": null,
            "layout": "IPY_MODEL_20f0695909eb4aa790db46465260d33b",
            "placeholder": "​",
            "style": "IPY_MODEL_0a474ebed5384fb2a037857765d237ea",
            "value": " 232k/232k [00:00&lt;00:00, 2.83MB/s]"
          }
        },
        "70110f0b6bcb45b594e5f11c48f13db8": {
          "model_module": "@jupyter-widgets/base",
          "model_module_version": "1.2.0",
          "model_name": "LayoutModel",
          "state": {
            "_model_module": "@jupyter-widgets/base",
            "_model_module_version": "1.2.0",
            "_model_name": "LayoutModel",
            "_view_count": null,
            "_view_module": "@jupyter-widgets/base",
            "_view_module_version": "1.2.0",
            "_view_name": "LayoutView",
            "align_content": null,
            "align_items": null,
            "align_self": null,
            "border": null,
            "bottom": null,
            "display": null,
            "flex": null,
            "flex_flow": null,
            "grid_area": null,
            "grid_auto_columns": null,
            "grid_auto_flow": null,
            "grid_auto_rows": null,
            "grid_column": null,
            "grid_gap": null,
            "grid_row": null,
            "grid_template_areas": null,
            "grid_template_columns": null,
            "grid_template_rows": null,
            "height": null,
            "justify_content": null,
            "justify_items": null,
            "left": null,
            "margin": null,
            "max_height": null,
            "max_width": null,
            "min_height": null,
            "min_width": null,
            "object_fit": null,
            "object_position": null,
            "order": null,
            "overflow": null,
            "overflow_x": null,
            "overflow_y": null,
            "padding": null,
            "right": null,
            "top": null,
            "visibility": null,
            "width": null
          }
        },
        "7762ad851c2e4f85a8b02d5925d52175": {
          "model_module": "@jupyter-widgets/controls",
          "model_module_version": "1.5.0",
          "model_name": "DescriptionStyleModel",
          "state": {
            "_model_module": "@jupyter-widgets/controls",
            "_model_module_version": "1.5.0",
            "_model_name": "DescriptionStyleModel",
            "_view_count": null,
            "_view_module": "@jupyter-widgets/base",
            "_view_module_version": "1.2.0",
            "_view_name": "StyleView",
            "description_width": ""
          }
        },
        "7d7deae95c8b4c7fa0c47d71b0ffa8f8": {
          "model_module": "@jupyter-widgets/base",
          "model_module_version": "1.2.0",
          "model_name": "LayoutModel",
          "state": {
            "_model_module": "@jupyter-widgets/base",
            "_model_module_version": "1.2.0",
            "_model_name": "LayoutModel",
            "_view_count": null,
            "_view_module": "@jupyter-widgets/base",
            "_view_module_version": "1.2.0",
            "_view_name": "LayoutView",
            "align_content": null,
            "align_items": null,
            "align_self": null,
            "border": null,
            "bottom": null,
            "display": null,
            "flex": null,
            "flex_flow": null,
            "grid_area": null,
            "grid_auto_columns": null,
            "grid_auto_flow": null,
            "grid_auto_rows": null,
            "grid_column": null,
            "grid_gap": null,
            "grid_row": null,
            "grid_template_areas": null,
            "grid_template_columns": null,
            "grid_template_rows": null,
            "height": null,
            "justify_content": null,
            "justify_items": null,
            "left": null,
            "margin": null,
            "max_height": null,
            "max_width": null,
            "min_height": null,
            "min_width": null,
            "object_fit": null,
            "object_position": null,
            "order": null,
            "overflow": null,
            "overflow_x": null,
            "overflow_y": null,
            "padding": null,
            "right": null,
            "top": null,
            "visibility": null,
            "width": null
          }
        },
        "7fcc6e8fc93349a4ab80c035330df122": {
          "model_module": "@jupyter-widgets/controls",
          "model_module_version": "1.5.0",
          "model_name": "ProgressStyleModel",
          "state": {
            "_model_module": "@jupyter-widgets/controls",
            "_model_module_version": "1.5.0",
            "_model_name": "ProgressStyleModel",
            "_view_count": null,
            "_view_module": "@jupyter-widgets/base",
            "_view_module_version": "1.2.0",
            "_view_name": "StyleView",
            "bar_color": null,
            "description_width": ""
          }
        },
        "806e568556c044deadef68445df1767b": {
          "model_module": "@jupyter-widgets/controls",
          "model_module_version": "1.5.0",
          "model_name": "HTMLModel",
          "state": {
            "_dom_classes": [],
            "_model_module": "@jupyter-widgets/controls",
            "_model_module_version": "1.5.0",
            "_model_name": "HTMLModel",
            "_view_count": null,
            "_view_module": "@jupyter-widgets/controls",
            "_view_module_version": "1.5.0",
            "_view_name": "HTMLView",
            "description": "",
            "description_tooltip": null,
            "layout": "IPY_MODEL_81c7f87499104479aa7e362a1a6643ef",
            "placeholder": "​",
            "style": "IPY_MODEL_ad7c8ed877214e468478407d74f351fd",
            "value": " 440M/440M [00:06&lt;00:00, 110MB/s]"
          }
        },
        "808c4723d90343798a13e4bb43504e0a": {
          "model_module": "@jupyter-widgets/controls",
          "model_module_version": "1.5.0",
          "model_name": "HTMLModel",
          "state": {
            "_dom_classes": [],
            "_model_module": "@jupyter-widgets/controls",
            "_model_module_version": "1.5.0",
            "_model_name": "HTMLModel",
            "_view_count": null,
            "_view_module": "@jupyter-widgets/controls",
            "_view_module_version": "1.5.0",
            "_view_name": "HTMLView",
            "description": "",
            "description_tooltip": null,
            "layout": "IPY_MODEL_d63027f597db43ef921fecb192e86341",
            "placeholder": "​",
            "style": "IPY_MODEL_2addf98dbfe6440ea3bd64882dd57426",
            "value": " 48.0/48.0 [00:00&lt;00:00, 3.16kB/s]"
          }
        },
        "81c7f87499104479aa7e362a1a6643ef": {
          "model_module": "@jupyter-widgets/base",
          "model_module_version": "1.2.0",
          "model_name": "LayoutModel",
          "state": {
            "_model_module": "@jupyter-widgets/base",
            "_model_module_version": "1.2.0",
            "_model_name": "LayoutModel",
            "_view_count": null,
            "_view_module": "@jupyter-widgets/base",
            "_view_module_version": "1.2.0",
            "_view_name": "LayoutView",
            "align_content": null,
            "align_items": null,
            "align_self": null,
            "border": null,
            "bottom": null,
            "display": null,
            "flex": null,
            "flex_flow": null,
            "grid_area": null,
            "grid_auto_columns": null,
            "grid_auto_flow": null,
            "grid_auto_rows": null,
            "grid_column": null,
            "grid_gap": null,
            "grid_row": null,
            "grid_template_areas": null,
            "grid_template_columns": null,
            "grid_template_rows": null,
            "height": null,
            "justify_content": null,
            "justify_items": null,
            "left": null,
            "margin": null,
            "max_height": null,
            "max_width": null,
            "min_height": null,
            "min_width": null,
            "object_fit": null,
            "object_position": null,
            "order": null,
            "overflow": null,
            "overflow_x": null,
            "overflow_y": null,
            "padding": null,
            "right": null,
            "top": null,
            "visibility": null,
            "width": null
          }
        },
        "8fc390e10e29440a8008f8e2e6922e3c": {
          "model_module": "@jupyter-widgets/controls",
          "model_module_version": "1.5.0",
          "model_name": "HBoxModel",
          "state": {
            "_dom_classes": [],
            "_model_module": "@jupyter-widgets/controls",
            "_model_module_version": "1.5.0",
            "_model_name": "HBoxModel",
            "_view_count": null,
            "_view_module": "@jupyter-widgets/controls",
            "_view_module_version": "1.5.0",
            "_view_name": "HBoxView",
            "box_style": "",
            "children": [
              "IPY_MODEL_a299f208792e4c4684d5d5546ee18815",
              "IPY_MODEL_4ab2ec8d20e44143a449c303c49ba6ef",
              "IPY_MODEL_a99c28f30d944b6995b3feaa9ff501bd"
            ],
            "layout": "IPY_MODEL_7d7deae95c8b4c7fa0c47d71b0ffa8f8"
          }
        },
        "92b65742e05b4b22adb2a0dd427cf3df": {
          "model_module": "@jupyter-widgets/controls",
          "model_module_version": "1.5.0",
          "model_name": "FloatProgressModel",
          "state": {
            "_dom_classes": [],
            "_model_module": "@jupyter-widgets/controls",
            "_model_module_version": "1.5.0",
            "_model_name": "FloatProgressModel",
            "_view_count": null,
            "_view_module": "@jupyter-widgets/controls",
            "_view_module_version": "1.5.0",
            "_view_name": "ProgressView",
            "bar_style": "success",
            "description": "",
            "description_tooltip": null,
            "layout": "IPY_MODEL_b70062b3737846d98edef4a5069490b7",
            "max": 440449768,
            "min": 0,
            "orientation": "horizontal",
            "style": "IPY_MODEL_d920ebda24c54d2ea4bc78415e88a46e",
            "value": 440449768
          }
        },
        "95bc6c97d29e4e558f7efccacf8ba8c3": {
          "model_module": "@jupyter-widgets/controls",
          "model_module_version": "1.5.0",
          "model_name": "HTMLModel",
          "state": {
            "_dom_classes": [],
            "_model_module": "@jupyter-widgets/controls",
            "_model_module_version": "1.5.0",
            "_model_name": "HTMLModel",
            "_view_count": null,
            "_view_module": "@jupyter-widgets/controls",
            "_view_module_version": "1.5.0",
            "_view_name": "HTMLView",
            "description": "",
            "description_tooltip": null,
            "layout": "IPY_MODEL_fad6b07320994c1ca5f2d0db0e8ba436",
            "placeholder": "​",
            "style": "IPY_MODEL_02ca9c20647b471796d82c92252a19c7",
            "value": "vocab.txt: 100%"
          }
        },
        "a299f208792e4c4684d5d5546ee18815": {
          "model_module": "@jupyter-widgets/controls",
          "model_module_version": "1.5.0",
          "model_name": "HTMLModel",
          "state": {
            "_dom_classes": [],
            "_model_module": "@jupyter-widgets/controls",
            "_model_module_version": "1.5.0",
            "_model_name": "HTMLModel",
            "_view_count": null,
            "_view_module": "@jupyter-widgets/controls",
            "_view_module_version": "1.5.0",
            "_view_name": "HTMLView",
            "description": "",
            "description_tooltip": null,
            "layout": "IPY_MODEL_f0167d1b79d44dceb00190179597dd18",
            "placeholder": "​",
            "style": "IPY_MODEL_c107112f6b8e4c19af1ab89fcc9f98d1",
            "value": "tokenizer.json: 100%"
          }
        },
        "a99c28f30d944b6995b3feaa9ff501bd": {
          "model_module": "@jupyter-widgets/controls",
          "model_module_version": "1.5.0",
          "model_name": "HTMLModel",
          "state": {
            "_dom_classes": [],
            "_model_module": "@jupyter-widgets/controls",
            "_model_module_version": "1.5.0",
            "_model_name": "HTMLModel",
            "_view_count": null,
            "_view_module": "@jupyter-widgets/controls",
            "_view_module_version": "1.5.0",
            "_view_name": "HTMLView",
            "description": "",
            "description_tooltip": null,
            "layout": "IPY_MODEL_fe10d084efef4006b4bc349c7c00b9a4",
            "placeholder": "​",
            "style": "IPY_MODEL_ef701423aa1c46e7bd1c32b8b33ba493",
            "value": " 466k/466k [00:00&lt;00:00, 2.41MB/s]"
          }
        },
        "ab581f3b41a94744844299f83c80f296": {
          "model_module": "@jupyter-widgets/controls",
          "model_module_version": "1.5.0",
          "model_name": "HTMLModel",
          "state": {
            "_dom_classes": [],
            "_model_module": "@jupyter-widgets/controls",
            "_model_module_version": "1.5.0",
            "_model_name": "HTMLModel",
            "_view_count": null,
            "_view_module": "@jupyter-widgets/controls",
            "_view_module_version": "1.5.0",
            "_view_name": "HTMLView",
            "description": "",
            "description_tooltip": null,
            "layout": "IPY_MODEL_fa033a2a14424dbe90111203184fafb8",
            "placeholder": "​",
            "style": "IPY_MODEL_c4d65fac80234ae68fcc7cb181367c7a",
            "value": "config.json: 100%"
          }
        },
        "ac9f86d77fe340568102011d7aa1b651": {
          "model_module": "@jupyter-widgets/controls",
          "model_module_version": "1.5.0",
          "model_name": "HTMLModel",
          "state": {
            "_dom_classes": [],
            "_model_module": "@jupyter-widgets/controls",
            "_model_module_version": "1.5.0",
            "_model_name": "HTMLModel",
            "_view_count": null,
            "_view_module": "@jupyter-widgets/controls",
            "_view_module_version": "1.5.0",
            "_view_name": "HTMLView",
            "description": "",
            "description_tooltip": null,
            "layout": "IPY_MODEL_ca9f3e1fe62a4c5d97dc4f2dbc24e744",
            "placeholder": "​",
            "style": "IPY_MODEL_bb9b8ed3e48d40cf959792bf002bbe44",
            "value": " 570/570 [00:00&lt;00:00, 25.3kB/s]"
          }
        },
        "ad7c8ed877214e468478407d74f351fd": {
          "model_module": "@jupyter-widgets/controls",
          "model_module_version": "1.5.0",
          "model_name": "DescriptionStyleModel",
          "state": {
            "_model_module": "@jupyter-widgets/controls",
            "_model_module_version": "1.5.0",
            "_model_name": "DescriptionStyleModel",
            "_view_count": null,
            "_view_module": "@jupyter-widgets/base",
            "_view_module_version": "1.2.0",
            "_view_name": "StyleView",
            "description_width": ""
          }
        },
        "b70062b3737846d98edef4a5069490b7": {
          "model_module": "@jupyter-widgets/base",
          "model_module_version": "1.2.0",
          "model_name": "LayoutModel",
          "state": {
            "_model_module": "@jupyter-widgets/base",
            "_model_module_version": "1.2.0",
            "_model_name": "LayoutModel",
            "_view_count": null,
            "_view_module": "@jupyter-widgets/base",
            "_view_module_version": "1.2.0",
            "_view_name": "LayoutView",
            "align_content": null,
            "align_items": null,
            "align_self": null,
            "border": null,
            "bottom": null,
            "display": null,
            "flex": null,
            "flex_flow": null,
            "grid_area": null,
            "grid_auto_columns": null,
            "grid_auto_flow": null,
            "grid_auto_rows": null,
            "grid_column": null,
            "grid_gap": null,
            "grid_row": null,
            "grid_template_areas": null,
            "grid_template_columns": null,
            "grid_template_rows": null,
            "height": null,
            "justify_content": null,
            "justify_items": null,
            "left": null,
            "margin": null,
            "max_height": null,
            "max_width": null,
            "min_height": null,
            "min_width": null,
            "object_fit": null,
            "object_position": null,
            "order": null,
            "overflow": null,
            "overflow_x": null,
            "overflow_y": null,
            "padding": null,
            "right": null,
            "top": null,
            "visibility": null,
            "width": null
          }
        },
        "bb9b8ed3e48d40cf959792bf002bbe44": {
          "model_module": "@jupyter-widgets/controls",
          "model_module_version": "1.5.0",
          "model_name": "DescriptionStyleModel",
          "state": {
            "_model_module": "@jupyter-widgets/controls",
            "_model_module_version": "1.5.0",
            "_model_name": "DescriptionStyleModel",
            "_view_count": null,
            "_view_module": "@jupyter-widgets/base",
            "_view_module_version": "1.2.0",
            "_view_name": "StyleView",
            "description_width": ""
          }
        },
        "c107112f6b8e4c19af1ab89fcc9f98d1": {
          "model_module": "@jupyter-widgets/controls",
          "model_module_version": "1.5.0",
          "model_name": "DescriptionStyleModel",
          "state": {
            "_model_module": "@jupyter-widgets/controls",
            "_model_module_version": "1.5.0",
            "_model_name": "DescriptionStyleModel",
            "_view_count": null,
            "_view_module": "@jupyter-widgets/base",
            "_view_module_version": "1.2.0",
            "_view_name": "StyleView",
            "description_width": ""
          }
        },
        "c157c4df08c0443e89499bf18e6f2159": {
          "model_module": "@jupyter-widgets/controls",
          "model_module_version": "1.5.0",
          "model_name": "HBoxModel",
          "state": {
            "_dom_classes": [],
            "_model_module": "@jupyter-widgets/controls",
            "_model_module_version": "1.5.0",
            "_model_name": "HBoxModel",
            "_view_count": null,
            "_view_module": "@jupyter-widgets/controls",
            "_view_module_version": "1.5.0",
            "_view_name": "HBoxView",
            "box_style": "",
            "children": [
              "IPY_MODEL_d4c565fa649147db9e172cd5740c0675",
              "IPY_MODEL_5d828c77f77a4bdeb88ae4f579562bdd",
              "IPY_MODEL_808c4723d90343798a13e4bb43504e0a"
            ],
            "layout": "IPY_MODEL_2eae35b776504ad69bf8600a51c87ff1"
          }
        },
        "c1d1ac64ca834a4697667a534a546c47": {
          "model_module": "@jupyter-widgets/base",
          "model_module_version": "1.2.0",
          "model_name": "LayoutModel",
          "state": {
            "_model_module": "@jupyter-widgets/base",
            "_model_module_version": "1.2.0",
            "_model_name": "LayoutModel",
            "_view_count": null,
            "_view_module": "@jupyter-widgets/base",
            "_view_module_version": "1.2.0",
            "_view_name": "LayoutView",
            "align_content": null,
            "align_items": null,
            "align_self": null,
            "border": null,
            "bottom": null,
            "display": null,
            "flex": null,
            "flex_flow": null,
            "grid_area": null,
            "grid_auto_columns": null,
            "grid_auto_flow": null,
            "grid_auto_rows": null,
            "grid_column": null,
            "grid_gap": null,
            "grid_row": null,
            "grid_template_areas": null,
            "grid_template_columns": null,
            "grid_template_rows": null,
            "height": null,
            "justify_content": null,
            "justify_items": null,
            "left": null,
            "margin": null,
            "max_height": null,
            "max_width": null,
            "min_height": null,
            "min_width": null,
            "object_fit": null,
            "object_position": null,
            "order": null,
            "overflow": null,
            "overflow_x": null,
            "overflow_y": null,
            "padding": null,
            "right": null,
            "top": null,
            "visibility": null,
            "width": null
          }
        },
        "c4d65fac80234ae68fcc7cb181367c7a": {
          "model_module": "@jupyter-widgets/controls",
          "model_module_version": "1.5.0",
          "model_name": "DescriptionStyleModel",
          "state": {
            "_model_module": "@jupyter-widgets/controls",
            "_model_module_version": "1.5.0",
            "_model_name": "DescriptionStyleModel",
            "_view_count": null,
            "_view_module": "@jupyter-widgets/base",
            "_view_module_version": "1.2.0",
            "_view_name": "StyleView",
            "description_width": ""
          }
        },
        "ca9f3e1fe62a4c5d97dc4f2dbc24e744": {
          "model_module": "@jupyter-widgets/base",
          "model_module_version": "1.2.0",
          "model_name": "LayoutModel",
          "state": {
            "_model_module": "@jupyter-widgets/base",
            "_model_module_version": "1.2.0",
            "_model_name": "LayoutModel",
            "_view_count": null,
            "_view_module": "@jupyter-widgets/base",
            "_view_module_version": "1.2.0",
            "_view_name": "LayoutView",
            "align_content": null,
            "align_items": null,
            "align_self": null,
            "border": null,
            "bottom": null,
            "display": null,
            "flex": null,
            "flex_flow": null,
            "grid_area": null,
            "grid_auto_columns": null,
            "grid_auto_flow": null,
            "grid_auto_rows": null,
            "grid_column": null,
            "grid_gap": null,
            "grid_row": null,
            "grid_template_areas": null,
            "grid_template_columns": null,
            "grid_template_rows": null,
            "height": null,
            "justify_content": null,
            "justify_items": null,
            "left": null,
            "margin": null,
            "max_height": null,
            "max_width": null,
            "min_height": null,
            "min_width": null,
            "object_fit": null,
            "object_position": null,
            "order": null,
            "overflow": null,
            "overflow_x": null,
            "overflow_y": null,
            "padding": null,
            "right": null,
            "top": null,
            "visibility": null,
            "width": null
          }
        },
        "ce7a9ec7d56349bb8a8d2d5ae1685177": {
          "model_module": "@jupyter-widgets/controls",
          "model_module_version": "1.5.0",
          "model_name": "ProgressStyleModel",
          "state": {
            "_model_module": "@jupyter-widgets/controls",
            "_model_module_version": "1.5.0",
            "_model_name": "ProgressStyleModel",
            "_view_count": null,
            "_view_module": "@jupyter-widgets/base",
            "_view_module_version": "1.2.0",
            "_view_name": "StyleView",
            "bar_color": null,
            "description_width": ""
          }
        },
        "d4c565fa649147db9e172cd5740c0675": {
          "model_module": "@jupyter-widgets/controls",
          "model_module_version": "1.5.0",
          "model_name": "HTMLModel",
          "state": {
            "_dom_classes": [],
            "_model_module": "@jupyter-widgets/controls",
            "_model_module_version": "1.5.0",
            "_model_name": "HTMLModel",
            "_view_count": null,
            "_view_module": "@jupyter-widgets/controls",
            "_view_module_version": "1.5.0",
            "_view_name": "HTMLView",
            "description": "",
            "description_tooltip": null,
            "layout": "IPY_MODEL_0b9a0f86573e4c5eaa1ef2a80f36a2ca",
            "placeholder": "​",
            "style": "IPY_MODEL_7762ad851c2e4f85a8b02d5925d52175",
            "value": "tokenizer_config.json: 100%"
          }
        },
        "d63027f597db43ef921fecb192e86341": {
          "model_module": "@jupyter-widgets/base",
          "model_module_version": "1.2.0",
          "model_name": "LayoutModel",
          "state": {
            "_model_module": "@jupyter-widgets/base",
            "_model_module_version": "1.2.0",
            "_model_name": "LayoutModel",
            "_view_count": null,
            "_view_module": "@jupyter-widgets/base",
            "_view_module_version": "1.2.0",
            "_view_name": "LayoutView",
            "align_content": null,
            "align_items": null,
            "align_self": null,
            "border": null,
            "bottom": null,
            "display": null,
            "flex": null,
            "flex_flow": null,
            "grid_area": null,
            "grid_auto_columns": null,
            "grid_auto_flow": null,
            "grid_auto_rows": null,
            "grid_column": null,
            "grid_gap": null,
            "grid_row": null,
            "grid_template_areas": null,
            "grid_template_columns": null,
            "grid_template_rows": null,
            "height": null,
            "justify_content": null,
            "justify_items": null,
            "left": null,
            "margin": null,
            "max_height": null,
            "max_width": null,
            "min_height": null,
            "min_width": null,
            "object_fit": null,
            "object_position": null,
            "order": null,
            "overflow": null,
            "overflow_x": null,
            "overflow_y": null,
            "padding": null,
            "right": null,
            "top": null,
            "visibility": null,
            "width": null
          }
        },
        "d920ebda24c54d2ea4bc78415e88a46e": {
          "model_module": "@jupyter-widgets/controls",
          "model_module_version": "1.5.0",
          "model_name": "ProgressStyleModel",
          "state": {
            "_model_module": "@jupyter-widgets/controls",
            "_model_module_version": "1.5.0",
            "_model_name": "ProgressStyleModel",
            "_view_count": null,
            "_view_module": "@jupyter-widgets/base",
            "_view_module_version": "1.2.0",
            "_view_name": "StyleView",
            "bar_color": null,
            "description_width": ""
          }
        },
        "dcabd2bf5f2d45f19e7f49d976f41202": {
          "model_module": "@jupyter-widgets/controls",
          "model_module_version": "1.5.0",
          "model_name": "FloatProgressModel",
          "state": {
            "_dom_classes": [],
            "_model_module": "@jupyter-widgets/controls",
            "_model_module_version": "1.5.0",
            "_model_name": "FloatProgressModel",
            "_view_count": null,
            "_view_module": "@jupyter-widgets/controls",
            "_view_module_version": "1.5.0",
            "_view_name": "ProgressView",
            "bar_style": "success",
            "description": "",
            "description_tooltip": null,
            "layout": "IPY_MODEL_101660bc543e4e4591dd936989261557",
            "max": 231508,
            "min": 0,
            "orientation": "horizontal",
            "style": "IPY_MODEL_7fcc6e8fc93349a4ab80c035330df122",
            "value": 231508
          }
        },
        "e0351f90107c4e2cbe4d5697a4c0706e": {
          "model_module": "@jupyter-widgets/controls",
          "model_module_version": "1.5.0",
          "model_name": "HBoxModel",
          "state": {
            "_dom_classes": [],
            "_model_module": "@jupyter-widgets/controls",
            "_model_module_version": "1.5.0",
            "_model_name": "HBoxModel",
            "_view_count": null,
            "_view_module": "@jupyter-widgets/controls",
            "_view_module_version": "1.5.0",
            "_view_name": "HBoxView",
            "box_style": "",
            "children": [
              "IPY_MODEL_20cd5f5a94834c2691550d1f2f2c4009",
              "IPY_MODEL_92b65742e05b4b22adb2a0dd427cf3df",
              "IPY_MODEL_806e568556c044deadef68445df1767b"
            ],
            "layout": "IPY_MODEL_3c4a0346c8544aadb10f7d727506ccde"
          }
        },
        "ef701423aa1c46e7bd1c32b8b33ba493": {
          "model_module": "@jupyter-widgets/controls",
          "model_module_version": "1.5.0",
          "model_name": "DescriptionStyleModel",
          "state": {
            "_model_module": "@jupyter-widgets/controls",
            "_model_module_version": "1.5.0",
            "_model_name": "DescriptionStyleModel",
            "_view_count": null,
            "_view_module": "@jupyter-widgets/base",
            "_view_module_version": "1.2.0",
            "_view_name": "StyleView",
            "description_width": ""
          }
        },
        "f0167d1b79d44dceb00190179597dd18": {
          "model_module": "@jupyter-widgets/base",
          "model_module_version": "1.2.0",
          "model_name": "LayoutModel",
          "state": {
            "_model_module": "@jupyter-widgets/base",
            "_model_module_version": "1.2.0",
            "_model_name": "LayoutModel",
            "_view_count": null,
            "_view_module": "@jupyter-widgets/base",
            "_view_module_version": "1.2.0",
            "_view_name": "LayoutView",
            "align_content": null,
            "align_items": null,
            "align_self": null,
            "border": null,
            "bottom": null,
            "display": null,
            "flex": null,
            "flex_flow": null,
            "grid_area": null,
            "grid_auto_columns": null,
            "grid_auto_flow": null,
            "grid_auto_rows": null,
            "grid_column": null,
            "grid_gap": null,
            "grid_row": null,
            "grid_template_areas": null,
            "grid_template_columns": null,
            "grid_template_rows": null,
            "height": null,
            "justify_content": null,
            "justify_items": null,
            "left": null,
            "margin": null,
            "max_height": null,
            "max_width": null,
            "min_height": null,
            "min_width": null,
            "object_fit": null,
            "object_position": null,
            "order": null,
            "overflow": null,
            "overflow_x": null,
            "overflow_y": null,
            "padding": null,
            "right": null,
            "top": null,
            "visibility": null,
            "width": null
          }
        },
        "fa033a2a14424dbe90111203184fafb8": {
          "model_module": "@jupyter-widgets/base",
          "model_module_version": "1.2.0",
          "model_name": "LayoutModel",
          "state": {
            "_model_module": "@jupyter-widgets/base",
            "_model_module_version": "1.2.0",
            "_model_name": "LayoutModel",
            "_view_count": null,
            "_view_module": "@jupyter-widgets/base",
            "_view_module_version": "1.2.0",
            "_view_name": "LayoutView",
            "align_content": null,
            "align_items": null,
            "align_self": null,
            "border": null,
            "bottom": null,
            "display": null,
            "flex": null,
            "flex_flow": null,
            "grid_area": null,
            "grid_auto_columns": null,
            "grid_auto_flow": null,
            "grid_auto_rows": null,
            "grid_column": null,
            "grid_gap": null,
            "grid_row": null,
            "grid_template_areas": null,
            "grid_template_columns": null,
            "grid_template_rows": null,
            "height": null,
            "justify_content": null,
            "justify_items": null,
            "left": null,
            "margin": null,
            "max_height": null,
            "max_width": null,
            "min_height": null,
            "min_width": null,
            "object_fit": null,
            "object_position": null,
            "order": null,
            "overflow": null,
            "overflow_x": null,
            "overflow_y": null,
            "padding": null,
            "right": null,
            "top": null,
            "visibility": null,
            "width": null
          }
        },
        "fad6b07320994c1ca5f2d0db0e8ba436": {
          "model_module": "@jupyter-widgets/base",
          "model_module_version": "1.2.0",
          "model_name": "LayoutModel",
          "state": {
            "_model_module": "@jupyter-widgets/base",
            "_model_module_version": "1.2.0",
            "_model_name": "LayoutModel",
            "_view_count": null,
            "_view_module": "@jupyter-widgets/base",
            "_view_module_version": "1.2.0",
            "_view_name": "LayoutView",
            "align_content": null,
            "align_items": null,
            "align_self": null,
            "border": null,
            "bottom": null,
            "display": null,
            "flex": null,
            "flex_flow": null,
            "grid_area": null,
            "grid_auto_columns": null,
            "grid_auto_flow": null,
            "grid_auto_rows": null,
            "grid_column": null,
            "grid_gap": null,
            "grid_row": null,
            "grid_template_areas": null,
            "grid_template_columns": null,
            "grid_template_rows": null,
            "height": null,
            "justify_content": null,
            "justify_items": null,
            "left": null,
            "margin": null,
            "max_height": null,
            "max_width": null,
            "min_height": null,
            "min_width": null,
            "object_fit": null,
            "object_position": null,
            "order": null,
            "overflow": null,
            "overflow_x": null,
            "overflow_y": null,
            "padding": null,
            "right": null,
            "top": null,
            "visibility": null,
            "width": null
          }
        },
        "fe10d084efef4006b4bc349c7c00b9a4": {
          "model_module": "@jupyter-widgets/base",
          "model_module_version": "1.2.0",
          "model_name": "LayoutModel",
          "state": {
            "_model_module": "@jupyter-widgets/base",
            "_model_module_version": "1.2.0",
            "_model_name": "LayoutModel",
            "_view_count": null,
            "_view_module": "@jupyter-widgets/base",
            "_view_module_version": "1.2.0",
            "_view_name": "LayoutView",
            "align_content": null,
            "align_items": null,
            "align_self": null,
            "border": null,
            "bottom": null,
            "display": null,
            "flex": null,
            "flex_flow": null,
            "grid_area": null,
            "grid_auto_columns": null,
            "grid_auto_flow": null,
            "grid_auto_rows": null,
            "grid_column": null,
            "grid_gap": null,
            "grid_row": null,
            "grid_template_areas": null,
            "grid_template_columns": null,
            "grid_template_rows": null,
            "height": null,
            "justify_content": null,
            "justify_items": null,
            "left": null,
            "margin": null,
            "max_height": null,
            "max_width": null,
            "min_height": null,
            "min_width": null,
            "object_fit": null,
            "object_position": null,
            "order": null,
            "overflow": null,
            "overflow_x": null,
            "overflow_y": null,
            "padding": null,
            "right": null,
            "top": null,
            "visibility": null,
            "width": null
          }
        }
      }
    }
  },
  "nbformat": 4,
  "nbformat_minor": 0
}
